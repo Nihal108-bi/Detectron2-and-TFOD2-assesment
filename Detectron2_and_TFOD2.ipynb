{
  "nbformat": 4,
  "nbformat_minor": 0,
  "metadata": {
    "colab": {
      "provenance": [],
      "gpuType": "T4"
    },
    "kernelspec": {
      "name": "python3",
      "display_name": "Python 3"
    },
    "language_info": {
      "name": "python"
    },
    "accelerator": "GPU"
  },
  "cells": [
    {
      "cell_type": "markdown",
      "source": [
        "**1.What types of tasks does Detectron2 support?**"
      ],
      "metadata": {
        "id": "TFbk-f17rehl"
      }
    },
    {
      "cell_type": "markdown",
      "source": [
        "Ans:\n",
        "\n",
        "Detectron2, developed by Facebook AI, is a powerful and flexible library for computer vision tasks, particularly for object detection, segmentation, and similar tasks. It is built on PyTorch and supports a wide range of tasks, including:\n",
        "\n",
        "### 1. **Object Detection**\n",
        "   - Identifies objects in an image and provides bounding boxes around them.\n",
        "   - Examples:\n",
        "     - Detecting cars, pedestrians, or animals in images.\n",
        "     - Applications in autonomous vehicles and surveillance.\n",
        "\n",
        "### 2. **Instance Segmentation**\n",
        "   - Identifies individual objects in an image and segments (masks) their boundaries.\n",
        "   - Provides more granular information than object detection.\n",
        "   - Example:\n",
        "     - Differentiating overlapping objects like multiple people in a crowd.\n",
        "\n",
        "### 3. **Semantic Segmentation**\n",
        "   - Assigns a class label to each pixel in an image.\n",
        "   - Unlike instance segmentation, it does not differentiate between instances of the same class.\n",
        "   - Example:\n",
        "     - Separating road, sky, and buildings in urban scene images.\n",
        "\n",
        "### 4. **Panoptic Segmentation**\n",
        "   - Combines instance segmentation and semantic segmentation.\n",
        "   - Distinguishes individual objects (instances) while also assigning labels to background regions.\n",
        "   - Example:\n",
        "     - Identifying cars and pedestrians (instances) along with roads and sidewalks (background classes).\n",
        "\n",
        "### 5. **Keypoint Detection**\n",
        "   - Detects specific keypoints in objects, typically human body joints (pose estimation).\n",
        "   - Example:\n",
        "     - Identifying head, shoulders, elbows, and knees for activity recognition or AR applications.\n",
        "\n",
        "### 6. **DensePose Estimation**\n",
        "   - Maps every pixel of a human body in an image to its corresponding 3D surface coordinates.\n",
        "   - Example:\n",
        "     - Applications in virtual try-ons or motion capture systems.\n",
        "\n",
        "### 7. **Custom Tasks with Custom Models**\n",
        "   - Detectron2 allows users to fine-tune or create custom models for specific object detection or segmentation needs.\n",
        "   - Example:\n",
        "     - Detecting medical anomalies, unique industrial components, or wildlife species.\n",
        "\n",
        "### Why Detectron2 is Powerful:\n",
        "   - **High Flexibility:** It can be used with custom datasets, models, and tasks.\n",
        "   - **Pre-trained Models:** Provides a library of pre-trained models for common tasks.\n",
        "   - **Easy Customization:** Users can adjust layers, loss functions, and configurations.\n",
        "   - **Speed and Scalability:** Optimized for performance on GPUs."
      ],
      "metadata": {
        "id": "Vkt5l-NureeL"
      }
    },
    {
      "cell_type": "markdown",
      "source": [
        "**2.Why is data annotation important when training object detection models ?**"
      ],
      "metadata": {
        "id": "TRvntdPJreai"
      }
    },
    {
      "cell_type": "markdown",
      "source": [
        "Ans:\n",
        "\n",
        "Data annotation is crucial when training object detection models because it provides the labeled data needed for the model to learn and generalize to new, unseen data. In object detection, annotations are typically bounding boxes (and sometimes additional metadata) that specify the location and class of objects in an image. Here’s why data annotation is essential:\n",
        "\n",
        "---\n",
        "\n",
        "### 1. **Supervised Learning Requirement**\n",
        "   - Object detection models require labeled examples to learn the relationship between input data (images) and output predictions (object locations and classes).\n",
        "   - Without annotated data, the model has no reference for what constitutes a \"correct\" prediction.\n",
        "\n",
        "---\n",
        "\n",
        "### 2. **Training Accuracy**\n",
        "   - High-quality annotations ensure the model receives precise information about object locations and classes.\n",
        "   - Poorly annotated data (e.g., missing objects or inaccurate bounding boxes) can lead to:\n",
        "     - **Misleading signals** during training.\n",
        "     - **Reduced performance** in detecting objects in real-world scenarios.\n",
        "\n",
        "---\n",
        "\n",
        "### 3. **Class Balance and Diversity**\n",
        "   - Proper annotation ensures that all object classes are adequately represented.\n",
        "   - Annotating diverse examples (e.g., different angles, lighting conditions, or object occlusions) helps the model generalize better.\n",
        "\n",
        "---\n",
        "\n",
        "### 4. **Handling Multiple Tasks**\n",
        "   - Advanced annotations enable the training of models for complex tasks like:\n",
        "     - **Instance segmentation** (bounding boxes + pixel-level masks).\n",
        "     - **Keypoint detection** (specific landmarks on objects like human joints).\n",
        "\n",
        "---\n",
        "\n",
        "### 5. **Performance Metrics**\n",
        "   - Annotated data is essential for evaluating the model’s performance.\n",
        "   - Metrics like **IoU (Intersection over Union)** or **mAP (mean Average Precision)** compare predictions against the ground truth provided by annotations.\n",
        "\n",
        "---\n",
        "\n",
        "### 6. **Custom Applications**\n",
        "   - For domain-specific object detection (e.g., detecting defects in manufacturing, wildlife monitoring, or medical imaging), annotations tailored to the application ensure the model is trained on relevant and meaningful data.\n",
        "\n",
        "---\n",
        "\n",
        "### 7. **Iterative Model Improvement**\n",
        "   - Annotated data enables techniques like **active learning**, where the model identifies hard-to-predict samples, and these samples are annotated to improve the model iteratively.\n",
        "\n",
        "---\n",
        "\n",
        "### 8. **Generalization to Unseen Data**\n",
        "   - A well-annotated dataset reflects the diversity of real-world scenarios, improving the model's ability to handle edge cases and unseen situations."
      ],
      "metadata": {
        "id": "ECjhoLZxreX2"
      }
    },
    {
      "cell_type": "markdown",
      "source": [
        "**3.What is the purpose of pretrained weights in object detection models ?**"
      ],
      "metadata": {
        "id": "LuEzRqPmreP5"
      }
    },
    {
      "cell_type": "markdown",
      "source": [
        "ans:\n",
        "\n",
        "The purpose of pretrained weights in object detection models is to provide a strong starting point for training, reducing the computational cost, time, and data required to achieve good performance. Pretrained weights are the learned parameters of a model that has been previously trained on a large dataset (e.g., ImageNet, COCO). Here's why they are essential:\n",
        "\n",
        "---\n",
        "\n",
        "### 1. **Faster Convergence**\n",
        "   - Pretrained weights initialize the model with features already learned from a similar task, speeding up convergence during training.\n",
        "   - This avoids starting from random initialization, which requires more time and data to train effectively.\n",
        "\n",
        "---\n",
        "\n",
        "### 2. **Reduced Need for Large Datasets**\n",
        "   - Object detection tasks often require extensive labeled data, which can be expensive and time-consuming to create.\n",
        "   - Using pretrained weights allows the model to generalize well even with a smaller, domain-specific dataset.\n",
        "\n",
        "---\n",
        "\n",
        "### 3. **Transfer Learning**\n",
        "   - Pretrained weights capture generic features like edges, textures, and shapes, which are common across different datasets.\n",
        "   - These features can be fine-tuned to adapt to a specific task or dataset, such as detecting custom objects.\n",
        "\n",
        "---\n",
        "\n",
        "### 4. **Improved Performance**\n",
        "   - Models initialized with pretrained weights often achieve higher accuracy compared to training from scratch, especially when the target dataset is small or imbalanced.\n",
        "\n",
        "---\n",
        "\n",
        "### 5. **Solving Computational Bottlenecks**\n",
        "   - Training a model from scratch on large datasets like COCO or ImageNet requires significant computational resources.\n",
        "   - Pretrained weights eliminate the need to replicate this extensive training, making the process more accessible.\n",
        "\n",
        "---\n",
        "\n",
        "### 6. **Feature Reusability**\n",
        "   - Lower layers of object detection models learn generic features, while higher layers learn task-specific features.\n",
        "   - Pretrained weights ensure that the generic features are already well-tuned, allowing the model to focus on learning the specific nuances of the new task.\n",
        "\n",
        "---\n",
        "\n",
        "### 7. **Standardization and Benchmarking**\n",
        "   - Pretrained weights provide a standardized baseline for model performance, enabling consistent benchmarking across datasets and tasks.\n",
        "\n",
        "---\n",
        "\n",
        "### Common Scenarios Where Pretrained Weights are Used:\n",
        "1. **Custom Object Detection**: Fine-tuning a pretrained Faster R-CNN, YOLO, or RetinaNet model for domain-specific objects (e.g., medical imaging or industrial parts).\n",
        "2. **Few-shot Learning**: Training a model with limited labeled data by leveraging pretrained weights.\n",
        "3. **Transfer Across Domains**: Adapting a model trained on general datasets (e.g., COCO) to specialized domains (e.g., wildlife detection).\n"
      ],
      "metadata": {
        "id": "jC49IAPzreNg"
      }
    },
    {
      "cell_type": "markdown",
      "source": [
        "**4.How can you verify that Detectron2 was installed correctly**"
      ],
      "metadata": {
        "id": "40TCxaimreKy"
      }
    },
    {
      "cell_type": "markdown",
      "source": [
        "Ans:\n",
        "\n",
        "<>Import Detectron2\n",
        "\n",
        "import detectron2\n",
        "\n",
        "print(\"Detectron2 is successfully installed!\")\n",
        "\n",
        "<>Check Installed Version\n",
        "\n",
        "import detectron2\n",
        "\n",
        "print(detectron2.__version__)\n",
        "\n"
      ],
      "metadata": {
        "id": "GCiMueRGreH7"
      }
    },
    {
      "cell_type": "code",
      "source": [
        "\n",
        "pip install 'git+https://github.com/facebookresearch/detectron2.git'\n"
      ],
      "metadata": {
        "colab": {
          "base_uri": "https://localhost:8080/",
          "height": 1000
        },
        "id": "_7gO6zBc2rPh",
        "outputId": "90c0981f-7029-457d-ee78-533f0655b8b3"
      },
      "execution_count": 2,
      "outputs": [
        {
          "output_type": "stream",
          "name": "stdout",
          "text": [
            "Collecting git+https://github.com/facebookresearch/detectron2.git\n",
            "  Cloning https://github.com/facebookresearch/detectron2.git to /tmp/pip-req-build-afqmeojh\n",
            "  Running command git clone --filter=blob:none --quiet https://github.com/facebookresearch/detectron2.git /tmp/pip-req-build-afqmeojh\n",
            "  Resolved https://github.com/facebookresearch/detectron2.git to commit c69939aa85460e8135f40bce908a6cddaa73065f\n",
            "  Preparing metadata (setup.py) ... \u001b[?25l\u001b[?25hdone\n",
            "Requirement already satisfied: Pillow>=7.1 in /usr/local/lib/python3.10/dist-packages (from detectron2==0.6) (11.0.0)\n",
            "Requirement already satisfied: matplotlib in /usr/local/lib/python3.10/dist-packages (from detectron2==0.6) (3.8.0)\n",
            "Requirement already satisfied: pycocotools>=2.0.2 in /usr/local/lib/python3.10/dist-packages (from detectron2==0.6) (2.0.8)\n",
            "Requirement already satisfied: termcolor>=1.1 in /usr/local/lib/python3.10/dist-packages (from detectron2==0.6) (2.5.0)\n",
            "Collecting yacs>=0.1.8 (from detectron2==0.6)\n",
            "  Downloading yacs-0.1.8-py3-none-any.whl.metadata (639 bytes)\n",
            "Requirement already satisfied: tabulate in /usr/local/lib/python3.10/dist-packages (from detectron2==0.6) (0.9.0)\n",
            "Requirement already satisfied: cloudpickle in /usr/local/lib/python3.10/dist-packages (from detectron2==0.6) (3.1.0)\n",
            "Requirement already satisfied: tqdm>4.29.0 in /usr/local/lib/python3.10/dist-packages (from detectron2==0.6) (4.66.6)\n",
            "Requirement already satisfied: tensorboard in /usr/local/lib/python3.10/dist-packages (from detectron2==0.6) (2.17.1)\n",
            "Collecting fvcore<0.1.6,>=0.1.5 (from detectron2==0.6)\n",
            "  Downloading fvcore-0.1.5.post20221221.tar.gz (50 kB)\n",
            "\u001b[2K     \u001b[90m━━━━━━━━━━━━━━━━━━━━━━━━━━━━━━━━━━━━━━━━\u001b[0m \u001b[32m50.2/50.2 kB\u001b[0m \u001b[31m2.8 MB/s\u001b[0m eta \u001b[36m0:00:00\u001b[0m\n",
            "\u001b[?25h  Preparing metadata (setup.py) ... \u001b[?25l\u001b[?25hdone\n",
            "Collecting iopath<0.1.10,>=0.1.7 (from detectron2==0.6)\n",
            "  Downloading iopath-0.1.9-py3-none-any.whl.metadata (370 bytes)\n",
            "Collecting omegaconf<2.4,>=2.1 (from detectron2==0.6)\n",
            "  Downloading omegaconf-2.3.0-py3-none-any.whl.metadata (3.9 kB)\n",
            "Collecting hydra-core>=1.1 (from detectron2==0.6)\n",
            "  Downloading hydra_core-1.3.2-py3-none-any.whl.metadata (5.5 kB)\n",
            "Collecting black (from detectron2==0.6)\n",
            "  Downloading black-24.10.0-cp310-cp310-manylinux_2_17_x86_64.manylinux2014_x86_64.manylinux_2_28_x86_64.whl.metadata (79 kB)\n",
            "\u001b[2K     \u001b[90m━━━━━━━━━━━━━━━━━━━━━━━━━━━━━━━━━━━━━━━━\u001b[0m \u001b[32m79.2/79.2 kB\u001b[0m \u001b[31m5.1 MB/s\u001b[0m eta \u001b[36m0:00:00\u001b[0m\n",
            "\u001b[?25hRequirement already satisfied: packaging in /usr/local/lib/python3.10/dist-packages (from detectron2==0.6) (24.2)\n",
            "Requirement already satisfied: numpy in /usr/local/lib/python3.10/dist-packages (from fvcore<0.1.6,>=0.1.5->detectron2==0.6) (1.26.4)\n",
            "Requirement already satisfied: pyyaml>=5.1 in /usr/local/lib/python3.10/dist-packages (from fvcore<0.1.6,>=0.1.5->detectron2==0.6) (6.0.2)\n",
            "Collecting antlr4-python3-runtime==4.9.* (from hydra-core>=1.1->detectron2==0.6)\n",
            "  Downloading antlr4-python3-runtime-4.9.3.tar.gz (117 kB)\n",
            "\u001b[2K     \u001b[90m━━━━━━━━━━━━━━━━━━━━━━━━━━━━━━━━━━━━━━━━\u001b[0m \u001b[32m117.0/117.0 kB\u001b[0m \u001b[31m10.6 MB/s\u001b[0m eta \u001b[36m0:00:00\u001b[0m\n",
            "\u001b[?25h  Preparing metadata (setup.py) ... \u001b[?25l\u001b[?25hdone\n",
            "Collecting portalocker (from iopath<0.1.10,>=0.1.7->detectron2==0.6)\n",
            "  Downloading portalocker-3.0.0-py3-none-any.whl.metadata (8.5 kB)\n",
            "Requirement already satisfied: contourpy>=1.0.1 in /usr/local/lib/python3.10/dist-packages (from matplotlib->detectron2==0.6) (1.3.1)\n",
            "Requirement already satisfied: cycler>=0.10 in /usr/local/lib/python3.10/dist-packages (from matplotlib->detectron2==0.6) (0.12.1)\n",
            "Requirement already satisfied: fonttools>=4.22.0 in /usr/local/lib/python3.10/dist-packages (from matplotlib->detectron2==0.6) (4.55.3)\n",
            "Requirement already satisfied: kiwisolver>=1.0.1 in /usr/local/lib/python3.10/dist-packages (from matplotlib->detectron2==0.6) (1.4.7)\n",
            "Requirement already satisfied: pyparsing>=2.3.1 in /usr/local/lib/python3.10/dist-packages (from matplotlib->detectron2==0.6) (3.2.0)\n",
            "Requirement already satisfied: python-dateutil>=2.7 in /usr/local/lib/python3.10/dist-packages (from matplotlib->detectron2==0.6) (2.8.2)\n",
            "Requirement already satisfied: click>=8.0.0 in /usr/local/lib/python3.10/dist-packages (from black->detectron2==0.6) (8.1.7)\n",
            "Collecting mypy-extensions>=0.4.3 (from black->detectron2==0.6)\n",
            "  Downloading mypy_extensions-1.0.0-py3-none-any.whl.metadata (1.1 kB)\n",
            "Collecting pathspec>=0.9.0 (from black->detectron2==0.6)\n",
            "  Downloading pathspec-0.12.1-py3-none-any.whl.metadata (21 kB)\n",
            "Requirement already satisfied: platformdirs>=2 in /usr/local/lib/python3.10/dist-packages (from black->detectron2==0.6) (4.3.6)\n",
            "Requirement already satisfied: tomli>=1.1.0 in /usr/local/lib/python3.10/dist-packages (from black->detectron2==0.6) (2.2.1)\n",
            "Requirement already satisfied: typing-extensions>=4.0.1 in /usr/local/lib/python3.10/dist-packages (from black->detectron2==0.6) (4.12.2)\n",
            "Requirement already satisfied: absl-py>=0.4 in /usr/local/lib/python3.10/dist-packages (from tensorboard->detectron2==0.6) (1.4.0)\n",
            "Requirement already satisfied: grpcio>=1.48.2 in /usr/local/lib/python3.10/dist-packages (from tensorboard->detectron2==0.6) (1.68.1)\n",
            "Requirement already satisfied: markdown>=2.6.8 in /usr/local/lib/python3.10/dist-packages (from tensorboard->detectron2==0.6) (3.7)\n",
            "Requirement already satisfied: protobuf!=4.24.0,>=3.19.6 in /usr/local/lib/python3.10/dist-packages (from tensorboard->detectron2==0.6) (4.25.5)\n",
            "Requirement already satisfied: setuptools>=41.0.0 in /usr/local/lib/python3.10/dist-packages (from tensorboard->detectron2==0.6) (75.1.0)\n",
            "Requirement already satisfied: six>1.9 in /usr/local/lib/python3.10/dist-packages (from tensorboard->detectron2==0.6) (1.17.0)\n",
            "Requirement already satisfied: tensorboard-data-server<0.8.0,>=0.7.0 in /usr/local/lib/python3.10/dist-packages (from tensorboard->detectron2==0.6) (0.7.2)\n",
            "Requirement already satisfied: werkzeug>=1.0.1 in /usr/local/lib/python3.10/dist-packages (from tensorboard->detectron2==0.6) (3.1.3)\n",
            "Requirement already satisfied: MarkupSafe>=2.1.1 in /usr/local/lib/python3.10/dist-packages (from werkzeug>=1.0.1->tensorboard->detectron2==0.6) (3.0.2)\n",
            "Downloading hydra_core-1.3.2-py3-none-any.whl (154 kB)\n",
            "\u001b[2K   \u001b[90m━━━━━━━━━━━━━━━━━━━━━━━━━━━━━━━━━━━━━━━━\u001b[0m \u001b[32m154.5/154.5 kB\u001b[0m \u001b[31m13.9 MB/s\u001b[0m eta \u001b[36m0:00:00\u001b[0m\n",
            "\u001b[?25hDownloading iopath-0.1.9-py3-none-any.whl (27 kB)\n",
            "Downloading omegaconf-2.3.0-py3-none-any.whl (79 kB)\n",
            "\u001b[2K   \u001b[90m━━━━━━━━━━━━━━━━━━━━━━━━━━━━━━━━━━━━━━━━\u001b[0m \u001b[32m79.5/79.5 kB\u001b[0m \u001b[31m7.1 MB/s\u001b[0m eta \u001b[36m0:00:00\u001b[0m\n",
            "\u001b[?25hDownloading yacs-0.1.8-py3-none-any.whl (14 kB)\n",
            "Downloading black-24.10.0-cp310-cp310-manylinux_2_17_x86_64.manylinux2014_x86_64.manylinux_2_28_x86_64.whl (1.8 MB)\n",
            "\u001b[2K   \u001b[90m━━━━━━━━━━━━━━━━━━━━━━━━━━━━━━━━━━━━━━━━\u001b[0m \u001b[32m1.8/1.8 MB\u001b[0m \u001b[31m48.0 MB/s\u001b[0m eta \u001b[36m0:00:00\u001b[0m\n",
            "\u001b[?25hDownloading mypy_extensions-1.0.0-py3-none-any.whl (4.7 kB)\n",
            "Downloading pathspec-0.12.1-py3-none-any.whl (31 kB)\n",
            "Downloading portalocker-3.0.0-py3-none-any.whl (19 kB)\n",
            "Building wheels for collected packages: detectron2, fvcore, antlr4-python3-runtime\n",
            "  Building wheel for detectron2 (setup.py) ... \u001b[?25l\u001b[?25hdone\n",
            "  Created wheel for detectron2: filename=detectron2-0.6-cp310-cp310-linux_x86_64.whl size=6355044 sha256=72add4111dd3a75554afddd96ad19deb3d0cbabf0ffb3613c6644aefc104cad0\n",
            "  Stored in directory: /tmp/pip-ephem-wheel-cache-lzd4350x/wheels/47/e5/15/94c80df2ba85500c5d76599cc307c0a7079d0e221bb6fc4375\n",
            "  Building wheel for fvcore (setup.py) ... \u001b[?25l\u001b[?25hdone\n",
            "  Created wheel for fvcore: filename=fvcore-0.1.5.post20221221-py3-none-any.whl size=61396 sha256=db49961340820f9f4e189e1c4814d1564243da8aefa53f3cda8c7d4968ee0ab3\n",
            "  Stored in directory: /root/.cache/pip/wheels/01/c0/af/77c1cf53a1be9e42a52b48e5af2169d40ec2e89f7362489dd0\n",
            "  Building wheel for antlr4-python3-runtime (setup.py) ... \u001b[?25l\u001b[?25hdone\n",
            "  Created wheel for antlr4-python3-runtime: filename=antlr4_python3_runtime-4.9.3-py3-none-any.whl size=144555 sha256=76818e2830b8da40840e81715a9dc9922430e58b76285f946c25aa3b2437353a\n",
            "  Stored in directory: /root/.cache/pip/wheels/12/93/dd/1f6a127edc45659556564c5730f6d4e300888f4bca2d4c5a88\n",
            "Successfully built detectron2 fvcore antlr4-python3-runtime\n",
            "Installing collected packages: antlr4-python3-runtime, yacs, portalocker, pathspec, omegaconf, mypy-extensions, iopath, hydra-core, black, fvcore, detectron2\n",
            "Successfully installed antlr4-python3-runtime-4.9.3 black-24.10.0 detectron2-0.6 fvcore-0.1.5.post20221221 hydra-core-1.3.2 iopath-0.1.9 mypy-extensions-1.0.0 omegaconf-2.3.0 pathspec-0.12.1 portalocker-3.0.0 yacs-0.1.8\n"
          ]
        },
        {
          "output_type": "display_data",
          "data": {
            "application/vnd.colab-display-data+json": {
              "pip_warning": {
                "packages": [
                  "pydevd_plugins"
                ]
              },
              "id": "f61dd9676d06477a83449b436a182245"
            }
          },
          "metadata": {}
        }
      ]
    },
    {
      "cell_type": "code",
      "source": [
        "import detectron2\n",
        "print(detectron2.__version__)\n"
      ],
      "metadata": {
        "colab": {
          "base_uri": "https://localhost:8080/"
        },
        "id": "n__oFu2h1eaB",
        "outputId": "a4d222a0-c7ae-4331-e3d7-05bfca97b078"
      },
      "execution_count": 1,
      "outputs": [
        {
          "output_type": "stream",
          "name": "stdout",
          "text": [
            "0.6\n"
          ]
        }
      ]
    },
    {
      "cell_type": "code",
      "source": [
        "import torch\n",
        "from detectron2.engine import DefaultPredictor\n",
        "from detectron2.config import get_cfg\n",
        "from detectron2.utils.visualizer import Visualizer\n",
        "from detectron2.data import MetadataCatalog\n",
        "import cv2\n",
        "\n",
        "# Load a sample image\n",
        "sample_image = cv2.imread(\"/content/unnamed.png\")\n",
        "\n",
        "# Set up configuration\n",
        "cfg = get_cfg()\n",
        "cfg.MODEL.DEVICE = \"cpu\"  # Use \"cuda\" for GPU\n",
        "cfg.merge_from_file(\"detectron2/configs/COCO-Detection/faster_rcnn_R_50_FPN_3x.yaml\")\n",
        "cfg.MODEL.WEIGHTS = \"https://github.com/facebookresearch/detectron2/blob/main/MODEL_ZOO.md/faster_rcnn_R_50_FPN_3x/137849600/model_final_280758.pkl\"\n",
        "cfg.MODEL.ROI_HEADS.SCORE_THRESH_TEST = 0.5\n",
        "\n",
        "# Run the predictor\n",
        "predictor = DefaultPredictor(cfg)\n",
        "outputs = predictor(sample_image)\n",
        "\n",
        "# Print prediction results\n",
        "print(outputs[\"instances\"])\n"
      ],
      "metadata": {
        "id": "YltnohSy37F8",
        "outputId": "7ca3fa35-853a-47fa-97f9-ffbcbb8a088a",
        "colab": {
          "base_uri": "https://localhost:8080/",
          "height": 373
        }
      },
      "execution_count": null,
      "outputs": [
        {
          "output_type": "error",
          "ename": "AttributeError",
          "evalue": "partially initialized module 'torch._dynamo' has no attribute 'config' (most likely due to a circular import)",
          "traceback": [
            "\u001b[0;31m---------------------------------------------------------------------------\u001b[0m",
            "\u001b[0;31mAttributeError\u001b[0m                            Traceback (most recent call last)",
            "\u001b[0;32m<ipython-input-3-8c95339dd83d>\u001b[0m in \u001b[0;36m<cell line: 2>\u001b[0;34m()\u001b[0m\n\u001b[1;32m      1\u001b[0m \u001b[0;32mimport\u001b[0m \u001b[0mtorch\u001b[0m\u001b[0;34m\u001b[0m\u001b[0;34m\u001b[0m\u001b[0m\n\u001b[0;32m----> 2\u001b[0;31m \u001b[0;32mfrom\u001b[0m \u001b[0mdetectron2\u001b[0m\u001b[0;34m.\u001b[0m\u001b[0mengine\u001b[0m \u001b[0;32mimport\u001b[0m \u001b[0mDefaultPredictor\u001b[0m\u001b[0;34m\u001b[0m\u001b[0;34m\u001b[0m\u001b[0m\n\u001b[0m\u001b[1;32m      3\u001b[0m \u001b[0;32mfrom\u001b[0m \u001b[0mdetectron2\u001b[0m\u001b[0;34m.\u001b[0m\u001b[0mconfig\u001b[0m \u001b[0;32mimport\u001b[0m \u001b[0mget_cfg\u001b[0m\u001b[0;34m\u001b[0m\u001b[0;34m\u001b[0m\u001b[0m\n\u001b[1;32m      4\u001b[0m \u001b[0;32mfrom\u001b[0m \u001b[0mdetectron2\u001b[0m\u001b[0;34m.\u001b[0m\u001b[0mutils\u001b[0m\u001b[0;34m.\u001b[0m\u001b[0mvisualizer\u001b[0m \u001b[0;32mimport\u001b[0m \u001b[0mVisualizer\u001b[0m\u001b[0;34m\u001b[0m\u001b[0;34m\u001b[0m\u001b[0m\n\u001b[1;32m      5\u001b[0m \u001b[0;32mfrom\u001b[0m \u001b[0mdetectron2\u001b[0m\u001b[0;34m.\u001b[0m\u001b[0mdata\u001b[0m \u001b[0;32mimport\u001b[0m \u001b[0mMetadataCatalog\u001b[0m\u001b[0;34m\u001b[0m\u001b[0;34m\u001b[0m\u001b[0m\n",
            "\u001b[0;32m/usr/local/lib/python3.10/dist-packages/detectron2/engine/__init__.py\u001b[0m in \u001b[0;36m<module>\u001b[0;34m\u001b[0m\n\u001b[1;32m      9\u001b[0m \u001b[0;31m# prefer to let hooks and defaults live in separate namespaces (therefore not in __all__)\u001b[0m\u001b[0;34m\u001b[0m\u001b[0;34m\u001b[0m\u001b[0m\n\u001b[1;32m     10\u001b[0m \u001b[0;31m# but still make them available here\u001b[0m\u001b[0;34m\u001b[0m\u001b[0;34m\u001b[0m\u001b[0m\n\u001b[0;32m---> 11\u001b[0;31m \u001b[0;32mfrom\u001b[0m \u001b[0;34m.\u001b[0m\u001b[0mhooks\u001b[0m \u001b[0;32mimport\u001b[0m \u001b[0;34m*\u001b[0m\u001b[0;34m\u001b[0m\u001b[0;34m\u001b[0m\u001b[0m\n\u001b[0m\u001b[1;32m     12\u001b[0m from .defaults import (\n\u001b[1;32m     13\u001b[0m     \u001b[0mcreate_ddp_model\u001b[0m\u001b[0;34m,\u001b[0m\u001b[0;34m\u001b[0m\u001b[0;34m\u001b[0m\u001b[0m\n",
            "\u001b[0;32m/usr/local/lib/python3.10/dist-packages/detectron2/engine/hooks.py\u001b[0m in \u001b[0;36m<module>\u001b[0;34m\u001b[0m\n\u001b[1;32m     20\u001b[0m \u001b[0;34m\u001b[0m\u001b[0m\n\u001b[1;32m     21\u001b[0m \u001b[0;32mimport\u001b[0m \u001b[0mdetectron2\u001b[0m\u001b[0;34m.\u001b[0m\u001b[0mutils\u001b[0m\u001b[0;34m.\u001b[0m\u001b[0mcomm\u001b[0m \u001b[0;32mas\u001b[0m \u001b[0mcomm\u001b[0m\u001b[0;34m\u001b[0m\u001b[0;34m\u001b[0m\u001b[0m\n\u001b[0;32m---> 22\u001b[0;31m \u001b[0;32mfrom\u001b[0m \u001b[0mdetectron2\u001b[0m\u001b[0;34m.\u001b[0m\u001b[0mevaluation\u001b[0m\u001b[0;34m.\u001b[0m\u001b[0mtesting\u001b[0m \u001b[0;32mimport\u001b[0m \u001b[0mflatten_results_dict\u001b[0m\u001b[0;34m\u001b[0m\u001b[0;34m\u001b[0m\u001b[0m\n\u001b[0m\u001b[1;32m     23\u001b[0m \u001b[0;32mfrom\u001b[0m \u001b[0mdetectron2\u001b[0m\u001b[0;34m.\u001b[0m\u001b[0msolver\u001b[0m \u001b[0;32mimport\u001b[0m \u001b[0mLRMultiplier\u001b[0m\u001b[0;34m\u001b[0m\u001b[0;34m\u001b[0m\u001b[0m\n\u001b[1;32m     24\u001b[0m \u001b[0;32mfrom\u001b[0m \u001b[0mdetectron2\u001b[0m\u001b[0;34m.\u001b[0m\u001b[0msolver\u001b[0m \u001b[0;32mimport\u001b[0m \u001b[0mLRScheduler\u001b[0m \u001b[0;32mas\u001b[0m \u001b[0m_LRScheduler\u001b[0m\u001b[0;34m\u001b[0m\u001b[0;34m\u001b[0m\u001b[0m\n",
            "\u001b[0;32m/usr/local/lib/python3.10/dist-packages/detectron2/evaluation/__init__.py\u001b[0m in \u001b[0;36m<module>\u001b[0;34m\u001b[0m\n\u001b[1;32m      1\u001b[0m \u001b[0;31m# Copyright (c) Facebook, Inc. and its affiliates.\u001b[0m\u001b[0;34m\u001b[0m\u001b[0;34m\u001b[0m\u001b[0m\n\u001b[0;32m----> 2\u001b[0;31m \u001b[0;32mfrom\u001b[0m \u001b[0;34m.\u001b[0m\u001b[0mcityscapes_evaluation\u001b[0m \u001b[0;32mimport\u001b[0m \u001b[0mCityscapesInstanceEvaluator\u001b[0m\u001b[0;34m,\u001b[0m \u001b[0mCityscapesSemSegEvaluator\u001b[0m\u001b[0;34m\u001b[0m\u001b[0;34m\u001b[0m\u001b[0m\n\u001b[0m\u001b[1;32m      3\u001b[0m \u001b[0;32mfrom\u001b[0m \u001b[0;34m.\u001b[0m\u001b[0mcoco_evaluation\u001b[0m \u001b[0;32mimport\u001b[0m \u001b[0mCOCOEvaluator\u001b[0m\u001b[0;34m\u001b[0m\u001b[0;34m\u001b[0m\u001b[0m\n\u001b[1;32m      4\u001b[0m \u001b[0;32mfrom\u001b[0m \u001b[0;34m.\u001b[0m\u001b[0mrotated_coco_evaluation\u001b[0m \u001b[0;32mimport\u001b[0m \u001b[0mRotatedCOCOEvaluator\u001b[0m\u001b[0;34m\u001b[0m\u001b[0;34m\u001b[0m\u001b[0m\n\u001b[1;32m      5\u001b[0m \u001b[0;32mfrom\u001b[0m \u001b[0;34m.\u001b[0m\u001b[0mevaluator\u001b[0m \u001b[0;32mimport\u001b[0m \u001b[0mDatasetEvaluator\u001b[0m\u001b[0;34m,\u001b[0m \u001b[0mDatasetEvaluators\u001b[0m\u001b[0;34m,\u001b[0m \u001b[0minference_context\u001b[0m\u001b[0;34m,\u001b[0m \u001b[0minference_on_dataset\u001b[0m\u001b[0;34m\u001b[0m\u001b[0;34m\u001b[0m\u001b[0m\n",
            "\u001b[0;32m/usr/local/lib/python3.10/dist-packages/detectron2/evaluation/cityscapes_evaluation.py\u001b[0m in \u001b[0;36m<module>\u001b[0;34m\u001b[0m\n\u001b[1;32m      9\u001b[0m \u001b[0;32mfrom\u001b[0m \u001b[0mPIL\u001b[0m \u001b[0;32mimport\u001b[0m \u001b[0mImage\u001b[0m\u001b[0;34m\u001b[0m\u001b[0;34m\u001b[0m\u001b[0m\n\u001b[1;32m     10\u001b[0m \u001b[0;34m\u001b[0m\u001b[0m\n\u001b[0;32m---> 11\u001b[0;31m \u001b[0;32mfrom\u001b[0m \u001b[0mdetectron2\u001b[0m\u001b[0;34m.\u001b[0m\u001b[0mdata\u001b[0m \u001b[0;32mimport\u001b[0m \u001b[0mMetadataCatalog\u001b[0m\u001b[0;34m\u001b[0m\u001b[0;34m\u001b[0m\u001b[0m\n\u001b[0m\u001b[1;32m     12\u001b[0m \u001b[0;32mfrom\u001b[0m \u001b[0mdetectron2\u001b[0m\u001b[0;34m.\u001b[0m\u001b[0mutils\u001b[0m \u001b[0;32mimport\u001b[0m \u001b[0mcomm\u001b[0m\u001b[0;34m\u001b[0m\u001b[0;34m\u001b[0m\u001b[0m\n\u001b[1;32m     13\u001b[0m \u001b[0;32mfrom\u001b[0m \u001b[0mdetectron2\u001b[0m\u001b[0;34m.\u001b[0m\u001b[0mutils\u001b[0m\u001b[0;34m.\u001b[0m\u001b[0mfile_io\u001b[0m \u001b[0;32mimport\u001b[0m \u001b[0mPathManager\u001b[0m\u001b[0;34m\u001b[0m\u001b[0;34m\u001b[0m\u001b[0m\n",
            "\u001b[0;32m/usr/local/lib/python3.10/dist-packages/detectron2/data/__init__.py\u001b[0m in \u001b[0;36m<module>\u001b[0;34m\u001b[0m\n\u001b[1;32m      1\u001b[0m \u001b[0;31m# Copyright (c) Facebook, Inc. and its affiliates.\u001b[0m\u001b[0;34m\u001b[0m\u001b[0;34m\u001b[0m\u001b[0m\n\u001b[0;32m----> 2\u001b[0;31m \u001b[0;32mfrom\u001b[0m \u001b[0;34m.\u001b[0m \u001b[0;32mimport\u001b[0m \u001b[0mtransforms\u001b[0m  \u001b[0;31m# isort:skip\u001b[0m\u001b[0;34m\u001b[0m\u001b[0;34m\u001b[0m\u001b[0m\n\u001b[0m\u001b[1;32m      3\u001b[0m \u001b[0;34m\u001b[0m\u001b[0m\n\u001b[1;32m      4\u001b[0m from .build import (\n\u001b[1;32m      5\u001b[0m     \u001b[0mbuild_batch_data_loader\u001b[0m\u001b[0;34m,\u001b[0m\u001b[0;34m\u001b[0m\u001b[0;34m\u001b[0m\u001b[0m\n",
            "\u001b[0;32m/usr/local/lib/python3.10/dist-packages/detectron2/data/transforms/__init__.py\u001b[0m in \u001b[0;36m<module>\u001b[0;34m\u001b[0m\n\u001b[1;32m      4\u001b[0m \u001b[0;32mfrom\u001b[0m \u001b[0;34m.\u001b[0m\u001b[0mtransform\u001b[0m \u001b[0;32mimport\u001b[0m \u001b[0;34m*\u001b[0m\u001b[0;34m\u001b[0m\u001b[0;34m\u001b[0m\u001b[0m\n\u001b[1;32m      5\u001b[0m \u001b[0;32mfrom\u001b[0m \u001b[0;34m.\u001b[0m\u001b[0maugmentation\u001b[0m \u001b[0;32mimport\u001b[0m \u001b[0;34m*\u001b[0m\u001b[0;34m\u001b[0m\u001b[0;34m\u001b[0m\u001b[0m\n\u001b[0;32m----> 6\u001b[0;31m \u001b[0;32mfrom\u001b[0m \u001b[0;34m.\u001b[0m\u001b[0maugmentation_impl\u001b[0m \u001b[0;32mimport\u001b[0m \u001b[0;34m*\u001b[0m\u001b[0;34m\u001b[0m\u001b[0;34m\u001b[0m\u001b[0m\n\u001b[0m\u001b[1;32m      7\u001b[0m \u001b[0;34m\u001b[0m\u001b[0m\n\u001b[1;32m      8\u001b[0m \u001b[0m__all__\u001b[0m \u001b[0;34m=\u001b[0m \u001b[0;34m[\u001b[0m\u001b[0mk\u001b[0m \u001b[0;32mfor\u001b[0m \u001b[0mk\u001b[0m \u001b[0;32min\u001b[0m \u001b[0mglobals\u001b[0m\u001b[0;34m(\u001b[0m\u001b[0;34m)\u001b[0m\u001b[0;34m.\u001b[0m\u001b[0mkeys\u001b[0m\u001b[0;34m(\u001b[0m\u001b[0;34m)\u001b[0m \u001b[0;32mif\u001b[0m \u001b[0;32mnot\u001b[0m \u001b[0mk\u001b[0m\u001b[0;34m.\u001b[0m\u001b[0mstartswith\u001b[0m\u001b[0;34m(\u001b[0m\u001b[0;34m\"_\"\u001b[0m\u001b[0;34m)\u001b[0m\u001b[0;34m]\u001b[0m\u001b[0;34m\u001b[0m\u001b[0;34m\u001b[0m\u001b[0m\n",
            "\u001b[0;32m/usr/local/lib/python3.10/dist-packages/detectron2/data/transforms/augmentation_impl.py\u001b[0m in \u001b[0;36m<module>\u001b[0;34m\u001b[0m\n\u001b[1;32m     21\u001b[0m \u001b[0;32mfrom\u001b[0m \u001b[0mPIL\u001b[0m \u001b[0;32mimport\u001b[0m \u001b[0mImage\u001b[0m\u001b[0;34m\u001b[0m\u001b[0;34m\u001b[0m\u001b[0m\n\u001b[1;32m     22\u001b[0m \u001b[0;34m\u001b[0m\u001b[0m\n\u001b[0;32m---> 23\u001b[0;31m \u001b[0;32mfrom\u001b[0m \u001b[0mdetectron2\u001b[0m\u001b[0;34m.\u001b[0m\u001b[0mstructures\u001b[0m \u001b[0;32mimport\u001b[0m \u001b[0mBoxes\u001b[0m\u001b[0;34m,\u001b[0m \u001b[0mpairwise_iou\u001b[0m\u001b[0;34m\u001b[0m\u001b[0;34m\u001b[0m\u001b[0m\n\u001b[0m\u001b[1;32m     24\u001b[0m \u001b[0;34m\u001b[0m\u001b[0m\n\u001b[1;32m     25\u001b[0m \u001b[0;32mfrom\u001b[0m \u001b[0;34m.\u001b[0m\u001b[0maugmentation\u001b[0m \u001b[0;32mimport\u001b[0m \u001b[0mAugmentation\u001b[0m\u001b[0;34m,\u001b[0m \u001b[0m_transform_to_aug\u001b[0m\u001b[0;34m\u001b[0m\u001b[0;34m\u001b[0m\u001b[0m\n",
            "\u001b[0;32m/usr/local/lib/python3.10/dist-packages/detectron2/structures/__init__.py\u001b[0m in \u001b[0;36m<module>\u001b[0;34m\u001b[0m\n\u001b[1;32m      5\u001b[0m \u001b[0;32mfrom\u001b[0m \u001b[0;34m.\u001b[0m\u001b[0minstances\u001b[0m \u001b[0;32mimport\u001b[0m \u001b[0mInstances\u001b[0m\u001b[0;34m\u001b[0m\u001b[0;34m\u001b[0m\u001b[0m\n\u001b[1;32m      6\u001b[0m \u001b[0;32mfrom\u001b[0m \u001b[0;34m.\u001b[0m\u001b[0mkeypoints\u001b[0m \u001b[0;32mimport\u001b[0m \u001b[0mKeypoints\u001b[0m\u001b[0;34m,\u001b[0m \u001b[0mheatmaps_to_keypoints\u001b[0m\u001b[0;34m\u001b[0m\u001b[0;34m\u001b[0m\u001b[0m\n\u001b[0;32m----> 7\u001b[0;31m \u001b[0;32mfrom\u001b[0m \u001b[0;34m.\u001b[0m\u001b[0mmasks\u001b[0m \u001b[0;32mimport\u001b[0m \u001b[0mBitMasks\u001b[0m\u001b[0;34m,\u001b[0m \u001b[0mPolygonMasks\u001b[0m\u001b[0;34m,\u001b[0m \u001b[0mpolygons_to_bitmask\u001b[0m\u001b[0;34m,\u001b[0m \u001b[0mROIMasks\u001b[0m\u001b[0;34m\u001b[0m\u001b[0;34m\u001b[0m\u001b[0m\n\u001b[0m\u001b[1;32m      8\u001b[0m \u001b[0;32mfrom\u001b[0m \u001b[0;34m.\u001b[0m\u001b[0mrotated_boxes\u001b[0m \u001b[0;32mimport\u001b[0m \u001b[0mRotatedBoxes\u001b[0m\u001b[0;34m\u001b[0m\u001b[0;34m\u001b[0m\u001b[0m\n\u001b[1;32m      9\u001b[0m \u001b[0;32mfrom\u001b[0m \u001b[0;34m.\u001b[0m\u001b[0mrotated_boxes\u001b[0m \u001b[0;32mimport\u001b[0m \u001b[0mpairwise_iou\u001b[0m \u001b[0;32mas\u001b[0m \u001b[0mpairwise_iou_rotated\u001b[0m\u001b[0;34m\u001b[0m\u001b[0;34m\u001b[0m\u001b[0m\n",
            "\u001b[0;32m/usr/local/lib/python3.10/dist-packages/detectron2/structures/masks.py\u001b[0m in \u001b[0;36m<module>\u001b[0;34m\u001b[0m\n\u001b[1;32m      8\u001b[0m \u001b[0;32mfrom\u001b[0m \u001b[0mtorch\u001b[0m \u001b[0;32mimport\u001b[0m \u001b[0mdevice\u001b[0m\u001b[0;34m\u001b[0m\u001b[0;34m\u001b[0m\u001b[0m\n\u001b[1;32m      9\u001b[0m \u001b[0;34m\u001b[0m\u001b[0m\n\u001b[0;32m---> 10\u001b[0;31m \u001b[0;32mfrom\u001b[0m \u001b[0mdetectron2\u001b[0m\u001b[0;34m.\u001b[0m\u001b[0mlayers\u001b[0m\u001b[0;34m.\u001b[0m\u001b[0mroi_align\u001b[0m \u001b[0;32mimport\u001b[0m \u001b[0mROIAlign\u001b[0m\u001b[0;34m\u001b[0m\u001b[0;34m\u001b[0m\u001b[0m\n\u001b[0m\u001b[1;32m     11\u001b[0m \u001b[0;32mfrom\u001b[0m \u001b[0mdetectron2\u001b[0m\u001b[0;34m.\u001b[0m\u001b[0mutils\u001b[0m\u001b[0;34m.\u001b[0m\u001b[0mmemory\u001b[0m \u001b[0;32mimport\u001b[0m \u001b[0mretry_if_cuda_oom\u001b[0m\u001b[0;34m\u001b[0m\u001b[0;34m\u001b[0m\u001b[0m\n\u001b[1;32m     12\u001b[0m \u001b[0;34m\u001b[0m\u001b[0m\n",
            "\u001b[0;32m/usr/local/lib/python3.10/dist-packages/detectron2/layers/__init__.py\u001b[0m in \u001b[0;36m<module>\u001b[0;34m\u001b[0m\n\u001b[1;32m      1\u001b[0m \u001b[0;31m# Copyright (c) Facebook, Inc. and its affiliates.\u001b[0m\u001b[0;34m\u001b[0m\u001b[0;34m\u001b[0m\u001b[0m\n\u001b[1;32m      2\u001b[0m \u001b[0;32mfrom\u001b[0m \u001b[0;34m.\u001b[0m\u001b[0mbatch_norm\u001b[0m \u001b[0;32mimport\u001b[0m \u001b[0mFrozenBatchNorm2d\u001b[0m\u001b[0;34m,\u001b[0m \u001b[0mget_norm\u001b[0m\u001b[0;34m,\u001b[0m \u001b[0mNaiveSyncBatchNorm\u001b[0m\u001b[0;34m,\u001b[0m \u001b[0mCycleBatchNormList\u001b[0m\u001b[0;34m\u001b[0m\u001b[0;34m\u001b[0m\u001b[0m\n\u001b[0;32m----> 3\u001b[0;31m \u001b[0;32mfrom\u001b[0m \u001b[0;34m.\u001b[0m\u001b[0mdeform_conv\u001b[0m \u001b[0;32mimport\u001b[0m \u001b[0mDeformConv\u001b[0m\u001b[0;34m,\u001b[0m \u001b[0mModulatedDeformConv\u001b[0m\u001b[0;34m\u001b[0m\u001b[0;34m\u001b[0m\u001b[0m\n\u001b[0m\u001b[1;32m      4\u001b[0m \u001b[0;32mfrom\u001b[0m \u001b[0;34m.\u001b[0m\u001b[0mmask_ops\u001b[0m \u001b[0;32mimport\u001b[0m \u001b[0mpaste_masks_in_image\u001b[0m\u001b[0;34m\u001b[0m\u001b[0;34m\u001b[0m\u001b[0m\n\u001b[1;32m      5\u001b[0m \u001b[0;32mfrom\u001b[0m \u001b[0;34m.\u001b[0m\u001b[0mnms\u001b[0m \u001b[0;32mimport\u001b[0m \u001b[0mbatched_nms\u001b[0m\u001b[0;34m,\u001b[0m \u001b[0mbatched_nms_rotated\u001b[0m\u001b[0;34m,\u001b[0m \u001b[0mnms\u001b[0m\u001b[0;34m,\u001b[0m \u001b[0mnms_rotated\u001b[0m\u001b[0;34m\u001b[0m\u001b[0;34m\u001b[0m\u001b[0m\n",
            "\u001b[0;32m/usr/local/lib/python3.10/dist-packages/detectron2/layers/deform_conv.py\u001b[0m in \u001b[0;36m<module>\u001b[0;34m\u001b[0m\n\u001b[1;32m      7\u001b[0m \u001b[0;32mfrom\u001b[0m \u001b[0mtorch\u001b[0m\u001b[0;34m.\u001b[0m\u001b[0mautograd\u001b[0m\u001b[0;34m.\u001b[0m\u001b[0mfunction\u001b[0m \u001b[0;32mimport\u001b[0m \u001b[0monce_differentiable\u001b[0m\u001b[0;34m\u001b[0m\u001b[0;34m\u001b[0m\u001b[0m\n\u001b[1;32m      8\u001b[0m \u001b[0;32mfrom\u001b[0m \u001b[0mtorch\u001b[0m\u001b[0;34m.\u001b[0m\u001b[0mnn\u001b[0m\u001b[0;34m.\u001b[0m\u001b[0mmodules\u001b[0m\u001b[0;34m.\u001b[0m\u001b[0mutils\u001b[0m \u001b[0;32mimport\u001b[0m \u001b[0m_pair\u001b[0m\u001b[0;34m\u001b[0m\u001b[0;34m\u001b[0m\u001b[0m\n\u001b[0;32m----> 9\u001b[0;31m \u001b[0;32mfrom\u001b[0m \u001b[0mtorchvision\u001b[0m\u001b[0;34m.\u001b[0m\u001b[0mops\u001b[0m \u001b[0;32mimport\u001b[0m \u001b[0mdeform_conv2d\u001b[0m\u001b[0;34m\u001b[0m\u001b[0;34m\u001b[0m\u001b[0m\n\u001b[0m\u001b[1;32m     10\u001b[0m \u001b[0;34m\u001b[0m\u001b[0m\n\u001b[1;32m     11\u001b[0m \u001b[0;32mfrom\u001b[0m \u001b[0mdetectron2\u001b[0m\u001b[0;34m.\u001b[0m\u001b[0mutils\u001b[0m\u001b[0;34m.\u001b[0m\u001b[0mdevelop\u001b[0m \u001b[0;32mimport\u001b[0m \u001b[0mcreate_dummy_class\u001b[0m\u001b[0;34m,\u001b[0m \u001b[0mcreate_dummy_func\u001b[0m\u001b[0;34m\u001b[0m\u001b[0;34m\u001b[0m\u001b[0m\n",
            "\u001b[0;32m/usr/local/lib/python3.10/dist-packages/torchvision/__init__.py\u001b[0m in \u001b[0;36m<module>\u001b[0;34m\u001b[0m\n\u001b[1;32m      8\u001b[0m \u001b[0;31m# .extensions) before entering _meta_registrations.\u001b[0m\u001b[0;34m\u001b[0m\u001b[0;34m\u001b[0m\u001b[0m\n\u001b[1;32m      9\u001b[0m \u001b[0;32mfrom\u001b[0m \u001b[0;34m.\u001b[0m\u001b[0mextension\u001b[0m \u001b[0;32mimport\u001b[0m \u001b[0m_HAS_OPS\u001b[0m  \u001b[0;31m# usort:skip\u001b[0m\u001b[0;34m\u001b[0m\u001b[0;34m\u001b[0m\u001b[0m\n\u001b[0;32m---> 10\u001b[0;31m \u001b[0;32mfrom\u001b[0m \u001b[0mtorchvision\u001b[0m \u001b[0;32mimport\u001b[0m \u001b[0m_meta_registrations\u001b[0m\u001b[0;34m,\u001b[0m \u001b[0mdatasets\u001b[0m\u001b[0;34m,\u001b[0m \u001b[0mio\u001b[0m\u001b[0;34m,\u001b[0m \u001b[0mmodels\u001b[0m\u001b[0;34m,\u001b[0m \u001b[0mops\u001b[0m\u001b[0;34m,\u001b[0m \u001b[0mtransforms\u001b[0m\u001b[0;34m,\u001b[0m \u001b[0mutils\u001b[0m  \u001b[0;31m# usort:skip\u001b[0m\u001b[0;34m\u001b[0m\u001b[0;34m\u001b[0m\u001b[0m\n\u001b[0m\u001b[1;32m     11\u001b[0m \u001b[0;34m\u001b[0m\u001b[0m\n\u001b[1;32m     12\u001b[0m \u001b[0;32mtry\u001b[0m\u001b[0;34m:\u001b[0m\u001b[0;34m\u001b[0m\u001b[0;34m\u001b[0m\u001b[0m\n",
            "\u001b[0;32m/usr/local/lib/python3.10/dist-packages/torchvision/models/__init__.py\u001b[0m in \u001b[0;36m<module>\u001b[0;34m\u001b[0m\n\u001b[1;32m      1\u001b[0m \u001b[0;32mfrom\u001b[0m \u001b[0;34m.\u001b[0m\u001b[0malexnet\u001b[0m \u001b[0;32mimport\u001b[0m \u001b[0;34m*\u001b[0m\u001b[0;34m\u001b[0m\u001b[0;34m\u001b[0m\u001b[0m\n\u001b[0;32m----> 2\u001b[0;31m \u001b[0;32mfrom\u001b[0m \u001b[0;34m.\u001b[0m\u001b[0mconvnext\u001b[0m \u001b[0;32mimport\u001b[0m \u001b[0;34m*\u001b[0m\u001b[0;34m\u001b[0m\u001b[0;34m\u001b[0m\u001b[0m\n\u001b[0m\u001b[1;32m      3\u001b[0m \u001b[0;32mfrom\u001b[0m \u001b[0;34m.\u001b[0m\u001b[0mdensenet\u001b[0m \u001b[0;32mimport\u001b[0m \u001b[0;34m*\u001b[0m\u001b[0;34m\u001b[0m\u001b[0;34m\u001b[0m\u001b[0m\n\u001b[1;32m      4\u001b[0m \u001b[0;32mfrom\u001b[0m \u001b[0;34m.\u001b[0m\u001b[0mefficientnet\u001b[0m \u001b[0;32mimport\u001b[0m \u001b[0;34m*\u001b[0m\u001b[0;34m\u001b[0m\u001b[0;34m\u001b[0m\u001b[0m\n\u001b[1;32m      5\u001b[0m \u001b[0;32mfrom\u001b[0m \u001b[0;34m.\u001b[0m\u001b[0mgooglenet\u001b[0m \u001b[0;32mimport\u001b[0m \u001b[0;34m*\u001b[0m\u001b[0;34m\u001b[0m\u001b[0;34m\u001b[0m\u001b[0m\n",
            "\u001b[0;32m/usr/local/lib/python3.10/dist-packages/torchvision/models/convnext.py\u001b[0m in \u001b[0;36m<module>\u001b[0;34m\u001b[0m\n\u001b[1;32m      7\u001b[0m \u001b[0;34m\u001b[0m\u001b[0m\n\u001b[1;32m      8\u001b[0m \u001b[0;32mfrom\u001b[0m \u001b[0;34m.\u001b[0m\u001b[0;34m.\u001b[0m\u001b[0mops\u001b[0m\u001b[0;34m.\u001b[0m\u001b[0mmisc\u001b[0m \u001b[0;32mimport\u001b[0m \u001b[0mConv2dNormActivation\u001b[0m\u001b[0;34m,\u001b[0m \u001b[0mPermute\u001b[0m\u001b[0;34m\u001b[0m\u001b[0;34m\u001b[0m\u001b[0m\n\u001b[0;32m----> 9\u001b[0;31m \u001b[0;32mfrom\u001b[0m \u001b[0;34m.\u001b[0m\u001b[0;34m.\u001b[0m\u001b[0mops\u001b[0m\u001b[0;34m.\u001b[0m\u001b[0mstochastic_depth\u001b[0m \u001b[0;32mimport\u001b[0m \u001b[0mStochasticDepth\u001b[0m\u001b[0;34m\u001b[0m\u001b[0;34m\u001b[0m\u001b[0m\n\u001b[0m\u001b[1;32m     10\u001b[0m \u001b[0;32mfrom\u001b[0m \u001b[0;34m.\u001b[0m\u001b[0;34m.\u001b[0m\u001b[0mtransforms\u001b[0m\u001b[0;34m.\u001b[0m\u001b[0m_presets\u001b[0m \u001b[0;32mimport\u001b[0m \u001b[0mImageClassification\u001b[0m\u001b[0;34m\u001b[0m\u001b[0;34m\u001b[0m\u001b[0m\n\u001b[1;32m     11\u001b[0m \u001b[0;32mfrom\u001b[0m \u001b[0;34m.\u001b[0m\u001b[0;34m.\u001b[0m\u001b[0mutils\u001b[0m \u001b[0;32mimport\u001b[0m \u001b[0m_log_api_usage_once\u001b[0m\u001b[0;34m\u001b[0m\u001b[0;34m\u001b[0m\u001b[0m\n",
            "\u001b[0;32m/usr/local/lib/python3.10/dist-packages/torchvision/ops/__init__.py\u001b[0m in \u001b[0;36m<module>\u001b[0;34m\u001b[0m\n\u001b[1;32m     21\u001b[0m \u001b[0;32mfrom\u001b[0m \u001b[0;34m.\u001b[0m\u001b[0mgiou_loss\u001b[0m \u001b[0;32mimport\u001b[0m \u001b[0mgeneralized_box_iou_loss\u001b[0m\u001b[0;34m\u001b[0m\u001b[0;34m\u001b[0m\u001b[0m\n\u001b[1;32m     22\u001b[0m \u001b[0;32mfrom\u001b[0m \u001b[0;34m.\u001b[0m\u001b[0mmisc\u001b[0m \u001b[0;32mimport\u001b[0m \u001b[0mConv2dNormActivation\u001b[0m\u001b[0;34m,\u001b[0m \u001b[0mConv3dNormActivation\u001b[0m\u001b[0;34m,\u001b[0m \u001b[0mFrozenBatchNorm2d\u001b[0m\u001b[0;34m,\u001b[0m \u001b[0mMLP\u001b[0m\u001b[0;34m,\u001b[0m \u001b[0mPermute\u001b[0m\u001b[0;34m,\u001b[0m \u001b[0mSqueezeExcitation\u001b[0m\u001b[0;34m\u001b[0m\u001b[0;34m\u001b[0m\u001b[0m\n\u001b[0;32m---> 23\u001b[0;31m \u001b[0;32mfrom\u001b[0m \u001b[0;34m.\u001b[0m\u001b[0mpoolers\u001b[0m \u001b[0;32mimport\u001b[0m \u001b[0mMultiScaleRoIAlign\u001b[0m\u001b[0;34m\u001b[0m\u001b[0;34m\u001b[0m\u001b[0m\n\u001b[0m\u001b[1;32m     24\u001b[0m \u001b[0;32mfrom\u001b[0m \u001b[0;34m.\u001b[0m\u001b[0mps_roi_align\u001b[0m \u001b[0;32mimport\u001b[0m \u001b[0mps_roi_align\u001b[0m\u001b[0;34m,\u001b[0m \u001b[0mPSRoIAlign\u001b[0m\u001b[0;34m\u001b[0m\u001b[0;34m\u001b[0m\u001b[0m\n\u001b[1;32m     25\u001b[0m \u001b[0;32mfrom\u001b[0m \u001b[0;34m.\u001b[0m\u001b[0mps_roi_pool\u001b[0m \u001b[0;32mimport\u001b[0m \u001b[0mps_roi_pool\u001b[0m\u001b[0;34m,\u001b[0m \u001b[0mPSRoIPool\u001b[0m\u001b[0;34m\u001b[0m\u001b[0;34m\u001b[0m\u001b[0m\n",
            "\u001b[0;32m/usr/local/lib/python3.10/dist-packages/torchvision/ops/poolers.py\u001b[0m in \u001b[0;36m<module>\u001b[0;34m\u001b[0m\n\u001b[1;32m      8\u001b[0m \u001b[0;34m\u001b[0m\u001b[0m\n\u001b[1;32m      9\u001b[0m \u001b[0;32mfrom\u001b[0m \u001b[0;34m.\u001b[0m\u001b[0;34m.\u001b[0m\u001b[0mutils\u001b[0m \u001b[0;32mimport\u001b[0m \u001b[0m_log_api_usage_once\u001b[0m\u001b[0;34m\u001b[0m\u001b[0;34m\u001b[0m\u001b[0m\n\u001b[0;32m---> 10\u001b[0;31m \u001b[0;32mfrom\u001b[0m \u001b[0;34m.\u001b[0m\u001b[0mroi_align\u001b[0m \u001b[0;32mimport\u001b[0m \u001b[0mroi_align\u001b[0m\u001b[0;34m\u001b[0m\u001b[0;34m\u001b[0m\u001b[0m\n\u001b[0m\u001b[1;32m     11\u001b[0m \u001b[0;34m\u001b[0m\u001b[0m\n\u001b[1;32m     12\u001b[0m \u001b[0;34m\u001b[0m\u001b[0m\n",
            "\u001b[0;32m/usr/local/lib/python3.10/dist-packages/torchvision/ops/roi_align.py\u001b[0m in \u001b[0;36m<module>\u001b[0;34m\u001b[0m\n\u001b[1;32m      5\u001b[0m \u001b[0;32mimport\u001b[0m \u001b[0mtorch\u001b[0m\u001b[0;34m.\u001b[0m\u001b[0mfx\u001b[0m\u001b[0;34m\u001b[0m\u001b[0;34m\u001b[0m\u001b[0m\n\u001b[1;32m      6\u001b[0m \u001b[0;32mfrom\u001b[0m \u001b[0mtorch\u001b[0m \u001b[0;32mimport\u001b[0m \u001b[0mnn\u001b[0m\u001b[0;34m,\u001b[0m \u001b[0mTensor\u001b[0m\u001b[0;34m\u001b[0m\u001b[0;34m\u001b[0m\u001b[0m\n\u001b[0;32m----> 7\u001b[0;31m \u001b[0;32mfrom\u001b[0m \u001b[0mtorch\u001b[0m\u001b[0;34m.\u001b[0m\u001b[0m_dynamo\u001b[0m\u001b[0;34m.\u001b[0m\u001b[0mutils\u001b[0m \u001b[0;32mimport\u001b[0m \u001b[0mis_compile_supported\u001b[0m\u001b[0;34m\u001b[0m\u001b[0;34m\u001b[0m\u001b[0m\n\u001b[0m\u001b[1;32m      8\u001b[0m \u001b[0;32mfrom\u001b[0m \u001b[0mtorch\u001b[0m\u001b[0;34m.\u001b[0m\u001b[0mjit\u001b[0m\u001b[0;34m.\u001b[0m\u001b[0mannotations\u001b[0m \u001b[0;32mimport\u001b[0m \u001b[0mBroadcastingList2\u001b[0m\u001b[0;34m\u001b[0m\u001b[0;34m\u001b[0m\u001b[0m\n\u001b[1;32m      9\u001b[0m \u001b[0;32mfrom\u001b[0m \u001b[0mtorch\u001b[0m\u001b[0;34m.\u001b[0m\u001b[0mnn\u001b[0m\u001b[0;34m.\u001b[0m\u001b[0mmodules\u001b[0m\u001b[0;34m.\u001b[0m\u001b[0mutils\u001b[0m \u001b[0;32mimport\u001b[0m \u001b[0m_pair\u001b[0m\u001b[0;34m\u001b[0m\u001b[0;34m\u001b[0m\u001b[0m\n",
            "\u001b[0;32m/usr/local/lib/python3.10/dist-packages/torch/_dynamo/__init__.py\u001b[0m in \u001b[0;36m<module>\u001b[0;34m\u001b[0m\n\u001b[1;32m      1\u001b[0m \u001b[0;32mimport\u001b[0m \u001b[0mtorch\u001b[0m\u001b[0;34m\u001b[0m\u001b[0;34m\u001b[0m\u001b[0m\n\u001b[1;32m      2\u001b[0m \u001b[0;34m\u001b[0m\u001b[0m\n\u001b[0;32m----> 3\u001b[0;31m \u001b[0;32mfrom\u001b[0m \u001b[0;34m.\u001b[0m \u001b[0;32mimport\u001b[0m \u001b[0mconvert_frame\u001b[0m\u001b[0;34m,\u001b[0m \u001b[0meval_frame\u001b[0m\u001b[0;34m,\u001b[0m \u001b[0mresume_execution\u001b[0m\u001b[0;34m\u001b[0m\u001b[0;34m\u001b[0m\u001b[0m\n\u001b[0m\u001b[1;32m      4\u001b[0m \u001b[0;32mfrom\u001b[0m \u001b[0;34m.\u001b[0m\u001b[0mbackends\u001b[0m\u001b[0;34m.\u001b[0m\u001b[0mregistry\u001b[0m \u001b[0;32mimport\u001b[0m \u001b[0mlist_backends\u001b[0m\u001b[0;34m,\u001b[0m \u001b[0mlookup_backend\u001b[0m\u001b[0;34m,\u001b[0m \u001b[0mregister_backend\u001b[0m\u001b[0;34m\u001b[0m\u001b[0;34m\u001b[0m\u001b[0m\n\u001b[1;32m      5\u001b[0m \u001b[0;32mfrom\u001b[0m \u001b[0;34m.\u001b[0m\u001b[0mcallback\u001b[0m \u001b[0;32mimport\u001b[0m \u001b[0mcallback_handler\u001b[0m\u001b[0;34m,\u001b[0m \u001b[0mon_compile_end\u001b[0m\u001b[0;34m,\u001b[0m \u001b[0mon_compile_start\u001b[0m\u001b[0;34m\u001b[0m\u001b[0;34m\u001b[0m\u001b[0m\n",
            "\u001b[0;32m/usr/local/lib/python3.10/dist-packages/torch/_dynamo/convert_frame.py\u001b[0m in \u001b[0;36m<module>\u001b[0;34m\u001b[0m\n\u001b[1;32m     51\u001b[0m \u001b[0;32mfrom\u001b[0m \u001b[0mtorch\u001b[0m\u001b[0;34m.\u001b[0m\u001b[0mutils\u001b[0m\u001b[0;34m.\u001b[0m\u001b[0m_traceback\u001b[0m \u001b[0;32mimport\u001b[0m \u001b[0mCapturedTraceback\u001b[0m\u001b[0;34m,\u001b[0m \u001b[0mformat_traceback_short\u001b[0m\u001b[0;34m\u001b[0m\u001b[0;34m\u001b[0m\u001b[0m\n\u001b[1;32m     52\u001b[0m \u001b[0;34m\u001b[0m\u001b[0m\n\u001b[0;32m---> 53\u001b[0;31m \u001b[0;32mfrom\u001b[0m \u001b[0;34m.\u001b[0m \u001b[0;32mimport\u001b[0m \u001b[0mconfig\u001b[0m\u001b[0;34m,\u001b[0m \u001b[0mexc\u001b[0m\u001b[0;34m,\u001b[0m \u001b[0mtrace_rules\u001b[0m\u001b[0;34m\u001b[0m\u001b[0;34m\u001b[0m\u001b[0m\n\u001b[0m\u001b[1;32m     54\u001b[0m \u001b[0;32mfrom\u001b[0m \u001b[0;34m.\u001b[0m\u001b[0mbytecode_analysis\u001b[0m \u001b[0;32mimport\u001b[0m \u001b[0mremove_dead_code\u001b[0m\u001b[0;34m,\u001b[0m \u001b[0mremove_pointless_jumps\u001b[0m\u001b[0;34m\u001b[0m\u001b[0;34m\u001b[0m\u001b[0m\n\u001b[1;32m     55\u001b[0m from .bytecode_transformation import (\n",
            "\u001b[0;32m/usr/local/lib/python3.10/dist-packages/torch/_dynamo/trace_rules.py\u001b[0m in \u001b[0;36m<module>\u001b[0;34m\u001b[0m\n\u001b[1;32m   3216\u001b[0m         \u001b[0;34m\"torch.distributed._composable.replicate\"\u001b[0m\u001b[0;34m,\u001b[0m\u001b[0;34m\u001b[0m\u001b[0;34m\u001b[0m\u001b[0m\n\u001b[1;32m   3217\u001b[0m     }\n\u001b[0;32m-> 3218\u001b[0;31m     \u001b[0;32mif\u001b[0m \u001b[0;32mnot\u001b[0m \u001b[0mtorch\u001b[0m\u001b[0;34m.\u001b[0m\u001b[0m_dynamo\u001b[0m\u001b[0;34m.\u001b[0m\u001b[0mconfig\u001b[0m\u001b[0;34m.\u001b[0m\u001b[0mskip_fsdp_hooks\u001b[0m\u001b[0;34m:\u001b[0m\u001b[0;34m\u001b[0m\u001b[0;34m\u001b[0m\u001b[0m\n\u001b[0m\u001b[1;32m   3219\u001b[0m         \u001b[0mLEGACY_MOD_INLINELIST\u001b[0m\u001b[0;34m.\u001b[0m\u001b[0madd\u001b[0m\u001b[0;34m(\u001b[0m\u001b[0;34m\"torch.distributed._composable.fsdp\"\u001b[0m\u001b[0;34m)\u001b[0m\u001b[0;34m\u001b[0m\u001b[0;34m\u001b[0m\u001b[0m\n\u001b[1;32m   3220\u001b[0m \u001b[0;34m\u001b[0m\u001b[0m\n",
            "\u001b[0;31mAttributeError\u001b[0m: partially initialized module 'torch._dynamo' has no attribute 'config' (most likely due to a circular import)"
          ]
        }
      ]
    },
    {
      "cell_type": "markdown",
      "source": [
        "**5. What is TFOD2, and why is it widely used ?**"
      ],
      "metadata": {
        "id": "Ko_sHiq2reFV"
      }
    },
    {
      "cell_type": "markdown",
      "source": [
        "Ans:\n",
        "\n",
        "### **What is TFOD2?**\n",
        "\n",
        "**TFOD2** stands for **TensorFlow Object Detection API (version 2)**, an open-source library built on TensorFlow 2.x for developing, training, and deploying object detection models. It provides a collection of pre-trained models, tools, and utilities to facilitate object detection tasks like recognizing and localizing objects in images or videos.\n",
        "\n",
        "The library is developed and maintained by Google and is widely used for applications in industries such as autonomous vehicles, medical imaging, retail, and security.\n",
        "\n",
        "---\n",
        "\n",
        "### **Why is TFOD2 Widely Used?**\n",
        "\n",
        "TFOD2 is widely adopted for the following reasons:\n",
        "\n",
        "---\n",
        "\n",
        "#### **1. Comprehensive Pre-Trained Models (Model Zoo)**\n",
        "- **Pretrained Models**: TFOD2 offers a **Model Zoo** with state-of-the-art pretrained models, such as:\n",
        "  - Faster R-CNN\n",
        "  - SSD (Single Shot Detector)\n",
        "  - EfficientDet\n",
        "  - CenterNet\n",
        "- These models can be used directly or fine-tuned on custom datasets, saving time and computational resources.\n",
        "\n",
        "---\n",
        "\n",
        "#### **2. Support for TensorFlow 2.x**\n",
        "- **Leverages TensorFlow 2.x Features**: TFOD2 integrates seamlessly with TensorFlow 2.x, benefiting from its eager execution, performance optimizations, and TensorFlow's ecosystem.\n",
        "- **Keras Integration**: Simplifies model customization and experimentation using TensorFlow’s high-level Keras API.\n",
        "\n",
        "---\n",
        "\n",
        "#### **3. Ease of Use**\n",
        "- **Built-in Utilities**: TFOD2 provides tools for:\n",
        "  - Data preparation and augmentation.\n",
        "  - Automatic conversion of annotations into TFRecord format.\n",
        "  - Visualization of training and detection results.\n",
        "- **Pipeline Configuration**: Predefined pipelines for various models make setting up and training straightforward.\n",
        "\n",
        "---\n",
        "\n",
        "#### **4. Scalability**\n",
        "- **Scales Across Devices**: TFOD2 supports CPUs, GPUs, TPUs, and edge devices, enabling deployment across a wide range of platforms.\n",
        "- **Efficient Models**: Models like SSD and EfficientDet are optimized for real-time inference, making them suitable for mobile and embedded devices.\n",
        "\n",
        "---\n",
        "\n",
        "#### **5. Customizability**\n",
        "- **Custom Training**: Users can fine-tune pretrained models on custom datasets or design new architectures by modifying the TensorFlow/Keras-based codebase.\n",
        "- **Flexible Input Formats**: It supports multiple annotation formats and facilitates conversion to TFRecord.\n",
        "\n",
        "---\n",
        "\n",
        "#### **6. Advanced Features**\n",
        "- **Multiclass and Multiscale Detection**: Detects multiple objects of different scales in an image or video frame.\n",
        "- **Post-Training Quantization**: Allows models to be optimized for deployment on edge devices without significant performance loss.\n",
        "- **Integration with TensorFlow Lite**: Enables model conversion for mobile deployment.\n",
        "\n",
        "---\n",
        "\n",
        "#### **7. Active Community and Support**\n",
        "- **Community and Documentation**: Being backed by Google, TFOD2 has extensive documentation, tutorials, and a large community for support.\n",
        "- **Continuous Updates**: Regular updates introduce new models, features, and optimizations.\n",
        "\n",
        "---\n",
        "\n",
        "#### **8. Real-World Applications**\n",
        "TFOD2 is widely used in various domains due to its versatility:\n",
        "- **Autonomous Driving**: Detect pedestrians, vehicles, and traffic signs.\n",
        "- **Retail**: Recognize products on shelves or monitor inventory.\n",
        "- **Healthcare**: Detect tumors or anomalies in medical images.\n",
        "- **Surveillance**: Identify people, animals, or suspicious activities."
      ],
      "metadata": {
        "id": "wQQGDUAyXjZ0"
      }
    },
    {
      "cell_type": "markdown",
      "source": [
        "**6.How does learning rate affect model training in Detectron2 ?**"
      ],
      "metadata": {
        "id": "tsGaKYIxreAA"
      }
    },
    {
      "cell_type": "markdown",
      "source": [
        "Ans:\n",
        "\n",
        "The **learning rate** is a critical hyperparameter in training any machine learning model, including models in **Detectron2**. It determines the step size at which the model updates its weights during training. The choice of learning rate significantly impacts the **speed of convergence**, **model performance**, and the likelihood of avoiding issues like overfitting or underfitting.\n",
        "\n",
        "---\n",
        "\n",
        "### **Effects of Learning Rate on Model Training in Detectron2**\n",
        "1. **High Learning Rate:**\n",
        "   - **Advantages:**\n",
        "     - Leads to faster convergence, reducing the training time.\n",
        "   - **Disadvantages:**\n",
        "     - Can cause the model to overshoot the optimal solution, leading to poor accuracy.\n",
        "     - May result in unstable training or failure to converge.\n",
        "     - Risk of skipping over fine details in the loss landscape.\n",
        "\n",
        "   **Example in Detectron2:**\n",
        "   - If your learning rate is too high (e.g., `lr=0.1`), the model may oscillate or diverge, as shown by a loss curve with large fluctuations.\n",
        "\n",
        "---\n",
        "\n",
        "2. **Low Learning Rate:**\n",
        "   - **Advantages:**\n",
        "     - Helps the model converge more precisely to an optimal or near-optimal solution.\n",
        "     - Reduces the likelihood of missing fine-grained patterns in the dataset.\n",
        "   - **Disadvantages:**\n",
        "     - Slower convergence, requiring more training iterations and computational resources.\n",
        "     - May get stuck in local minima or plateaus in the loss surface.\n",
        "\n",
        "   **Example in Detectron2:**\n",
        "   - A very low learning rate (e.g., `lr=1e-5`) can lead to a smooth but extremely slow decrease in the loss function.\n",
        "\n",
        "---\n",
        "\n",
        "3. **Optimal Learning Rate:**\n",
        "   - An optimal learning rate strikes a balance between speed and stability, allowing the model to converge efficiently without overshooting or diverging.\n",
        "   - Detectron2 provides **learning rate schedules** like:\n",
        "     - **Warm-up learning rate**: Gradually increases the learning rate during the initial training phase to stabilize training.\n",
        "     - **Step-based decay**: Reduces the learning rate at specific iterations for fine-tuning towards convergence.\n",
        "\n",
        "   **Example Configuration in Detectron2:**\n",
        "   ```python\n",
        "   cfg.SOLVER.BASE_LR = 0.0025  # Starting learning rate\n",
        "   cfg.SOLVER.WARMUP_ITERS = 1000  # Number of iterations for warm-up\n",
        "   cfg.SOLVER.STEPS = [6000, 12000]  # Iterations to reduce learning rate\n",
        "   cfg.SOLVER.GAMMA = 0.1  # Factor to reduce learning rate\n",
        "   ```\n",
        "\n",
        "---\n",
        "\n",
        "### **Signs of Poor Learning Rate Selection**\n",
        "1. **Too High:**\n",
        "   - Loss oscillates or diverges during training.\n",
        "   - Model fails to make meaningful predictions.\n",
        "   - Validation accuracy does not improve.\n",
        "\n",
        "2. **Too Low:**\n",
        "   - Loss decreases very slowly or plateaus.\n",
        "   - Training takes excessively long.\n",
        "   - Model may underfit the data.\n",
        "\n",
        "3. **Optimal:**\n",
        "   - Loss decreases steadily and stabilizes.\n",
        "   - Validation accuracy improves in sync with training accuracy.\n",
        "\n",
        "---\n",
        "\n",
        "### **Tips for Setting Learning Rate in Detectron2**\n",
        "1. **Start Small and Use Warm-Up:**\n",
        "   - Detectron2's default configurations often start with a smaller learning rate during the initial iterations using **warm-up**.\n",
        "\n",
        "2. **Experiment with Learning Rate Schedules:**\n",
        "   - Use step-based decay or cosine annealing to adjust the learning rate dynamically during training.\n",
        "\n",
        "3. **Use Validation Metrics:**\n",
        "   - Monitor validation loss and accuracy to identify signs of underfitting or overfitting due to learning rate issues.\n",
        "\n",
        "4. **Learning Rate Finder:**\n",
        "   - Use tools like [Cyclical Learning Rates (CLR)](https://github.com/fastai/fastai) to find the optimal learning rate.\n",
        "\n"
      ],
      "metadata": {
        "id": "5p2MUtU8XrcO"
      }
    },
    {
      "cell_type": "markdown",
      "source": [
        "**7.Why might Detectron2 use PyTorch as its backend framework?**"
      ],
      "metadata": {
        "id": "RitWeTYvrd3_"
      }
    },
    {
      "cell_type": "markdown",
      "source": [
        "ans:\n",
        "\n",
        "Detectron2 uses **PyTorch** as its backend framework due to the following reasons, which align with the strengths of PyTorch and the needs of a high-performance object detection library:\n",
        "\n",
        "---\n",
        "\n",
        "### **1. Dynamic Computational Graph**\n",
        "- **PyTorch Feature:** PyTorch provides a dynamic computational graph, allowing computations to be defined and modified on-the-fly.\n",
        "- **Benefit for Detectron2:** Object detection often requires experimentation with different architectures, loss functions, and layers. A dynamic graph makes debugging, prototyping, and modifying models easier compared to static graph frameworks.\n",
        "\n",
        "---\n",
        "\n",
        "### **2. Flexibility and Customization**\n",
        "- **PyTorch Feature:** PyTorch’s modular design and flexibility make it ideal for custom model development.\n",
        "- **Benefit for Detectron2:** Detectron2 is designed for both research and production, so it benefits from PyTorch’s flexibility to:\n",
        "  - Implement novel architectures (e.g., Faster R-CNN, Mask R-CNN).\n",
        "  - Extend existing modules for specific tasks like segmentation or keypoint detection.\n",
        "\n",
        "---\n",
        "\n",
        "### **3. Extensive Ecosystem and Libraries**\n",
        "- **PyTorch Feature:** PyTorch has a rich ecosystem, including libraries like **TorchVision** for image-related tasks.\n",
        "- **Benefit for Detectron2:** Detectron2 leverages PyTorch's ecosystem for:\n",
        "  - Pretrained models (e.g., ResNet, MobileNet from TorchVision).\n",
        "  - Efficient dataset handling and data augmentation.\n",
        "\n",
        "---\n",
        "\n",
        "### **4. Scalability and Performance**\n",
        "- **PyTorch Feature:** PyTorch offers **native support for GPUs**, including distributed training across multiple GPUs and nodes.\n",
        "- **Benefit for Detectron2:** Object detection is computationally intensive. PyTorch’s performance optimizations allow Detectron2 to:\n",
        "  - Train large-scale models efficiently on GPUs/TPUs.\n",
        "  - Support advanced features like multi-scale training and mixed-precision training (via NVIDIA Apex or PyTorch’s AMP).\n",
        "\n",
        "---\n",
        "\n",
        "### **5. Easy-to-Use API**\n",
        "- **PyTorch Feature:** PyTorch’s intuitive, Pythonic API is widely preferred by developers and researchers.\n",
        "- **Benefit for Detectron2:** Detectron2’s users can quickly get started with:\n",
        "  - Writing custom layers.\n",
        "  - Modifying training pipelines.\n",
        "  - Debugging code effectively due to PyTorch's simplicity.\n",
        "\n",
        "---\n",
        "\n",
        "### **6. Strong Community and Support**\n",
        "- **PyTorch Feature:** PyTorch has a large, active community and significant backing from Facebook (Meta).\n",
        "- **Benefit for Detectron2:** PyTorch’s popularity ensures:\n",
        "  - Access to pre-built tools and utilities.\n",
        "  - Easy adoption and collaboration within the machine learning community.\n",
        "  - Regular updates and enhancements.\n",
        "\n",
        "---\n",
        "\n",
        "### **7. Research and Production Capabilities**\n",
        "- **PyTorch Feature:** PyTorch excels in both research-focused prototyping and production deployment (e.g., TorchScript for model serialization).\n",
        "- **Benefit for Detectron2:**\n",
        "  - Detectron2 supports cutting-edge research with customizable pipelines.\n",
        "  - It also facilitates deployment in real-world applications with models exportable to TorchScript or ONNX for inference.\n",
        "\n",
        "---\n",
        "\n",
        "### **8. Alignment with Facebook’s Ecosystem**\n",
        "- **PyTorch Origin:** PyTorch was developed by Meta (formerly Facebook), the same team behind Detectron2.\n",
        "- **Benefit for Detectron2:** Using PyTorch ensures seamless integration and optimized performance tailored to Meta's goals for computer vision research and production systems."
      ],
      "metadata": {
        "id": "5-Yrl3qyrd1V"
      }
    },
    {
      "cell_type": "markdown",
      "source": [
        "**8.What types of pretrained models does TFOD2 support ?**"
      ],
      "metadata": {
        "id": "MrbDqu8Lrdyp"
      }
    },
    {
      "cell_type": "markdown",
      "source": [
        "Ans:\n",
        "\n",
        "**TensorFlow Object Detection 2 (TFOD2)** supports a variety of pretrained models that cater to diverse object detection tasks, ranging from real-time applications to highly accurate models. These pretrained models are typically trained on popular datasets such as **COCO**, **Pascal VOC**, and **Open Images**, and are available in TensorFlow's **Model Zoo**. Here's an overview of the types of models supported by TFOD2:\n",
        "\n",
        "---\n",
        "\n",
        "### **1. Single-Stage Object Detectors**\n",
        "These models are designed for **real-time object detection** with faster inference speeds at the expense of slightly lower accuracy compared to two-stage detectors.\n",
        "\n",
        "- **Examples:**\n",
        "  - **SSD (Single Shot Multibox Detector):**\n",
        "    - SSD MobileNet V1, V2, V3\n",
        "    - SSD ResNet50\n",
        "    - Lightweight and efficient for mobile and embedded devices.\n",
        "  - **YOLO (You Only Look Once) Models:**\n",
        "    - Variants like YOLOv4 and YOLOv5 are compatible through custom integration.\n",
        "\n",
        "- **Key Use Cases:**\n",
        "  - Real-time detection in video streams.\n",
        "  - Low-resource environments (mobile and edge devices).\n",
        "\n",
        "---\n",
        "\n",
        "### **2. Two-Stage Object Detectors**\n",
        "These models provide **higher accuracy** by first generating region proposals and then refining them, making them suitable for tasks requiring precise detection.\n",
        "\n",
        "- **Examples:**\n",
        "  - **Faster R-CNN:**\n",
        "    - Backbone options: ResNet50, ResNet101, Inception ResNet V2, etc.\n",
        "    - Ideal for accurate object detection in complex scenes.\n",
        "  - **Mask R-CNN:**\n",
        "    - Extends Faster R-CNN to include instance segmentation.\n",
        "    - Backbone options: ResNet50, ResNet101, etc.\n",
        "\n",
        "- **Key Use Cases:**\n",
        "  - Applications requiring detailed object localization.\n",
        "  - Tasks combining object detection with instance segmentation.\n",
        "\n",
        "---\n",
        "\n",
        "### **3. Lightweight Models for Edge Deployment**\n",
        "Optimized for **mobile and embedded systems**, these models balance performance and computational efficiency.\n",
        "\n",
        "- **Examples:**\n",
        "  - **EfficientDet:**\n",
        "    - Variants: EfficientDet D0 to D7.\n",
        "    - Known for its scalable design and efficiency.\n",
        "  - **MobileNet-based SSD:**\n",
        "    - Tailored for devices with limited computational resources.\n",
        "\n",
        "- **Key Use Cases:**\n",
        "  - Edge computing.\n",
        "  - IoT applications.\n",
        "\n",
        "---\n",
        "\n",
        "### **4. Models Supporting Keypoint Detection**\n",
        "These models extend object detection to include **pose estimation** or **keypoint localization**.\n",
        "\n",
        "- **Examples:**\n",
        "  - **CenterNet:**\n",
        "    - Supports keypoint detection alongside object detection.\n",
        "    - Backbone options: ResNet and Hourglass.\n",
        "\n",
        "- **Key Use Cases:**\n",
        "  - Human pose estimation.\n",
        "  - Sports analytics.\n",
        "\n",
        "---\n",
        "\n",
        "### **5. Custom Models (TFHub Models)**\n",
        "TFOD2 also allows integrating **custom pretrained models** from **TensorFlow Hub** or other sources, enabling flexibility for unique datasets or architectures.\n",
        "\n",
        "- **Examples:**\n",
        "  - Models trained on proprietary datasets.\n",
        "  - Specialized models for specific object types (e.g., medical imaging or agricultural use cases).\n",
        "\n",
        "---\n",
        "\n",
        "### **6. Multi-Task Models**\n",
        "Some pretrained models are designed for **multi-task learning**, such as combining object detection with instance segmentation, keypoint detection, or panoptic segmentation.\n",
        "\n",
        "- **Examples:**\n",
        "  - **Mask R-CNN with ResNet or EfficientNet backbones.**\n",
        "  - **Panoptic-DeepLab:**\n",
        "    - Combines semantic and instance segmentation.\n",
        "\n",
        "---\n",
        "\n",
        "### **7. Specialized Detection Models**\n",
        "Pretrained models designed for specific use cases, such as detecting small objects or handling dense scenes.\n",
        "\n",
        "- **Examples:**\n",
        "  - **RetinaNet:**\n",
        "    - Known for handling class imbalance well with its Focal Loss.\n",
        "  - **Cascade R-CNN:**\n",
        "    - Offers improved accuracy for detecting objects of varying scales.\n",
        "\n",
        "---\n",
        "\n",
        "### **Model Selection Criteria**\n",
        "Choosing the right pretrained model depends on:\n",
        "- **Task Requirements:** Real-time detection vs. high accuracy.\n",
        "- **Device Constraints:** Edge vs. cloud deployment.\n",
        "- **Input Size and Dataset Complexity:** Small objects, dense scenes, etc.\n",
        "\n",
        "---\n",
        "\n",
        "### **How to Access Pretrained Models**\n",
        "TFOD2 provides these models in the [TensorFlow Model Zoo](https://github.com/tensorflow/models/blob/master/research/object_detection/g3doc/tf2_detection_zoo.md). Users can easily fine-tune these models on custom datasets using TFOD2’s APIs."
      ],
      "metadata": {
        "id": "3RyraZTzrdwN"
      }
    },
    {
      "cell_type": "markdown",
      "source": [
        "**9. How can data path errors impact Detectron2 ?**"
      ],
      "metadata": {
        "id": "aL95ywzIrdt7"
      }
    },
    {
      "cell_type": "markdown",
      "source": [
        "Ans:\n",
        "\n",
        "Data path errors can significantly impact **Detectron2** in various stages of its workflow, ranging from dataset preparation to model evaluation. Since Detectron2 relies on properly structured datasets and file paths, errors in data paths can lead to issues like incorrect training, failed inference, or runtime errors.\n",
        "\n",
        "---\n",
        "\n",
        "### **1. Dataset Loading Errors**\n",
        "- **Impact:**\n",
        "  - Detectron2 uses custom or predefined datasets that must adhere to specific structures (e.g., COCO format).\n",
        "  - If the dataset path is incorrect or inaccessible, Detectron2 will fail to load the data, resulting in exceptions like `FileNotFoundError` or `ValueError`.\n",
        "- **Symptoms:**\n",
        "  - Training or evaluation fails at the data loading stage.\n",
        "  - Errors like:\n",
        "    ```\n",
        "    FileNotFoundError: [Errno 2] No such file or directory: '/path/to/dataset'\n",
        "    ```\n",
        "- **Solution:**\n",
        "  - Double-check the dataset's directory structure and ensure paths in the **configuration file** or code are correct.\n",
        "\n",
        "---\n",
        "\n",
        "### **2. Misaligned Annotations**\n",
        "- **Impact:**\n",
        "  - Detectron2 relies on annotations (e.g., bounding boxes, segmentation masks) matching the image files. Path errors may cause the annotations to reference non-existent images or vice versa.\n",
        "  - This can lead to failed training or incorrect model behavior.\n",
        "- **Symptoms:**\n",
        "  - Training completes but results are inaccurate.\n",
        "  - Errors such as:\n",
        "    ```\n",
        "    KeyError: '<image_id>'\n",
        "    ```\n",
        "- **Solution:**\n",
        "  - Validate that all image paths specified in the annotation files exist and match the expected structure.\n",
        "\n",
        "---\n",
        "\n",
        "### **3. Pretrained Model Path Errors**\n",
        "- **Impact:**\n",
        "  - When using pretrained weights (e.g., from Model Zoo), an incorrect or inaccessible path can prevent model initialization.\n",
        "  - Detectron2 won’t load the weights, potentially causing the model to start training from scratch or fail outright.\n",
        "- **Symptoms:**\n",
        "  - Errors like:\n",
        "    ```\n",
        "    FileNotFoundError: Pretrained model file not found at '/path/to/model.pth'\n",
        "    ```\n",
        "- **Solution:**\n",
        "  - Ensure the path to the pretrained model is correct and download the file if necessary.\n",
        "\n",
        "---\n",
        "\n",
        "### **4. Checkpoint Saving/Loading Issues**\n",
        "- **Impact:**\n",
        "  - During training, incorrect paths for saving or loading checkpoints can cause interruptions or loss of progress.\n",
        "  - Incorrect checkpoint loading can lead to inconsistencies in model training or evaluation.\n",
        "- **Symptoms:**\n",
        "  - Errors like:\n",
        "    ```\n",
        "    FileNotFoundError: Checkpoint file not found at '/path/to/checkpoint.pth'\n",
        "    ```\n",
        "- **Solution:**\n",
        "  - Verify that the directories for saving checkpoints exist and paths are correctly configured in the training script.\n",
        "\n",
        "---\n",
        "\n",
        "### **5. Logging and Visualization Problems**\n",
        "- **Impact:**\n",
        "  - Detectron2 uses file paths to log metrics or save visualizations (e.g., images with predictions).\n",
        "  - Invalid paths can result in missing logs or failed visualization steps.\n",
        "- **Symptoms:**\n",
        "  - Missing output files (e.g., `*.json`, `*.png`).\n",
        "  - Errors like:\n",
        "    ```\n",
        "    OSError: Cannot save file at '/invalid/path/output.png'\n",
        "    ```\n",
        "- **Solution:**\n",
        "  - Set valid, writable paths for output directories and ensure permissions are correct.\n",
        "\n",
        "---\n",
        "\n",
        "### **6. Distributed Training Errors**\n",
        "- **Impact:**\n",
        "  - In multi-GPU setups, incorrect paths can cause issues when sharing data across workers.\n",
        "- **Symptoms:**\n",
        "  - Training fails in distributed mode.\n",
        "  - Errors like:\n",
        "    ```\n",
        "    RuntimeError: Dataset path not found for worker X.\n",
        "    ```\n",
        "- **Solution:**\n",
        "  - Ensure all workers can access the dataset paths consistently in distributed environments.\n",
        "\n",
        "---\n",
        "\n",
        "### **7. Inference and Deployment Failures**\n",
        "- **Impact:**\n",
        "  - Incorrect data paths during inference (e.g., for test images or output files) can cause the model to fail or produce no results.\n",
        "- **Symptoms:**\n",
        "  - Missing output predictions.\n",
        "  - Errors like:\n",
        "    ```\n",
        "    FileNotFoundError: Test image not found at '/path/to/test/image.jpg'\n",
        "    ```\n",
        "- **Solution:**\n",
        "  - Validate test image paths and ensure output directories are properly set."
      ],
      "metadata": {
        "id": "GHZstEsurdrl"
      }
    },
    {
      "cell_type": "markdown",
      "source": [
        "**10.What is Detectron2 ?**"
      ],
      "metadata": {
        "id": "6w6-tVrQrdo1"
      }
    },
    {
      "cell_type": "markdown",
      "source": [
        "Ans:\n",
        "\n",
        "**Detectron2** is an open-source, state-of-the-art library developed by **Facebook AI Research (FAIR)** for **object detection**, **instance segmentation**, **keypoint detection**, and other computer vision tasks. It is built on top of **PyTorch**, making it highly modular, flexible, and optimized for training and deploying deep learning models. Detectron2 is a successor to **Detectron**, with a complete redesign to leverage the latest advances in PyTorch.\n",
        "\n",
        "---\n",
        "\n",
        "### **Key Features of Detectron2**\n",
        "1. **Modularity and Extensibility**:\n",
        "   - Detectron2 provides a modular framework for building and customizing models.\n",
        "   - Researchers can easily extend it to add new datasets, tasks, or architectures.\n",
        "\n",
        "2. **Pretrained Models**:\n",
        "   - It offers pretrained weights for a wide variety of object detection models, such as Faster R-CNN, Mask R-CNN, and RetinaNet.\n",
        "\n",
        "3. **High Performance**:\n",
        "   - Optimized for modern GPUs, allowing for efficient training and inference.\n",
        "   - Supports distributed training for scalability.\n",
        "\n",
        "4. **Wide Range of Tasks**:\n",
        "   - Object detection (bounding boxes).\n",
        "   - Instance segmentation (pixel-level segmentation for each object).\n",
        "   - Semantic segmentation (classifying each pixel in the image).\n",
        "   - Keypoint detection (e.g., human pose estimation).\n",
        "   - Panoptic segmentation (combines instance and semantic segmentation).\n",
        "\n",
        "5. **Dataset Support**:\n",
        "   - Built-in support for popular datasets such as **COCO**, **Pascal VOC**, and **LVIS**.\n",
        "   - Custom dataset integration is straightforward.\n",
        "\n",
        "6. **Visualization Tools**:\n",
        "   - Provides tools for visualizing predictions, training data, and evaluation metrics.\n",
        "\n",
        "7. **Community and Ecosystem**:\n",
        "   - A vibrant community and extensive documentation make it accessible for developers and researchers.\n",
        "\n",
        "---\n",
        "\n",
        "### **Applications of Detectron2**\n",
        "1. **Autonomous Vehicles**:\n",
        "   - Detecting and segmenting pedestrians, vehicles, and road signs.\n",
        "2. **Healthcare**:\n",
        "   - Analyzing medical images for detecting diseases.\n",
        "3. **Retail and E-commerce**:\n",
        "   - Object detection in product images for inventory management.\n",
        "4. **Security**:\n",
        "   - Surveillance applications for face and object recognition.\n",
        "5. **Augmented Reality (AR)**:\n",
        "   - Keypoint detection for gesture recognition and virtual object placement.\n",
        "\n",
        "---\n",
        "\n",
        "### **Why Use Detectron2?**\n",
        "- **Flexibility**: You can easily modify models, configurations, and datasets.\n",
        "- **Performance**: Optimized for speed and accuracy with GPU acceleration.\n",
        "- **Ease of Use**: Comprehensive documentation and out-of-the-box support for various tasks.\n",
        "- **Research-Ready**: Built with cutting-edge features for researchers to experiment with the latest techniques in computer vision."
      ],
      "metadata": {
        "id": "q9aQS4pmle2k"
      }
    },
    {
      "cell_type": "markdown",
      "source": [
        "**11. What are TFRecord files, and why are they used in TFOD2 ?**"
      ],
      "metadata": {
        "id": "a25UUOT7rdkA"
      }
    },
    {
      "cell_type": "markdown",
      "source": [
        "Ans:\n",
        "\n",
        "### **What are TFRecord Files?**\n",
        "**TFRecord** is a binary file format developed by **TensorFlow** to efficiently store and manage large datasets. It stores data as a sequence of **serialized protocol buffers (protobufs)**, which are compact, efficient, and easy to parse.\n",
        "\n",
        "In the context of **TensorFlow Object Detection API (TFOD2)**, TFRecord files are commonly used to store training and evaluation datasets.\n",
        "\n",
        "---\n",
        "\n",
        "### **Structure of TFRecord Files**\n",
        "TFRecord files contain:\n",
        "- **Serialized Examples**: Each record in a TFRecord file is a serialized `tf.train.Example` protocol buffer.\n",
        "- **Features**: Each `Example` contains a set of key-value pairs, where the keys are feature names (e.g., `image/encoded`, `image/object/bbox`) and values are the actual data.\n",
        "\n",
        "---\n",
        "\n",
        "### **Why Use TFRecord Files in TFOD2?**\n",
        "1. **Efficiency**:\n",
        "   - Binary files are faster to read and write compared to text-based formats (e.g., JSON, CSV).\n",
        "   - They reduce I/O overhead, especially when dealing with large datasets.\n",
        "\n",
        "2. **Scalability**:\n",
        "   - TFRecord files support large-scale datasets without running into memory issues.\n",
        "   - Data can be streamed directly during training, avoiding the need to load the entire dataset into memory.\n",
        "\n",
        "3. **Integration with TensorFlow**:\n",
        "   - TFRecord is natively supported in TensorFlow, making it easier to load and preprocess data with APIs like `tf.data`.\n",
        "\n",
        "4. **Standardized Format**:\n",
        "   - Ensures that data (images, labels, bounding boxes, etc.) is consistently formatted for object detection tasks.\n",
        "   - Simplifies handling of diverse data sources (e.g., images, annotations).\n",
        "\n",
        "5. **Optimized Input Pipeline**:\n",
        "   - TFRecord files can be combined with TensorFlow's `tf.data` API for fast, parallelized data loading, shuffling, and batching.\n",
        "\n",
        "---\n",
        "\n",
        "### **What Data Does a TFRecord File Store in TFOD2?**\n",
        "TFRecord files typically store:\n",
        "1. **Image Data**:\n",
        "   - Encoded image bytes (e.g., JPEG or PNG format).\n",
        "   - Image dimensions (width, height, channels).\n",
        "\n",
        "2. **Annotations**:\n",
        "   - Bounding box coordinates (`xmin`, `ymin`, `xmax`, `ymax`).\n",
        "   - Object class labels (e.g., `cat`, `dog`).\n",
        "   - Other metadata like object visibility, pose, or truncated flags (optional).\n",
        "\n",
        "3. **Additional Metadata** (if available):\n",
        "   - Image filename, source, or unique ID.\n",
        "   - Image-level labels for classification tasks.\n",
        "\n",
        "---\n",
        "\n",
        "### **How to Use TFRecord Files in TFOD2?**\n",
        "1. **Convert Dataset to TFRecord**:\n",
        "   - Use a script (e.g., `create_tf_record.py`) to convert datasets (e.g., COCO, Pascal VOC) into TFRecord format.\n",
        "   - Include both image data and annotation information.\n",
        "\n",
        "2. **Load TFRecord During Training**:\n",
        "   - Use TensorFlow's `tf.data.TFRecordDataset` to read TFRecord files.\n",
        "   - Decode the data into images, labels, and bounding boxes.\n",
        "\n",
        "3. **Train the Model**:\n",
        "   - Configure the TFOD2 pipeline to point to the generated TFRecord files for training and validation.\n",
        "\n",
        "---\n",
        "\n",
        "### **Advantages of Using TFRecord in TFOD2**\n",
        "1. **Speed**: Faster training due to optimized reading and preprocessing.\n",
        "2. **Portability**: TFRecord files can be shared and reused across different systems.\n",
        "3. **Error Reduction**: Avoids common issues like annotation mismatches or path errors by embedding all data in a single file.\n",
        "4. **Compression**: Supports compression, further reducing storage requirements."
      ],
      "metadata": {
        "id": "4iEbrTamlnZT"
      }
    },
    {
      "cell_type": "markdown",
      "source": [
        "**12. What evaluation metrics are typically used with Detectron2 ?**"
      ],
      "metadata": {
        "id": "ht7AECL6rdhc"
      }
    },
    {
      "cell_type": "markdown",
      "source": [
        "Ans:\n",
        "\n",
        "Detectron2, like other object detection frameworks, uses standard evaluation metrics to assess model performance. These metrics help measure how well the model predicts object locations and classifications on unseen data. Below are the **key evaluation metrics** typically used with Detectron2:\n",
        "\n",
        "---\n",
        "\n",
        "### **1. Mean Average Precision (mAP)**\n",
        "- **Definition**: The mAP metric measures the average precision across different Intersection over Union (IoU) thresholds for all classes.\n",
        "- **Usage**: It is the most commonly used metric in object detection, especially in datasets like **COCO**.\n",
        "- **Variants**:\n",
        "  - **mAP@IoU=0.50 (AP50)**: Average precision at IoU threshold = 0.5.\n",
        "  - **mAP@IoU=0.75 (AP75)**: Average precision at IoU threshold = 0.75.\n",
        "  - **mAP@[0.50:0.95]**: Average precision across multiple IoU thresholds (0.50 to 0.95 with a step of 0.05).\n",
        "\n",
        "---\n",
        "\n",
        "### **2. Average Precision (AP)**\n",
        "- **Definition**: Measures precision averaged over recall levels for each class.\n",
        "- **Class-Specific AP**:\n",
        "  - Detectron2 calculates AP for individual object classes.\n",
        "  - It is useful for understanding how well the model performs on specific object types.\n",
        "\n",
        "---\n",
        "\n",
        "### **3. Average Recall (AR)**\n",
        "- **Definition**: Measures recall at a fixed IoU threshold or averaged over multiple thresholds.\n",
        "- **Variants**:\n",
        "  - **AR@1**: Recall when only one prediction is allowed per image.\n",
        "  - **AR@10**: Recall when up to 10 predictions are allowed per image.\n",
        "  - **AR@[0.50:0.95]**: Recall averaged across multiple IoU thresholds.\n",
        "\n",
        "\n",
        "### **4. Per-Class Metrics**\n",
        "- Detectron2 computes metrics like **precision**, **recall**, and **AP** for each class in the dataset, helping identify underperforming classes.\n",
        "\n",
        "---\n",
        "\n",
        "### **5. COCO Evaluation Metrics**\n",
        "Detectron2 uses COCO's evaluation metrics by default. These include:\n",
        "- **AP (Average Precision)**:\n",
        "  - AP@[0.50:0.95] (overall AP across IoU thresholds).\n",
        "  - AP@0.50 (PASCAL VOC-style AP).\n",
        "  - AP@0.75 (strict AP).\n",
        "- **AP per object size**:\n",
        "  - **AP_small**: Performance on small objects.\n",
        "  - **AP_medium**: Performance on medium-sized objects.\n",
        "  - **AP_large**: Performance on large objects.\n",
        "- **AR (Average Recall)**:\n",
        "  - AR@[0.50:0.95].\n",
        "  - AR@1, AR@10, and AR for small, medium, and large objects.\n",
        "\n",
        "---\n",
        "\n",
        "### **6. Custom Metrics**\n",
        "Detectron2 allows flexibility to define custom evaluation metrics. This is useful for specialized tasks such as:\n",
        "- **Keypoint Detection**:\n",
        "  - **Object Keypoint Similarity (OKS)**: Evaluates keypoint prediction accuracy.\n",
        "- **Panoptic Segmentation**:\n",
        "  - **Panoptic Quality (PQ)**: Combines recognition quality (RQ) and segmentation quality (SQ).\n",
        "- **Instance Segmentation**:\n",
        "  - AP is calculated using the overlap between predicted and ground-truth masks instead of bounding boxes.\n",
        "\n",
        "---\n",
        "\n",
        "### **Why These Metrics Are Important**\n",
        "1. **IoU Thresholds**: Ensure models are evaluated for both loose and strict matching criteria.\n",
        "2. **Object Size Metrics**: Highlight model performance across varying object sizes.\n",
        "3. **Class-Specific Insights**: Identify biases or shortcomings in specific object classes.\n",
        "4. **Task-Specific Metrics**: Adapt evaluation to specific computer vision tasks.\n",
        "\n",
        "---\n",
        "\n",
        "### **Tools for Evaluation**\n",
        "Detectron2 includes built-in tools for evaluating these metrics during and after training. These tools are compatible with datasets like **COCO**, **Pascal VOC**, and custom datasets.\n",
        "\n",
        "I can evaluate a model in Detectron2 using:"
      ],
      "metadata": {
        "id": "231-efXvmcbc"
      }
    },
    {
      "cell_type": "code",
      "source": [
        "from detectron2.evaluation import COCOEvaluator, inference_on_dataset\n",
        "from detectron2.data import build_detection_test_loader\n",
        "\n",
        "evaluator = COCOEvaluator(\"dataset_name\", cfg, False, output_dir=\"./output/\")\n",
        "val_loader = build_detection_test_loader(cfg, \"dataset_name\")\n",
        "print(inference_on_dataset(trainer.model, val_loader, evaluator))\n"
      ],
      "metadata": {
        "id": "c0TpeKBEnxYQ"
      },
      "execution_count": null,
      "outputs": []
    },
    {
      "cell_type": "markdown",
      "source": [
        "**13.How do you perform inference with a trained Detectron2 model ?**"
      ],
      "metadata": {
        "id": "OUDgBg6xrdRV"
      }
    },
    {
      "cell_type": "markdown",
      "source": [
        "Ans:\n"
      ],
      "metadata": {
        "id": "sf4o7kdZn5uG"
      }
    },
    {
      "cell_type": "code",
      "source": [
        "pip install torch torchvision\n"
      ],
      "metadata": {
        "colab": {
          "base_uri": "https://localhost:8080/"
        },
        "id": "a1u_f6hmrGbu",
        "outputId": "5d4b9acd-9dd7-4b7e-d7b9-2866e5451947"
      },
      "execution_count": 6,
      "outputs": [
        {
          "output_type": "stream",
          "name": "stdout",
          "text": [
            "Requirement already satisfied: torch in /usr/local/lib/python3.10/dist-packages (2.5.1+cu121)\n",
            "Requirement already satisfied: torchvision in /usr/local/lib/python3.10/dist-packages (0.20.1+cu121)\n",
            "Requirement already satisfied: filelock in /usr/local/lib/python3.10/dist-packages (from torch) (3.16.1)\n",
            "Requirement already satisfied: typing-extensions>=4.8.0 in /usr/local/lib/python3.10/dist-packages (from torch) (4.12.2)\n",
            "Requirement already satisfied: networkx in /usr/local/lib/python3.10/dist-packages (from torch) (3.4.2)\n",
            "Requirement already satisfied: jinja2 in /usr/local/lib/python3.10/dist-packages (from torch) (3.1.4)\n",
            "Requirement already satisfied: fsspec in /usr/local/lib/python3.10/dist-packages (from torch) (2024.10.0)\n",
            "Requirement already satisfied: sympy==1.13.1 in /usr/local/lib/python3.10/dist-packages (from torch) (1.13.1)\n",
            "Requirement already satisfied: mpmath<1.4,>=1.1.0 in /usr/local/lib/python3.10/dist-packages (from sympy==1.13.1->torch) (1.3.0)\n",
            "Requirement already satisfied: numpy in /usr/local/lib/python3.10/dist-packages (from torchvision) (1.26.4)\n",
            "Requirement already satisfied: pillow!=8.3.*,>=5.3.0 in /usr/local/lib/python3.10/dist-packages (from torchvision) (11.0.0)\n",
            "Requirement already satisfied: MarkupSafe>=2.0 in /usr/local/lib/python3.10/dist-packages (from jinja2->torch) (3.0.2)\n"
          ]
        }
      ]
    },
    {
      "cell_type": "code",
      "source": [
        "!pip install detectron2\n"
      ],
      "metadata": {
        "colab": {
          "base_uri": "https://localhost:8080/"
        },
        "id": "dxAhqypyqrjj",
        "outputId": "977eb2ec-aed3-4143-d827-27e8b42e822c"
      },
      "execution_count": 7,
      "outputs": [
        {
          "output_type": "stream",
          "name": "stdout",
          "text": [
            "\u001b[31mERROR: Could not find a version that satisfies the requirement detectron2 (from versions: none)\u001b[0m\u001b[31m\n",
            "\u001b[0m\u001b[31mERROR: No matching distribution found for detectron2\u001b[0m\u001b[31m\n",
            "\u001b[0m"
          ]
        }
      ]
    },
    {
      "cell_type": "code",
      "source": [
        "\n",
        "# Steps for Inference\n",
        "# Load Libraries:\n",
        "import cv2\n",
        "import detectron2\n",
        "from detectron2.engine import DefaultPredictor\n",
        "from detectron2.config import get_cfg\n",
        "from detectron2.utils.visualizer import Visualizer\n",
        "\n",
        "#Configure Model\n",
        "cfg = get_cfg()\n",
        "cfg.merge_from_file(\"path/to/config_file.yaml\")\n",
        "cfg.MODEL.WEIGHTS = \"path/to/model_final.pth\"\n",
        "cfg.MODEL.ROI_HEADS.SCORE_THRESH_TEST = 0.5\n",
        "cfg.MODEL.DEVICE = \"cuda\"  # Use GPU if available\n",
        "predictor = DefaultPredictor(cfg)\n",
        "\n",
        "#Run Inference\n",
        "image = cv2.imread(\"/content/images1.jpeg\")\n",
        "outputs = predictor(image)\n",
        "\n",
        "#Visualize Results\n",
        "from detectron2.data import MetadataCatalog\n",
        "v = Visualizer(image[:, :, ::-1], MetadataCatalog.get(cfg.DATASETS.TRAIN[0]))\n",
        "result = v.draw_instance_predictions(outputs[\"instances\"].to(\"cpu\"))\n",
        "cv2.imwrite(\"output_image.jpg\", result.get_image()[:, :, ::-1])\n"
      ],
      "metadata": {
        "id": "b7xnNmaFp65t"
      },
      "execution_count": null,
      "outputs": []
    },
    {
      "cell_type": "markdown",
      "source": [
        "**14. What does TFOD2 stand for, and what is it designed for ?**"
      ],
      "metadata": {
        "id": "z49rjgcbs90G"
      }
    },
    {
      "cell_type": "markdown",
      "source": [
        "Ans:\n",
        "\n",
        "**TFOD2** stands for **TensorFlow Object Detection 2**, which is an open-source framework developed by Google for building and deploying object detection models. It is a part of TensorFlow, designed specifically to facilitate the training, evaluation, and deployment of deep learning models for **object detection tasks**.\n",
        "\n",
        "### **Key Features of TFOD2**:\n",
        "1. **Pre-trained Models**: It offers a variety of pre-trained models, such as SSD, Faster R-CNN, and EfficientDet, that can be used directly or fine-tuned for custom datasets.\n",
        "2. **Flexibility**: TFOD2 supports a wide range of architectures and provides tools for both research and production environments.\n",
        "3. **Easy Integration**: It integrates seamlessly with TensorFlow, providing features like data pipelines, model evaluation, and deployment.\n",
        "4. **High Performance**: Optimized for high-performance training and inference, TFOD2 can take advantage of GPUs for faster processing.\n",
        "\n",
        "### **Purpose**:\n",
        "TFOD2 is designed to simplify the process of object detection by providing pre-built model architectures, training workflows, and tools for processing datasets, evaluating models, and deploying them for real-time object detection applications. It is widely used in fields like autonomous driving, robotics, surveillance, and image analysis."
      ],
      "metadata": {
        "id": "ijkxzWYVtDJP"
      }
    },
    {
      "cell_type": "markdown",
      "source": [
        "**15 . What does fine-tuning pretrained weights involve ?**"
      ],
      "metadata": {
        "id": "ZocHFL-btF3k"
      }
    },
    {
      "cell_type": "markdown",
      "source": [
        "Ans:\n",
        "\n",
        "**Fine-tuning pretrained weights** involves taking a model that has been previously trained on a large dataset (like COCO or ImageNet) and adapting it to a new, often smaller, dataset. This process helps the model learn specific features relevant to the new task while leveraging the general knowledge the model has gained from the larger dataset.\n",
        "\n",
        "### **Steps Involved in Fine-Tuning Pretrained Weights**:\n",
        "\n",
        "1. **Load Pretrained Model**: Start with a model that has been pretrained on a large dataset. This model has learned to recognize general features like edges, textures, and shapes.\n",
        "\n",
        "2. **Replace the Output Layer**: The output layer of the pretrained model is typically designed for the original task (e.g., classifying images into 1,000 categories in ImageNet). You replace this layer with one suited for your task, such as a different number of output classes for classification or detection.\n",
        "\n",
        "3. **Freeze Early Layers**: Often, the first few layers of a pretrained model capture very general features (like edges, textures, and simple shapes). These layers are \"frozen\" (i.e., not updated during training) to prevent the model from forgetting what it has already learned.\n",
        "\n",
        "4. **Train on New Data**: Fine-tune the later layers of the model (or the entire model) on your new dataset. This allows the model to adapt the pretrained features to the specifics of your data and task.\n",
        "\n",
        "5. **Adjust Learning Rate**: Fine-tuning often involves using a lower learning rate than the one used for training from scratch. This helps the model adjust its weights gently, rather than drastically altering what it has already learned.\n",
        "\n",
        "6. **Evaluate and Iterate**: After fine-tuning, evaluate the model’s performance on a validation set. You may need to adjust hyperparameters, learning rates, or even fine-tune for more epochs depending on the performance.\n",
        "\n",
        "### **Why Fine-Tuning is Effective**:\n",
        "- **Leverages Transfer Learning**: Fine-tuning allows a model to transfer knowledge learned from one domain to another, reducing the amount of data and computation required for training.\n",
        "- **Improves Performance**: For many tasks, starting with a pretrained model and fine-tuning it leads to better performance than training from scratch, especially when the new dataset is small.\n",
        "- **Faster Convergence**: Fine-tuning allows models to converge faster because the pretrained weights provide a good starting point for the training process."
      ],
      "metadata": {
        "id": "Z3uZ7i81tF0U"
      }
    },
    {
      "cell_type": "markdown",
      "source": [
        "**16.How is training started in TFOD2?**"
      ],
      "metadata": {
        "id": "_u4w4esgtFyY"
      }
    },
    {
      "cell_type": "markdown",
      "source": [
        "Ans;\n",
        "\n",
        "To start training in TFOD2:\n",
        "1. Prepare your dataset in TFRecord format.\n",
        "2. Choose and configure a pretrained model.\n",
        "3. Modify the `pipeline.config` file to suit your dataset and training preferences.\n",
        "4. Run the `model_main.py` script to begin training.\n",
        "5. Monitor training with TensorBoard.\n",
        "6. After training, evaluate the model and export it for inference.\n"
      ],
      "metadata": {
        "id": "TiV5eqH_s7w5"
      }
    },
    {
      "cell_type": "markdown",
      "source": [
        "**17. What does COCO format represent, and why is it popular in Detectron2 ?**"
      ],
      "metadata": {
        "id": "O_HPtjFVtFwJ"
      }
    },
    {
      "cell_type": "markdown",
      "source": [
        "Ans:\n",
        "The **COCO format** (Common Objects in Context) is a widely used format for representing and annotating datasets in the field of computer vision, particularly for tasks such as **object detection**, **segmentation**, and **keypoint detection**. The COCO dataset and format provide a structured way to annotate images with multiple objects, their categories, bounding boxes, and segmentation masks, making it ideal for training and evaluating models.\n",
        "\n",
        "### **COCO Format Representation**\n",
        "\n",
        "The **COCO format** consists of JSON files containing several key fields to describe the dataset, including:\n",
        "\n",
        "1. **Images**: Information about the images in the dataset, including filenames, dimensions (height, width), and unique IDs.\n",
        "   - Example:\n",
        "     ```json\n",
        "     {\n",
        "       \"id\": 1,\n",
        "       \"width\": 640,\n",
        "       \"height\": 480,\n",
        "       \"file_name\": \"image1.jpg\"\n",
        "     }\n",
        "     ```\n",
        "\n",
        "2. **Annotations**: The annotations describe the objects within each image. They include:\n",
        "   - **Bounding boxes** (x, y, width, height) that define the location of an object.\n",
        "   - **Segmentation masks** for pixel-wise object segmentation (if available).\n",
        "   - **Keypoints** for tasks like human pose estimation.\n",
        "   - **Category** labels indicating the type of object (e.g., \"dog\", \"car\").\n",
        "   - **Area** for the object size (relevant for segmentation).\n",
        "   - **Is crowd** to indicate if the object is part of a crowd (for object detection).\n",
        "   - Example:\n",
        "     ```json\n",
        "     {\n",
        "       \"image_id\": 1,\n",
        "       \"category_id\": 3,\n",
        "       \"bbox\": [x, y, width, height],\n",
        "       \"segmentation\": [[...]],  // polygon coordinates\n",
        "       \"area\": 1500,\n",
        "       \"iscrowd\": 0\n",
        "     }\n",
        "     ```\n",
        "\n",
        "3. **Categories**: A list of object categories that are present in the dataset, such as \"person\", \"car\", \"dog\", etc.\n",
        "   - Example:\n",
        "     ```json\n",
        "     {\n",
        "       \"id\": 3,\n",
        "       \"name\": \"dog\"\n",
        "     }\n",
        "     ```\n",
        "\n",
        "4. **Info and Licenses**: Metadata about the dataset, including information about the dataset version, author, and licensing.\n",
        "\n",
        "### **Why COCO Format is Popular in Detectron2**\n",
        "\n",
        "1. **Standardized Format**: COCO provides a standardized way to represent object annotations, which makes it easier to share and use across different projects, tools, and research papers. This consistency is important for model interoperability.\n",
        "\n",
        "2. **Comprehensive Annotations**: COCO supports multiple types of annotations like **bounding boxes**, **segmentation masks**, and **keypoints**, making it a versatile format for various computer vision tasks. Detectron2 leverages these features to handle complex object detection tasks like **instance segmentation** and **keypoint detection**.\n",
        "\n",
        "3. **Large-scale Dataset**: The **COCO dataset** itself is a large-scale benchmark with over 300,000 images and 80 object categories. The availability of this extensive dataset in COCO format allows Detectron2 to train models on real-world diverse data, helping to improve their robustness and generalization ability.\n",
        "\n",
        "4. **Efficient Evaluation**: COCO provides standardized evaluation metrics (e.g., **mAP** - mean Average Precision) for object detection and segmentation, which are directly supported by Detectron2. This makes it easy to compare models trained on COCO-formatted data.\n",
        "\n",
        "5. **Integration with Detectron2**: Detectron2, being a state-of-the-art framework developed by Facebook AI Research (FAIR), has built-in support for the COCO format. The framework includes utilities to load and process COCO datasets seamlessly, making it easier for users to train models on COCO-formatted data.\n",
        "\n",
        "6. **Widely Used in Research and Industry**: The COCO format is widely adopted in both academic research and industry, which means that many pretrained models (e.g., those available in the **TensorFlow Model Zoo** and **Detectron2 Model Zoo**) are trained using this format. This makes it easier to fine-tune or evaluate models on your custom datasets while benefiting from the pre-existing research and model architectures."
      ],
      "metadata": {
        "id": "fl2U8WBNut2D"
      }
    },
    {
      "cell_type": "markdown",
      "source": [
        "**18. Why is evaluation curve plotting important in Detectron2 ?**"
      ],
      "metadata": {
        "id": "ZxsrfHLltFtw"
      }
    },
    {
      "cell_type": "markdown",
      "source": [
        "ans:\n",
        "\n",
        "Evaluation curve plotting is important in **Detectron2** (and in machine learning in general) for several reasons, primarily related to understanding and improving the performance of object detection models. Here's why it matters:\n",
        "\n",
        "### 1. **Tracking Model Performance Over Time**\n",
        "   - Evaluation curves, such as **precision-recall curves** and **loss curves**, help track how well a model is performing over time during training and evaluation. These curves provide insights into the **convergence** of the model, helping you assess if it's learning effectively.\n",
        "   - **Loss curves**: Plotting training and validation loss curves over time helps identify if the model is overfitting, underfitting, or converging as expected. If the validation loss starts increasing while the training loss decreases, it indicates overfitting.\n",
        "   - **Precision-Recall curves**: These curves are important for evaluating how well the model is balancing precision and recall across different thresholds.\n",
        "\n",
        "### 2. **Selecting the Best Model**\n",
        "   - **Evaluation curves** provide a clear view of how the model's performance improves (or deteriorates) as training progresses. By comparing the performance of different models or checkpoints (e.g., different learning rates, training epochs, or architectures), you can **choose the best-performing model**.\n",
        "   - This is particularly important when using **Detectron2** for object detection tasks, where various performance metrics like **mAP (mean Average Precision)**, **IoU (Intersection over Union)**, and **F1 score** are used. Plotting these metrics over time can help identify the optimal model based on the evaluation curve.\n",
        "\n",
        "### 3. **Understanding Model Behavior**\n",
        "   - The curves can help you interpret the model’s behavior in response to different **hyperparameters** or changes in the dataset. For example, if you notice that the **recall** increases while **precision** drops, you might adjust thresholds, change the model architecture, or modify the dataset.\n",
        "   - **Loss curves** also help determine whether your learning rate is too high or too low, and whether gradient updates are stable.\n",
        "\n",
        "### 4. **Diagnosing Problems Early**\n",
        "   - Plotting evaluation curves early on in the training process can help you **diagnose potential issues** with the model, such as:\n",
        "     - **Underfitting**: If both training and validation performance are poor, the model might need more data or a more complex architecture.\n",
        "     - **Overfitting**: If the model performs well on training data but poorly on validation data, it may require regularization techniques, data augmentation, or more training data.\n",
        "   - This real-time feedback is essential for efficient training, as it helps adjust training parameters or the model architecture early, rather than after training has completed.\n",
        "\n",
        "### 5. **Fine-tuning and Hyperparameter Optimization**\n",
        "   - By plotting evaluation curves, you can visualize the effect of changes in hyperparameters, like **learning rate**, **batch size**, or **anchor sizes**. This helps in fine-tuning the model for better performance.\n",
        "   - You can use these curves to identify the **optimal hyperparameters** for your specific use case (e.g., which learning rate yields the best performance) and avoid trial-and-error methods.\n",
        "\n",
        "### 6. **Visualizing Trade-offs**\n",
        "   - Evaluation curves help visualize trade-offs between various metrics, such as **precision vs. recall** or **accuracy vs. speed**. This is especially useful for object detection tasks, where **precision-recall** curves can illustrate the **trade-off between false positives and false negatives** for different decision thresholds.\n",
        "   - Such trade-offs can guide you in selecting the right balance between detection accuracy and model efficiency, which is crucial in real-world applications like **real-time object detection**.\n",
        "\n",
        "### 7. **Improving Model Interpretability**\n",
        "   - Visualizing metrics over time helps improve model interpretability by showing how performance evolves. These plots provide stakeholders, such as researchers or developers, with an easy way to understand how well the model is performing and whether it's meeting project goals.\n",
        "   - It also facilitates **model debugging**. If you see that the model’s performance is fluctuating unexpectedly, you might want to revisit your training pipeline, data pipeline, or check for data quality issues.\n"
      ],
      "metadata": {
        "id": "En5dJqNHwPe9"
      }
    },
    {
      "cell_type": "markdown",
      "source": [
        "**19. How do you configure data paths in TFOD2 ?**"
      ],
      "metadata": {
        "id": "uQmoNYKytFoK"
      }
    },
    {
      "cell_type": "markdown",
      "source": [
        "ans:\n",
        "\n",
        "In **TensorFlow Object Detection API (TFOD2)**, configuring data paths is essential for correctly setting up the input dataset for training and evaluation. The data paths are specified in the configuration file, which contains all the necessary settings for model training, including the locations of the training and evaluation data.\n",
        "\n",
        "Here’s a step-by-step solution on how to configure data paths in TFOD2:\n",
        "\n",
        "### 1. **Prepare the Dataset**\n",
        "Before configuring data paths, ensure your dataset is prepared and formatted according to the requirements of the object detection model. The **TFRecord** format is commonly used in TFOD2 for object detection tasks.\n",
        "\n",
        "### 2. **Convert Dataset to TFRecord Format**\n",
        "If your dataset is not already in TFRecord format (e.g., if it's in COCO, Pascal VOC, or other formats), you’ll need to convert it into the TFRecord format. TFOD2 provides utilities to help with this conversion.\n",
        "\n",
        "- **For COCO format**: Use the `create_coco_tf_record.py` script provided in the `tensorflow/models/research/object_detection` directory.\n",
        "- **For Pascal VOC format**: Use `create_pascal_tf_record.py`.\n",
        "\n",
        "These scripts create **train** and **test** TFRecord files that will be used for model training and evaluation.\n",
        "\n",
        "### 3. **Modify the Configuration File**\n",
        "The configuration file (`pipeline.config`) is where the data paths need to be configured. The `pipeline.config` file contains various sections for model settings, data paths, preprocessing, and more.\n",
        "\n",
        "The critical parameters for configuring data paths in the config file are:\n",
        "\n",
        "- **`train_input_reader`**: This section points to the training TFRecord file.\n",
        "- **`eval_input_reader`**: This section points to the evaluation TFRecord file.\n",
        "\n",
        "Here is an example of how you configure the data paths in `pipeline.config`:\n",
        "\n",
        "```plaintext\n",
        "train_input_reader: {\n",
        "  tf_record_input_reader {\n",
        "    input_path: \"path/to/train.tfrecord\"\n",
        "  }\n",
        "  label_map_path: \"path/to/label_map.pbtxt\"\n",
        "}\n",
        "\n",
        "eval_input_reader: {\n",
        "  tf_record_input_reader {\n",
        "    input_path: \"path/to/test.tfrecord\"\n",
        "  }\n",
        "  label_map_path: \"path/to/label_map.pbtxt\"\n",
        "}\n",
        "```\n",
        "\n",
        "### Explanation:\n",
        "- **`train_input_reader`**: This specifies the path to the **training TFRecord** file and the path to the **label map** (`label_map.pbtxt`). The label map is a file that defines the mapping between class IDs and their human-readable names (e.g., \"1: 'cat'\").\n",
        "- **`eval_input_reader`**: Similar to the training reader, this specifies the **evaluation TFRecord** file and the **label map**.\n",
        "\n",
        "### 4. **Label Map File (`label_map.pbtxt`)**\n",
        "The **label map** is a file that contains the mapping between the object categories (class names) and their corresponding integer IDs. This is necessary for the model to correctly understand and predict object classes.\n",
        "\n",
        "Example of a `label_map.pbtxt` file:\n",
        "\n",
        "```plaintext\n",
        "item {\n",
        "  id: 1\n",
        "  name: 'cat'\n",
        "}\n",
        "\n",
        "item {\n",
        "  id: 2\n",
        "  name: 'dog'\n",
        "}\n",
        "```\n",
        "\n",
        "Each class is assigned a unique integer ID, which will be used in the TFRecord files.\n",
        "\n",
        "### 5. **Paths for Checkpoints and Output Directories**\n",
        "You also need to specify the paths for saving the model's **checkpoint** and **output directory**. In the configuration file, set the following parameters:\n",
        "\n",
        "```plaintext\n",
        "train_config: {\n",
        "  batch_size: 24\n",
        "  fine_tune_checkpoint: \"path/to/checkpoint/model.ckpt\"\n",
        "  fine_tune_checkpoint_type: \"detection\"\n",
        "}\n",
        "\n",
        "train_config: {\n",
        "  model_dir: \"path/to/output/directory\"\n",
        "}\n",
        "```\n",
        "\n",
        "- **`fine_tune_checkpoint`**: This is the path to the **pretrained checkpoint** (if fine-tuning a model). If training from scratch, you can leave this empty.\n",
        "- **`model_dir`**: This is where the trained model and checkpoints will be saved.\n",
        "\n",
        "### 6. **Verify Paths**\n",
        "After configuring the paths in the `pipeline.config` file, ensure that:\n",
        "- The paths to the **TFRecord files** are correct.\n",
        "- The **label map file** is correctly referenced.\n",
        "- The **pretrained model** (if used) exists at the specified checkpoint path.\n",
        "\n",
        "### 7. **Train the Model**\n",
        "Once the data paths are configured, you can start training the model using the following command:\n",
        "\n",
        "```bash\n",
        "python model_main_tf2.py --pipeline_config_path=path/to/pipeline.config --model_dir=path/to/output/dir --alsologtostderr\n",
        "```\n",
        "\n",
        "This will start training the model using the TFRecord files and other configuration parameters specified in the `pipeline.config` file.\n",
        "\n",
        "### Summary:\n",
        "In **TFOD2**, data paths are configured in the `pipeline.config` file under the `train_input_reader` and `eval_input_reader` sections. The data paths point to the **TFRecord** files and the **label map** file. Proper configuration of these paths is critical for successful model training and evaluation."
      ],
      "metadata": {
        "id": "Av3ZSWuixKPz"
      }
    },
    {
      "cell_type": "markdown",
      "source": [
        "**20. Can you run Detectron2 on a CPU ?**"
      ],
      "metadata": {
        "id": "J78BewKftFlW"
      }
    },
    {
      "cell_type": "markdown",
      "source": [
        "Ans:\n",
        "\n",
        "Yes, you can run **Detectron2** on a CPU, but there are some important considerations:\n",
        "\n",
        "### 1. **CPU Support**:\n",
        "Detectron2, like most deep learning frameworks, is optimized for GPUs to take advantage of parallel computation, which speeds up training and inference tasks. However, it can run on a CPU if necessary.\n",
        "\n",
        "### 2. **Performance**:\n",
        "- **Training**: Training object detection models on a CPU can be very slow, especially for large datasets and complex models. The absence of GPU acceleration means that model training will take a significantly longer time compared to using a GPU.\n",
        "- **Inference**: While inference can be slower on a CPU, it is still possible to perform real-time predictions, especially for small models or smaller images. For large-scale inference tasks, a GPU is recommended for speed.\n",
        "\n",
        "### 3. **Setting Up for CPU**:\n",
        "If you're planning to run Detectron2 on a CPU, make sure to set up the environment accordingly:\n",
        "   - Install the **CPU-only version** of PyTorch. You can do this by using the following command (this will ensure that PyTorch does not try to utilize CUDA or GPU resources):\n",
        "     ```bash\n",
        "     pip install torch torchvision torchaudio\n",
        "     ```\n",
        "     Ensure that you're not installing the CUDA-enabled version of PyTorch, as that would attempt to use a GPU if available.\n",
        "   \n",
        "   - Detectron2 itself doesn't require special modifications for CPU support. It will fall back to the CPU if no GPU is detected.\n",
        "\n",
        "### 4. **Configuration**:\n",
        "In the Detectron2 configuration file (`pipeline.config`), make sure that the configuration is set to use the CPU. This can typically be done by making sure the following is set:\n",
        "\n",
        "```python\n",
        "cfg.MODEL.DEVICE = 'cpu'\n",
        "```\n",
        "\n",
        "This tells the model to run on the CPU.\n",
        "\n",
        "\n",
        "### 5. **Considerations for Performance**:\n",
        "- Running on a CPU will be much slower than using a GPU, especially for large models or datasets. If speed is critical, a GPU is recommended.\n",
        "- You can optimize the model for inference (e.g., using **torchscript** or **ONNX**) to reduce the overhead of running on a CPU.\n",
        "\n"
      ],
      "metadata": {
        "id": "b8tQI_BP2MeE"
      }
    },
    {
      "cell_type": "code",
      "source": [
        "import torch\n",
        "from detectron2 import model_zoo\n",
        "from detectron2.engine import DefaultPredictor\n",
        "from detectron2.config import get_cfg\n",
        "from detectron2.utils.visualizer import Visualizer\n",
        "from detectron2.data import MetadataCatalog\n",
        "import cv2\n",
        "\n",
        "# Configure model\n",
        "cfg = get_cfg()\n",
        "cfg.merge_from_file(model_zoo.get_config_file(\"COCO-Detection/faster_rcnn_R_50_FPN_1x.yaml\"))\n",
        "cfg.MODEL.WEIGHTS = model_zoo.get_checkpoint_url(\"COCO-Detection/faster_rcnn_R_50_FPN_1x.yaml\")\n",
        "cfg.MODEL.DEVICE = 'cpu'  # Set to 'cpu'\n",
        "\n",
        "# Create a predictor\n",
        "predictor = DefaultPredictor(cfg)\n",
        "\n",
        "# Read input image\n",
        "image = cv2.imread(\"/content/images1.jpeg\")\n",
        "\n",
        "# Make predictions\n",
        "outputs = predictor(image)\n",
        "\n",
        "# Visualize the predictions\n",
        "v = Visualizer(image[:, :, ::-1], MetadataCatalog.get(cfg.DATASETS.TRAIN[0]), scale=1.2)\n",
        "\n",
        "# Corrected way to draw instance predictions\n",
        "instances = outputs[\"instances\"].to(\"cpu\")\n",
        "v = v.draw_instance_predictions(instances)\n",
        "\n",
        "# Show the output\n",
        "cv2.imshow(\"Inference\", v.get_image()[:, :, ::-1])\n",
        "cv2.waitKey(0)\n"
      ],
      "metadata": {
        "colab": {
          "base_uri": "https://localhost:8080/",
          "height": 401
        },
        "id": "6QTwbRJP3Qi5",
        "outputId": "cdab0fce-9d2f-4aa2-9352-9733626320a0"
      },
      "execution_count": 4,
      "outputs": [
        {
          "output_type": "error",
          "ename": "DisabledFunctionError",
          "evalue": "cv2.imshow() is disabled in Colab, because it causes Jupyter sessions\nto crash; see https://github.com/jupyter/notebook/issues/3935.\nAs a substitution, consider using\n  from google.colab.patches import cv2_imshow\n",
          "traceback": [
            "\u001b[0;31m---------------------------------------------------------------------------\u001b[0m",
            "\u001b[0;31mDisabledFunctionError\u001b[0m                     Traceback (most recent call last)",
            "\u001b[0;32m<ipython-input-4-9effdd6eb2f6>\u001b[0m in \u001b[0;36m<cell line: 32>\u001b[0;34m()\u001b[0m\n\u001b[1;32m     30\u001b[0m \u001b[0;34m\u001b[0m\u001b[0m\n\u001b[1;32m     31\u001b[0m \u001b[0;31m# Show the output\u001b[0m\u001b[0;34m\u001b[0m\u001b[0;34m\u001b[0m\u001b[0m\n\u001b[0;32m---> 32\u001b[0;31m \u001b[0mcv2\u001b[0m\u001b[0;34m.\u001b[0m\u001b[0mimshow\u001b[0m\u001b[0;34m(\u001b[0m\u001b[0;34m\"Inference\"\u001b[0m\u001b[0;34m,\u001b[0m \u001b[0mv\u001b[0m\u001b[0;34m.\u001b[0m\u001b[0mget_image\u001b[0m\u001b[0;34m(\u001b[0m\u001b[0;34m)\u001b[0m\u001b[0;34m[\u001b[0m\u001b[0;34m:\u001b[0m\u001b[0;34m,\u001b[0m \u001b[0;34m:\u001b[0m\u001b[0;34m,\u001b[0m \u001b[0;34m:\u001b[0m\u001b[0;34m:\u001b[0m\u001b[0;34m-\u001b[0m\u001b[0;36m1\u001b[0m\u001b[0;34m]\u001b[0m\u001b[0;34m)\u001b[0m\u001b[0;34m\u001b[0m\u001b[0;34m\u001b[0m\u001b[0m\n\u001b[0m\u001b[1;32m     33\u001b[0m \u001b[0mcv2\u001b[0m\u001b[0;34m.\u001b[0m\u001b[0mwaitKey\u001b[0m\u001b[0;34m(\u001b[0m\u001b[0;36m0\u001b[0m\u001b[0;34m)\u001b[0m\u001b[0;34m\u001b[0m\u001b[0;34m\u001b[0m\u001b[0m\n",
            "\u001b[0;32m/usr/local/lib/python3.10/dist-packages/google/colab/_import_hooks/_cv2.py\u001b[0m in \u001b[0;36mwrapped\u001b[0;34m(*args, **kwargs)\u001b[0m\n\u001b[1;32m     46\u001b[0m   \u001b[0;32mdef\u001b[0m \u001b[0mwrapped\u001b[0m\u001b[0;34m(\u001b[0m\u001b[0;34m*\u001b[0m\u001b[0margs\u001b[0m\u001b[0;34m,\u001b[0m \u001b[0;34m**\u001b[0m\u001b[0mkwargs\u001b[0m\u001b[0;34m)\u001b[0m\u001b[0;34m:\u001b[0m\u001b[0;34m\u001b[0m\u001b[0;34m\u001b[0m\u001b[0m\n\u001b[1;32m     47\u001b[0m     \u001b[0;32mif\u001b[0m \u001b[0;32mnot\u001b[0m \u001b[0mos\u001b[0m\u001b[0;34m.\u001b[0m\u001b[0menviron\u001b[0m\u001b[0;34m.\u001b[0m\u001b[0mget\u001b[0m\u001b[0;34m(\u001b[0m\u001b[0menv_var\u001b[0m\u001b[0;34m,\u001b[0m \u001b[0;32mFalse\u001b[0m\u001b[0;34m)\u001b[0m\u001b[0;34m:\u001b[0m\u001b[0;34m\u001b[0m\u001b[0;34m\u001b[0m\u001b[0m\n\u001b[0;32m---> 48\u001b[0;31m       \u001b[0;32mraise\u001b[0m \u001b[0mDisabledFunctionError\u001b[0m\u001b[0;34m(\u001b[0m\u001b[0mmessage\u001b[0m\u001b[0;34m,\u001b[0m \u001b[0mname\u001b[0m \u001b[0;32mor\u001b[0m \u001b[0mfunc\u001b[0m\u001b[0;34m.\u001b[0m\u001b[0m__name__\u001b[0m\u001b[0;34m)\u001b[0m\u001b[0;34m\u001b[0m\u001b[0;34m\u001b[0m\u001b[0m\n\u001b[0m\u001b[1;32m     49\u001b[0m     \u001b[0;32mreturn\u001b[0m \u001b[0mfunc\u001b[0m\u001b[0;34m(\u001b[0m\u001b[0;34m*\u001b[0m\u001b[0margs\u001b[0m\u001b[0;34m,\u001b[0m \u001b[0;34m**\u001b[0m\u001b[0mkwargs\u001b[0m\u001b[0;34m)\u001b[0m\u001b[0;34m\u001b[0m\u001b[0;34m\u001b[0m\u001b[0m\n\u001b[1;32m     50\u001b[0m \u001b[0;34m\u001b[0m\u001b[0m\n",
            "\u001b[0;31mDisabledFunctionError\u001b[0m: cv2.imshow() is disabled in Colab, because it causes Jupyter sessions\nto crash; see https://github.com/jupyter/notebook/issues/3935.\nAs a substitution, consider using\n  from google.colab.patches import cv2_imshow\n"
          ],
          "errorDetails": {
            "actions": [
              {
                "action": "open_snippet",
                "actionText": "Search Snippets for cv2.imshow",
                "snippetFilter": "cv2.imshow"
              }
            ]
          }
        }
      ]
    },
    {
      "cell_type": "code",
      "source": [
        "import torch\n",
        "from detectron2 import model_zoo\n",
        "from detectron2.engine import DefaultPredictor\n",
        "from detectron2.config import get_cfg\n",
        "from detectron2.utils.visualizer import Visualizer\n",
        "from detectron2.data import MetadataCatalog\n",
        "import cv2\n",
        "from google.colab.patches import cv2_imshow  # Import for displaying images in Colab\n",
        "\n",
        "# Configure model\n",
        "cfg = get_cfg()\n",
        "cfg.merge_from_file(model_zoo.get_config_file(\"COCO-Detection/faster_rcnn_R_50_FPN_1x.yaml\"))\n",
        "cfg.MODEL.WEIGHTS = model_zoo.get_checkpoint_url(\"COCO-Detection/faster_rcnn_R_50_FPN_1x.yaml\")\n",
        "cfg.MODEL.DEVICE = 'cpu'  # Set to 'cpu'\n",
        "\n",
        "# Create a predictor\n",
        "predictor = DefaultPredictor(cfg)\n",
        "\n",
        "# Read input image\n",
        "image = cv2.imread(\"/content/images1.jpeg\")\n",
        "\n",
        "# Make predictions\n",
        "outputs = predictor(image)\n",
        "\n",
        "# Visualize the predictions\n",
        "v = Visualizer(image[:, :, ::-1], MetadataCatalog.get(cfg.DATASETS.TRAIN[0]), scale=1.2)\n",
        "\n",
        "# Corrected way to draw instance predictions\n",
        "instances = outputs[\"instances\"].to(\"cpu\")\n",
        "v = v.draw_instance_predictions(instances)\n",
        "\n",
        "# Use cv2_imshow to display the output in Colab\n",
        "cv2_imshow(v.get_image()[:, :, ::-1])\n",
        "cv2.waitKey(0)\n"
      ],
      "metadata": {
        "colab": {
          "base_uri": "https://localhost:8080/",
          "height": 253
        },
        "id": "JEDMNXzh5kNC",
        "outputId": "89d13cd5-1c71-4993-91a9-ac5b509eb1c5"
      },
      "execution_count": 5,
      "outputs": [
        {
          "output_type": "display_data",
          "data": {
            "text/plain": [
              "<PIL.Image.Image image mode=RGB size=330x219>"
            ],
            "image/png": "[encoded data removed]",
            "image/jpeg": "[encoded data removed]"
          },
          "metadata": {}
        },
        {
          "output_type": "execute_result",
          "data": {
            "text/plain": [
              "-1"
            ]
          },
          "metadata": {},
          "execution_count": 5
        }
      ]
    },
    {
      "cell_type": "markdown",
      "source": [
        "**21. Why are label maps used in TFOD2 ?**"
      ],
      "metadata": {
        "id": "oYztUjuJtFiu"
      }
    },
    {
      "cell_type": "markdown",
      "source": [
        "ans:\n",
        "\n",
        "In TensorFlow Object Detection API (TFOD2), **label maps** are crucial for mapping the integer values (which represent different object classes in a dataset) to human-readable class names. They are used to define and reference the classes that the model is expected to detect and differentiate during training and inference.\n",
        "\n",
        "### Why Label Maps Are Used in TFOD2:\n",
        "1. **Mapping Integer Labels to Class Names:**\n",
        "   The object detection model trains on integer labels (IDs) for each class of objects. These integers correspond to the index of each class. The label map provides a way to associate these integer labels with actual human-readable class names. For example, an integer value of `1` might correspond to \"cat,\" `2` might correspond to \"dog,\" and so on.\n",
        "\n",
        "2. **Consistent Class Definition:**\n",
        "   The label map ensures consistency between the data annotations (which usually use integer labels) and the model’s output (which also uses integers to represent detected classes). The map allows the model to interpret the integer outputs as meaningful object class names during evaluation and inference.\n",
        "\n",
        "3. **Training and Evaluation:**\n",
        "   During training, the label map is used to correctly match the predicted class labels with the ground truth class labels. During evaluation, the label map helps in generating evaluation metrics like precision, recall, and mAP (mean Average Precision), where class labels are needed to compare predictions to the ground truth.\n",
        "\n",
        "4. **Handling Multiple Datasets:**\n",
        "   When using multiple datasets (for instance, COCO, Pascal VOC), each dataset may have different class labels. A label map helps manage this diversity by standardizing the mapping between integer labels and class names across different datasets.\n",
        "\n",
        "5. **Human-Readable Output:**\n",
        "   For tasks like inference or visualizing predictions, label maps provide a way to convert the model’s output (e.g., integer class IDs) into human-readable class names (e.g., \"person,\" \"car,\" etc.), which are easier to understand and interpret.\n",
        "\n",
        "### Example of a Label Map:\n",
        "Here’s an example of a simple label map (usually stored as a `.pbtxt` file):\n",
        "\n",
        "```plaintext\n",
        "item {\n",
        "  id: 1\n",
        "  name: 'cat'\n",
        "}\n",
        "item {\n",
        "  id: 2\n",
        "  name: 'dog'\n",
        "}\n",
        "item {\n",
        "  id: 3\n",
        "  name: 'car'\n",
        "}\n",
        "```\n",
        "\n",
        "In this example:\n",
        "- `id: 1` corresponds to the class \"cat\"\n",
        "- `id: 2` corresponds to the class \"dog\"\n",
        "- `id: 3` corresponds to the class \"car\"\n",
        "\n",
        "The label map file will typically be referenced in your TFOD2 configuration files to map predicted integer labels back to human-readable class names during evaluation or inference.\n",
        "\n",
        "### Summary:\n",
        "Label maps are used in TFOD2 to provide a bridge between numerical class labels used in training and human-readable class names, ensuring that the model's predictions are interpretable and consistent across datasets and tasks."
      ],
      "metadata": {
        "id": "AHiX2u9z57Lk"
      }
    },
    {
      "cell_type": "markdown",
      "source": [
        "**22. What makes TFOD2 popular for real-time detection tasks ?**"
      ],
      "metadata": {
        "id": "c-rZMa8ktFgM"
      }
    },
    {
      "cell_type": "markdown",
      "source": [
        "Ans:\n",
        "\n",
        "TensorFlow Object Detection API (TFOD2) is popular for real-time detection tasks due to several key features and advantages that make it highly effective for building efficient, scalable, and accurate object detection models. Here are the main reasons why TFOD2 is widely used for real-time detection tasks:\n",
        "\n",
        "### 1. **Pretrained Models and Transfer Learning:**\n",
        "   TFOD2 provides access to a variety of **pretrained models** on large datasets like COCO. These models can be fine-tuned on your own dataset, drastically reducing training time and improving the model’s performance. Pretrained models leverage transfer learning, which is crucial for real-time applications, as it allows you to avoid training a model from scratch.\n",
        "\n",
        "### 2. **Optimized for Performance:**\n",
        "   TFOD2 is designed with performance in mind. It includes highly optimized **model architectures** like Faster R-CNN, SSD (Single Shot Multibox Detector), and EfficientDet, all of which are capable of achieving **high accuracy** while maintaining **real-time inference speed**. For instance:\n",
        "   - **SSD models** are known for being fast and suitable for real-time tasks.\n",
        "   - **Faster R-CNN models** provide high accuracy but might be slower compared to SSD, though they can be optimized for real-time tasks in many scenarios.\n",
        "\n",
        "### 3. **Support for Different Hardware (GPUs, TPUs, CPUs):**\n",
        "   TFOD2 supports multiple hardware platforms, including **GPUs**, **TPUs**, and **CPUs**. This flexibility allows real-time detection tasks to scale depending on the hardware available. On GPUs and TPUs, TFOD2 can deliver significant performance improvements, making real-time detection feasible even with complex models.\n",
        "\n",
        "### 4. **Integration with TensorFlow Ecosystem:**\n",
        "   TFOD2 is part of the broader **TensorFlow ecosystem**, making it easier to integrate with other TensorFlow tools and frameworks, such as TensorFlow Lite (for mobile), TensorFlow.js (for browser-based detection), and TensorFlow Serving (for scalable production environments). This integration allows seamless deployment in real-time applications on various devices, from mobile phones to edge devices.\n",
        "\n",
        "### 5. **Flexible and Scalable Pipelines:**\n",
        "   TFOD2 allows users to create custom object detection pipelines by defining **data input**, **model architecture**, **training configurations**, and **evaluation metrics**. This flexibility makes it suitable for a wide range of real-time detection applications, from autonomous vehicles to security cameras.\n",
        "\n",
        "### 6. **Support for Multi-scale Detection:**\n",
        "   Real-time detection often involves recognizing objects at various scales (small to large). TFOD2 supports **multi-scale detection** capabilities, allowing the model to detect objects of various sizes, which is crucial for real-time scenarios like surveillance, industrial monitoring, and robotics.\n",
        "\n",
        "### 7. **Efficient Inference and Post-processing:**\n",
        "   TFOD2 optimizes both the **inference speed** and **post-processing steps** (e.g., non-maximum suppression), which are important for real-time applications. The pipeline is designed to be efficient, enabling detection at frame rates suitable for video and live streams.\n",
        "\n",
        "### 8. **Ease of Deployment:**\n",
        "   TFOD2 provides tools for easy deployment of object detection models. With features like **TensorFlow Lite** support for mobile devices, integration with **EdgeTPUs**, and export to **TensorFlow.js**, deploying real-time object detection models on a wide variety of devices is straightforward.\n",
        "\n",
        "### 9. **Active Community and Support:**\n",
        "   TFOD2 benefits from **active community support** and contributions. As part of the TensorFlow ecosystem, it receives regular updates, bug fixes, and new features, making it a reliable choice for real-time detection tasks. Additionally, it has extensive documentation and tutorials that help developers quickly get up to speed.\n",
        "\n",
        "### 10. **Customizability:**\n",
        "   TFOD2 is highly customizable, allowing you to tailor the model architecture, data pipeline, and training process to suit specific real-time detection needs. For example, you can adjust the input image size, batch size, or modify network architectures for real-time trade-offs between speed and accuracy.\n",
        "\n",
        "### 11. **Model Quantization and Optimization for Edge Devices:**\n",
        "   TFOD2 supports **model quantization**, allowing you to reduce the model size and improve inference speed, especially on edge devices. TensorFlow Lite, for example, is optimized for running models on **mobile devices** and **embedded systems** with limited resources, making it suitable for real-time deployment in resource-constrained environments.\n",
        "\n",
        "---\n",
        "\n",
        "### Use Cases in Real-Time Detection:\n",
        "- **Autonomous Vehicles:** Detecting pedestrians, vehicles, and other objects in real time for navigation.\n",
        "- **Security Surveillance:** Real-time object detection for surveillance cameras to track people or vehicles.\n",
        "- **Retail and Inventory Management:** Detecting objects in stores for automated inventory and checkout systems.\n",
        "- **Robotics:** Detecting obstacles and targets for real-time robot navigation and interaction.\n",
        "- **Healthcare (e.g., Medical Imaging):** Real-time detection of abnormalities in medical scans for quick diagnoses.\n"
      ],
      "metadata": {
        "id": "7a2V9ChA7CaH"
      }
    },
    {
      "cell_type": "markdown",
      "source": [
        "**23. How does batch size impact GPU memory usage ?**"
      ],
      "metadata": {
        "id": "LmAID-MftFbZ"
      }
    },
    {
      "cell_type": "markdown",
      "source": [
        "ans:\n",
        "\n",
        "The **batch size** refers to the number of samples processed together in a single forward/backward pass through the model during training. It plays a significant role in determining the **GPU memory usage**. Here's how it impacts the memory consumption:\n",
        "\n",
        "### 1. **Direct Impact on Memory Usage:**\n",
        "   - **Larger Batch Size:**\n",
        "     - **Increases Memory Usage**: A larger batch size means that more data is loaded into the GPU memory at once. For each sample in the batch, the model must store activations, gradients, and other intermediate results for backpropagation. Therefore, as the batch size increases, the amount of memory required grows proportionally.\n",
        "     - **Example**: If you double the batch size, you may roughly double the memory required.\n",
        "   - **Smaller Batch Size:**\n",
        "     - **Decreases Memory Usage**: A smaller batch size will reduce the memory footprint, as fewer samples are processed simultaneously. This means fewer activations and gradients are stored in memory.\n",
        "\n",
        "### 2. **Impact on Model Training:**\n",
        "   - **Training Efficiency**: A larger batch size often leads to faster training times due to better hardware utilization (e.g., more parallelism in GPU processing). However, it increases the memory demand, potentially leading to out-of-memory (OOM) errors if the GPU cannot handle the batch size.\n",
        "   - **Gradient Computation**: During backpropagation, the gradients for each sample in the batch are computed and averaged. More samples in the batch mean more memory is needed to store these intermediate gradients.\n",
        "   - **Learning Dynamics**: Larger batch sizes can also influence the model's learning dynamics. It can lead to more stable gradient estimates, but it might reduce the generalization ability of the model, potentially leading to overfitting in some cases. On the other hand, smaller batch sizes provide noisier gradient estimates but might help with better generalization.\n",
        "\n",
        "### 3. **Optimal Batch Size and GPU Memory:**\n",
        "   - **Memory Constraints**: When training models, especially with large architectures (e.g., deep neural networks like ResNets, Transformers), the batch size is often constrained by the available GPU memory. You may need to experiment with different batch sizes to find the optimal trade-off between memory usage and model performance.\n",
        "   - **Gradient Accumulation**: In cases where a larger batch size is preferred for training efficiency but is limited by memory, **gradient accumulation** can be used. This technique allows you to simulate a larger batch size by accumulating gradients over multiple smaller batches, thus reducing memory usage while maintaining the benefits of large batches.\n",
        "\n",
        "### 4. **Other Factors to Consider:**\n",
        "   - **Model Architecture**: Larger models with more parameters (e.g., complex CNNs, transformers) will require more memory for each sample, and therefore larger batch sizes will impact memory more significantly.\n",
        "   - **Input Size**: Larger input images or sequences require more memory to store intermediate activations. For example, training a model with 512x512 images will require more memory than using 224x224 images, even with the same batch size.\n",
        "\n",
        "### Example of Memory Usage with Different Batch Sizes:\n",
        "   If you're using a deep learning model for image classification, let's consider two batch sizes:\n",
        "   - **Batch size 8**: Each sample occupies a certain amount of memory. In this case, the GPU may be able to fit the model and 8 samples comfortably.\n",
        "   - **Batch size 16**: The memory required will approximately double compared to the batch size of 8, assuming the same input size and model architecture."
      ],
      "metadata": {
        "id": "Fzl9kwJx7ChE"
      }
    },
    {
      "cell_type": "markdown",
      "source": [
        "**24.What’s the role of Intersection over Union (IoU) in model evaluation ?**"
      ],
      "metadata": {
        "id": "SwPtK5D3tFWu"
      }
    },
    {
      "cell_type": "markdown",
      "source": [
        "ans:\n",
        "\n",
        "**Intersection over Union (IoU)** is a key metric used in the evaluation of object detection models. It measures the accuracy of the predicted bounding boxes (or regions) by comparing them to the ground truth bounding boxes. Here's a breakdown of its role:\n",
        "\n",
        "### **1. IoU Definition:**\n",
        "IoU is calculated as the ratio of the area of overlap between the predicted bounding box and the ground truth bounding box to the area of their union. Mathematically:\n",
        "\n",
        "\n",
        "IoU = {Area of Overlap}/{Area of Union}\n",
        "\n",
        "\n",
        "Where:\n",
        "- **Area of Overlap** is the region where the predicted bounding box and the ground truth bounding box intersect.\n",
        "- **Area of Union** is the total area covered by both the predicted and ground truth bounding boxes.\n",
        "\n",
        "### **2. IoU in Model Evaluation:**\n",
        "IoU is used in several aspects of model evaluation in object detection:\n",
        "\n",
        "- **Accuracy of Predictions**: It helps assess how well the predicted bounding boxes match the ground truth. The higher the IoU, the more accurate the prediction.\n",
        "- **Thresholding**: In object detection tasks, a threshold (e.g., IoU > 0.5) is often set to determine whether a prediction is considered a \"true positive\" or a \"false positive.\"\n",
        "   - If the IoU between the predicted box and ground truth box is greater than a predefined threshold (typically 0.5), the prediction is counted as a correct detection.\n",
        "   - If the IoU is lower than the threshold, the prediction is considered incorrect, either as a **false positive** or **false negative**.\n",
        "\n",
        "### **3. IoU in Common Metrics:**\n",
        "- **Precision and Recall**: IoU plays a significant role in calculating **precision** and **recall**:\n",
        "  - **Precision**: The ratio of true positive detections to all predicted detections (true positives + false positives).\n",
        "  - **Recall**: The ratio of true positive detections to all ground truth objects (true positives + false negatives).\n",
        "  - The performance of a model is often evaluated using a combination of these metrics, and IoU helps determine whether a prediction should be classified as a true positive.\n",
        "\n",
        "- **Average Precision (AP)**: For object detection tasks, especially in the **COCO** dataset or other benchmark datasets, **Average Precision (AP)** is computed as the mean of precision values at different IoU thresholds (e.g., 0.5, 0.75). This metric summarizes how well the model performs across different levels of detection accuracy.\n",
        "\n",
        "- **Mean Average Precision (mAP)**: This is the average of the AP scores across multiple IoU thresholds and categories (e.g., for detecting multiple object classes). Higher mAP values indicate better model performance.\n",
        "\n",
        "### **4. IoU in Model Tuning:**\n",
        "- **Hyperparameter Tuning**: During model training, IoU is used to fine-tune hyperparameters such as confidence thresholds and IoU thresholds for object detection tasks. This helps in balancing the trade-off between precision and recall.\n",
        "- **Evaluation with Different IoU Thresholds**: Evaluating the model at various IoU thresholds helps assess the model's robustness at different levels of precision, ensuring it generalizes well across a range of detection scenarios.\n",
        "\n",
        "### **5. Role in Model Improvement:**\n",
        "- **Object Localization Quality**: IoU provides direct insight into the localization quality of the model. A model with high IoU values is good at accurately localizing the objects in the image.\n",
        "- **Error Analysis**: IoU can help in error analysis by revealing where the model struggles with predictions. Low IoU values may indicate that the model is misplacing the bounding boxes or not recognizing objects well, which can guide further model improvement.\n"
      ],
      "metadata": {
        "id": "7oSPOwzb93xc"
      }
    },
    {
      "cell_type": "markdown",
      "source": [
        "**25. What is Faster R-CNN, and does TFOD2 support it ?**"
      ],
      "metadata": {
        "id": "4MtwjLIstFSE"
      }
    },
    {
      "cell_type": "markdown",
      "source": [
        "ans:\n",
        "\n",
        "### **What is Faster R-CNN?**\n",
        "\n",
        "**Faster R-CNN (Region-based Convolutional Neural Network)** is a state-of-the-art object detection framework that improves upon previous models (like R-CNN and Fast R-CNN) by integrating a Region Proposal Network (RPN) to automatically propose candidate object regions, making the process of object detection faster and more efficient.\n",
        "\n",
        "Here's a breakdown of its components:\n",
        "\n",
        "1. **Convolutional Neural Network (CNN)**: Faster R-CNN uses a deep CNN (like VGG16 or ResNet) as a backbone to extract features from input images.\n",
        "\n",
        "2. **Region Proposal Network (RPN)**: The key innovation in Faster R-CNN is the Region Proposal Network. RPN is a fully convolutional network that scans the feature map from the CNN backbone to propose potential bounding boxes (regions of interest or RoIs) where objects may be located.\n",
        "\n",
        "3. **RoI Pooling**: Once the RPN generates the proposals, a **Region of Interest (RoI) pooling** layer extracts fixed-size feature maps from the varying-sized proposals, which are then fed into fully connected layers for classification and bounding box regression.\n",
        "\n",
        "4. **Object Classification and Bounding Box Refinement**: The final fully connected layers classify the proposals as different object categories and refine the bounding box coordinates (regression) for accurate localization.\n",
        "\n",
        "5. **End-to-End Training**: Faster R-CNN trains the RPN and object detection networks together in an end-to-end manner, making the model efficient by avoiding the need for separate region proposal steps (as in the original R-CNN).\n",
        "\n",
        "### **Does TFOD2 Support Faster R-CNN?**\n",
        "\n",
        "Yes, **TFOD2 (TensorFlow Object Detection API 2)** does support Faster R-CNN as one of the available object detection models. Specifically, TFOD2 provides several variants of Faster R-CNN with different backbone architectures such as:\n",
        "- **Faster R-CNN with ResNet**\n",
        "- **Faster R-CNN with Inception**\n",
        "- **Faster R-CNN with MobileNet**\n",
        "\n",
        "These models allow you to choose the best trade-off between performance and speed based on your specific use case.\n",
        "\n",
        "### **Key Features of TFOD2's Faster R-CNN:**\n",
        "- **Pretrained Models**: TFOD2 offers pretrained Faster R-CNN models trained on popular datasets like **COCO**, allowing users to fine-tune them for custom tasks.\n",
        "- **Custom Training**: You can train Faster R-CNN on your own dataset for specific object detection tasks.\n",
        "- **Fine-Tuning**: TFOD2 allows easy fine-tuning of Faster R-CNN models, leveraging transfer learning to improve performance on smaller datasets or specific domains.\n",
        "- **Model Optimization**: You can use tools like **TensorFlow Lite** or **TensorFlow.js** to optimize Faster R-CNN models for deployment on edge devices or the web.\n",
        "\n",
        "### **Why Use Faster R-CNN in TFOD2?**\n",
        "\n",
        "Faster R-CNN is widely used because:\n",
        "- **High Accuracy**: It provides excellent accuracy in detecting objects, especially in challenging or cluttered scenes.\n",
        "- **End-to-End Training**: The integrated training of the RPN and detection network simplifies the pipeline and improves efficiency.\n",
        "- **Customizable**: You can easily adjust the backbone architecture and hyperparameters in TFOD2 for various applications.\n"
      ],
      "metadata": {
        "id": "2kfIfvHrtFPN"
      }
    },
    {
      "cell_type": "markdown",
      "source": [
        "**26. How does Detectron2 use pretrained weights ?**"
      ],
      "metadata": {
        "id": "J-CVC23htFMA"
      }
    },
    {
      "cell_type": "markdown",
      "source": [
        "Ans:\n",
        "\n",
        "**Detectron2** leverages pretrained weights to improve the efficiency and performance of object detection models. Here's how it uses them:\n",
        "\n",
        "### **1. Transfer Learning**\n",
        "Pretrained weights in Detectron2 are typically used for **transfer learning**. Transfer learning is a technique where a model trained on a large, general-purpose dataset (like COCO) is fine-tuned on a specific, smaller dataset. This allows the model to benefit from the knowledge it gained during pretraining, such as recognizing common object features, and adapt it to the new task with much less data and training time.\n",
        "\n",
        "- **Pretraining on large datasets**: Detectron2 often uses weights from models pretrained on large datasets like COCO or ImageNet. These weights capture general features like edges, textures, and object parts that are common across a wide range of images.\n",
        "  \n",
        "- **Fine-tuning**: After loading pretrained weights, the model can be fine-tuned on your specific dataset to improve its performance in a particular domain (e.g., detecting medical objects, detecting rare classes).\n",
        "\n",
        "### **2. Model Zoo in Detectron2**\n",
        "Detectron2 provides a **model zoo**, which is a collection of pretrained models. These models have been trained on large datasets (like **COCO**, **LVIS**, and **Cityscapes**) and are available for various object detection tasks. Detectron2’s model zoo is a key feature for easily leveraging pretrained weights.\n",
        "\n",
        "You can access these models directly using the **`model_zoo`** module in Detectron2, like this:\n",
        "```python\n",
        "from detectron2 import model_zoo\n",
        "from detectron2.config import get_cfg\n",
        "\n",
        "cfg = get_cfg()\n",
        "# Use a pretrained Faster R-CNN model\n",
        "cfg.merge_from_file(model_zoo.get_config_file(\"COCO-Detection/faster_rcnn_R_50_FPN_1x.yaml\"))\n",
        "cfg.MODEL.WEIGHTS = model_zoo.get_checkpoint_url(\"COCO-Detection/faster_rcnn_R_50_FPN_1x.yaml\")\n",
        "```\n",
        "In this example:\n",
        "- The configuration file for **Faster R-CNN** with **ResNet-50** backbone is loaded.\n",
        "- Pretrained weights from the **COCO dataset** are fetched from the model zoo.\n",
        "\n",
        "### **3. Pretrained Weights for Faster Convergence**\n",
        "Using pretrained weights enables **faster convergence** during training. Since the model already understands basic features (edges, shapes, textures), it requires fewer epochs to adjust to your dataset compared to training from scratch. This is particularly important when working with limited data.\n",
        "\n",
        "### **4. Fine-Tuning for Custom Tasks**\n",
        "Once the pretrained weights are loaded, you can fine-tune the model for your specific task by adjusting the final layers (like the classifier) or by training the entire network on your dataset. In Detectron2, this is as simple as configuring your dataset and running the training script:\n",
        "```python\n",
        "# Fine-tune the model with your custom dataset\n",
        "cfg.DATASETS.TRAIN = (\"your_train_dataset\",)\n",
        "cfg.DATASETS.TEST = (\"your_test_dataset\",)\n",
        "cfg.MODEL.WEIGHTS = model_zoo.get_checkpoint_url(\"COCO-Detection/faster_rcnn_R_50_FPN_1x.yaml\")\n",
        "cfg.OUTPUT_DIR = \"./output\"\n",
        "trainer = DefaultTrainer(cfg)\n",
        "trainer.resume_or_load(resume=False)\n",
        "trainer.train()\n",
        "```\n",
        "By fine-tuning the model, you can improve its performance on the new dataset.\n",
        "\n",
        "### **5. Transfer Learning for Different Tasks**\n",
        "Detectron2 allows the use of pretrained weights for a variety of tasks, such as:\n",
        "- **Object Detection**: For detecting objects in images or videos.\n",
        "- **Instance Segmentation**: For pixel-level object segmentation.\n",
        "- **Keypoint Detection**: For detecting keypoints (e.g., human poses).\n",
        "- **Panoptic Segmentation**: For combining semantic segmentation and instance segmentation.\n",
        "\n",
        "Detectron2 supports pretrained models for all these tasks, which simplifies the process of applying state-of-the-art models to specific use cases."
      ],
      "metadata": {
        "id": "1_VgyzvlAvbv"
      }
    },
    {
      "cell_type": "code",
      "source": [
        "#Example of Using Pretrained Weights in Detectron2\n",
        "from detectron2.engine import DefaultPredictor\n",
        "from detectron2.config import get_cfg\n",
        "from detectron2 import model_zoo\n",
        "import cv2\n",
        "\n",
        "cfg = get_cfg()\n",
        "cfg.merge_from_file(model_zoo.get_config_file(\"COCO-Detection/faster_rcnn_R_50_FPN_1x.yaml\"))\n",
        "cfg.MODEL.WEIGHTS = model_zoo.get_checkpoint_url(\"COCO-Detection/faster_rcnn_R_50_FPN_1x.yaml\")\n",
        "cfg.MODEL.DEVICE = \"cuda\"  # Use GPU if available\n",
        "\n",
        "predictor = DefaultPredictor(cfg)\n",
        "\n",
        "# Run inference\n",
        "image = cv2.imread(\"/content/images1.jpeg\")\n",
        "outputs = predictor(image)\n",
        "\n"
      ],
      "metadata": {
        "colab": {
          "base_uri": "https://localhost:8080/"
        },
        "id": "01yBzso2CLr9",
        "outputId": "e1f4b707-4416-4990-e731-60e613416f65"
      },
      "execution_count": 3,
      "outputs": [
        {
          "output_type": "stream",
          "name": "stderr",
          "text": [
            "/usr/local/lib/python3.10/dist-packages/torch/functional.py:534: UserWarning: torch.meshgrid: in an upcoming release, it will be required to pass the indexing argument. (Triggered internally at ../aten/src/ATen/native/TensorShape.cpp:3595.)\n",
            "  return _VF.meshgrid(tensors, **kwargs)  # type: ignore[attr-defined]\n"
          ]
        }
      ]
    },
    {
      "cell_type": "code",
      "source": [
        "outputs"
      ],
      "metadata": {
        "colab": {
          "base_uri": "https://localhost:8080/"
        },
        "id": "W9JrYAhHEkWr",
        "outputId": "9b9d832c-7fb4-48e1-e5fd-e4fa6ae60199"
      },
      "execution_count": 4,
      "outputs": [
        {
          "output_type": "execute_result",
          "data": {
            "text/plain": [
              "{'instances': Instances(num_instances=30, image_height=183, image_width=275, fields=[pred_boxes: Boxes(tensor([[159.6228,  29.8215, 274.4419, 177.8635],\n",
              "         [  0.2981,  27.7837, 107.1517, 180.1890],\n",
              "         [ 95.1132,  47.1132, 180.3500, 179.3578],\n",
              "         [ 94.4525,   0.7766, 199.8877,  98.3030],\n",
              "         [239.6262, 106.8305, 274.8610, 180.4270],\n",
              "         [ 64.7278, 157.9862, 110.9275, 182.7695],\n",
              "         [238.5826,  31.4736, 274.7585,  74.0441],\n",
              "         [ 25.3206,  31.5191, 104.4482, 115.4992],\n",
              "         [239.7092, 135.3408, 261.6605, 150.1473],\n",
              "         [173.3416, 153.4801, 200.6980, 182.0933],\n",
              "         [  0.7921, 159.8078,  53.9594, 182.3317],\n",
              "         [239.3792, 119.5907, 272.8102, 153.4942],\n",
              "         [ 77.1502,   0.0000, 204.7429, 179.1526],\n",
              "         [ 41.0192,  26.7672, 155.8368, 178.2694],\n",
              "         [105.0405,  45.0459, 188.5127,  99.7324],\n",
              "         [156.0916, 105.2680, 173.0330, 170.2386],\n",
              "         [239.1697, 123.6093, 272.3930, 156.7105],\n",
              "         [  3.9580, 155.7893, 105.1555, 181.8394],\n",
              "         [ 15.2773,  77.2953,  34.9637, 101.6990],\n",
              "         [236.8980, 111.4600, 271.9160, 176.8424],\n",
              "         [247.5926, 105.9153, 274.2345, 135.5151],\n",
              "         [  0.0000,  74.8493,  66.0054, 178.9438],\n",
              "         [  1.6322, 159.3205,  60.4459, 181.3064],\n",
              "         [ 13.6174,  75.7391,  38.2600, 103.7679],\n",
              "         [239.6171, 130.6153, 268.8824, 150.5518],\n",
              "         [  0.0000, 159.8123,  41.7698, 182.2224],\n",
              "         [127.6204, 149.7424, 173.2511, 182.5496],\n",
              "         [128.2129, 151.7338, 174.1065, 182.8413],\n",
              "         [188.5863,  91.9701, 275.0000, 180.7310],\n",
              "         [252.0662, 117.1262, 274.5703, 131.8690]], device='cuda:0')), scores: tensor([0.9968, 0.9954, 0.9891, 0.8565, 0.4529, 0.3006, 0.2945, 0.2490, 0.2037,\n",
              "         0.2033, 0.1813, 0.1805, 0.1758, 0.1748, 0.1468, 0.1130, 0.1117, 0.0918,\n",
              "         0.0830, 0.0821, 0.0759, 0.0718, 0.0714, 0.0674, 0.0673, 0.0652, 0.0609,\n",
              "         0.0584, 0.0516, 0.0504], device='cuda:0'), pred_classes: tensor([ 0,  0,  0,  0,  0, 32, 58,  0, 67, 28, 46, 67,  0,  0,  0, 34, 65,  0,\n",
              "         67, 39,  0,  0,  0, 35, 54, 47, 18, 16,  0, 27], device='cuda:0')])}"
            ]
          },
          "metadata": {},
          "execution_count": 4
        }
      ]
    },
    {
      "cell_type": "markdown",
      "source": [
        "**27. What file format is typically used to store training data in TFOD2 ?**"
      ],
      "metadata": {
        "id": "yHWLd21YtFJS"
      }
    },
    {
      "cell_type": "markdown",
      "source": [
        "Ans:\n",
        "\n",
        "In **TensorFlow Object Detection 2 (TFOD2)**, the typical file formats used to store training data are **TFRecord files**.\n",
        "\n",
        "### **TFRecord Format**\n",
        "TFRecord is a binary file format that TensorFlow uses for storing data. It is the recommended format for storing large datasets, as it is more efficient for reading and writing compared to other formats like CSV or JSON, especially when dealing with large-scale data.\n",
        "\n",
        "#### **Why TFRecord Format?**\n",
        "- **Efficient Storage and Access**: TFRecord files allow faster input/output operations, which is crucial when working with large datasets.\n",
        "- **Scalability**: Since TFRecord files are binary, they can efficiently handle large volumes of data and scale better compared to text-based formats.\n",
        "- **Optimized for TensorFlow**: TFRecord is specifically designed to work well with TensorFlow, which is the backend framework used by TFOD2.\n",
        "\n",
        "### **How Does TFOD2 Use TFRecord Files?**\n",
        "In TFOD2, training data in TFRecord files consists of two main components:\n",
        "1. **Images**: The training images (stored as binary data in the TFRecord file).\n",
        "2. **Annotations**: The annotations for object detection, which include:\n",
        "   - **Bounding boxes** (coordinates of the objects in the image).\n",
        "   - **Class labels** (identifying the object class).\n",
        "   - **Other metadata** like difficult examples or image format.\n",
        "\n",
        "### **Converting Data to TFRecord**\n",
        "When working with custom datasets, you typically need to convert the dataset into the TFRecord format. This involves:\n",
        "1. **Reading the dataset** (e.g., from images and XML annotation files in Pascal VOC format or JSON files in COCO format).\n",
        "2. **Creating a TFRecord file** using the `tf.train.Example` protocol buffer to store each image and its annotations in the TFRecord file.\n",
        "\n",
        "### **Example of Creating TFRecord**\n",
        "You can convert your custom dataset to TFRecord format using a script or an existing utility like **`create_coco_tf_record.py`** or **`create_pascal_tf_record.py`**, depending on the format of your annotations.\n"
      ],
      "metadata": {
        "id": "pEQccNQgtFGt"
      }
    },
    {
      "cell_type": "markdown",
      "source": [
        "**28. What is the difference between semantic segmentation and instance segmentation ?**"
      ],
      "metadata": {
        "id": "fA6A_38RtFEX"
      }
    },
    {
      "cell_type": "markdown",
      "source": [
        "ans:\n",
        "\n",
        "The difference between **semantic segmentation** and **instance segmentation** lies in how they treat the objects within an image:\n",
        "\n",
        "### 1. **Semantic Segmentation:**\n",
        "- **Definition**: In semantic segmentation, each pixel in an image is labeled with a class (e.g., car, tree, road). The goal is to categorize each pixel into a predefined set of classes.\n",
        "- **What it does**: It segments the image into regions of interest based on object categories, without distinguishing between different objects of the same class.\n",
        "- **Example**: If an image contains two cars, semantic segmentation will label both cars as the same \"car\" class, but it won't distinguish between them.\n",
        "\n",
        "#### Characteristics:\n",
        "- No differentiation between different instances of the same object class.\n",
        "- Only class labels are assigned to pixels.\n",
        "\n",
        "#### Use Cases:\n",
        "- Scene understanding (e.g., autonomous driving, medical image analysis).\n",
        "- Environmental segmentation for classifying regions of interest like roads, buildings, and trees.\n",
        "\n",
        "### 2. **Instance Segmentation:**\n",
        "- **Definition**: Instance segmentation not only labels each pixel with a class (like semantic segmentation) but also distinguishes between different instances of the same class.\n",
        "- **What it does**: It provides a pixel-wise mask for each object instance in an image, meaning that it segments each individual object and labels it separately, even if the objects belong to the same class.\n",
        "- **Example**: If an image contains two cars, instance segmentation will not only label them as \"car\" but also differentiate between the two cars by assigning them different instance labels.\n",
        "\n",
        "#### Characteristics:\n",
        "- Differentiates between distinct instances of the same object class.\n",
        "- Each object gets its own unique mask.\n",
        "\n",
        "#### Use Cases:\n",
        "- Object detection and tracking (e.g., self-driving cars, robotics).\n",
        "- Medical imaging for detecting different instances of tumors or lesions.\n",
        "- Image editing and manipulation (e.g., segmenting and modifying specific objects in an image).\n",
        "\n",
        "### Summary:\n",
        "\n",
        "| Aspect                | **Semantic Segmentation**                             | **Instance Segmentation**                              |\n",
        "|-----------------------|--------------------------------------------------------|--------------------------------------------------------|\n",
        "| **Object Identification** | No differentiation between instances of the same class | Differentiates between instances of the same class      |\n",
        "| **Output**            | Pixel-wise class labels                                | Pixel-wise class labels + unique object instance labels |\n",
        "| **Example**           | All cars are labeled as \"car\" (no distinction)          | Each car is labeled as a separate instance of \"car\"     |\n",
        "| **Use Case**          | General segmentation tasks (e.g., road vs. building)   | Detecting and distinguishing individual objects in complex scenes |\n"
      ],
      "metadata": {
        "id": "DE0t1kGNEndq"
      }
    },
    {
      "cell_type": "markdown",
      "source": [
        "**29. Can Detectron2 detect custom classes during inference ?**"
      ],
      "metadata": {
        "id": "CCFixi1FtFBl"
      }
    },
    {
      "cell_type": "markdown",
      "source": [
        "ans:\n",
        "\n",
        "Yes, **Detectron2** can detect custom classes during inference, but this requires a few steps to configure the model properly. To detect custom classes,\n",
        "\n",
        "### Steps to Enable Custom Class Detection in Detectron2:\n",
        "\n",
        "1. **Prepare Your Custom Dataset:**\n",
        "   - Your dataset should be labeled with the custom classes you want the model to detect. You typically use formats like COCO, Pascal VOC, or Detectron2’s own format.\n",
        "   - Labeling tools such as LabelMe or CVAT can be used to annotate images with bounding boxes and corresponding class labels.\n",
        "\n",
        "2. **Format Your Dataset:**\n",
        "   - Ensure the dataset is in a format supported by Detectron2 (e.g., COCO format or Detectron2's native format). If you're using a custom class, you need to have the correct annotations (labels and bounding boxes) in the dataset.\n",
        "\n",
        "3. **Register Your Dataset:**\n",
        "   - You need to register your custom dataset with Detectron2. This involves using `detectron2.data.DatasetCatalog` and `detectron2.data.MetadataCatalog` to register and provide metadata for the dataset.\n",
        "\n",
        "4. **Configure the Model for Custom Classes:**\n",
        "   - Modify the configuration file to point to your custom dataset and update the `NUM_CLASSES` parameter to reflect the number of custom classes you have.\n",
        "\n",
        "5. **Fine-Tune a Pretrained Model:**\n",
        "   - You can fine-tune a pretrained model (such as Faster R-CNN or Mask R-CNN) on your custom dataset. Fine-tuning involves adjusting the model’s weights based on your dataset and then training it on your specific classes.\n",
        "   - Pretrained weights (like COCO detection weights) can be used as a starting point for your custom classes.\n",
        "\n",
        "6. **Inference with Custom Classes:**\n",
        "   - Once the model is trained (or fine-tuned), you can run inference with the custom model, and it will predict the custom classes defined during training.\n",
        "\n",
        "### Key Points:\n",
        "- **Training**: You need to train or fine-tune the model on your custom dataset containing your specific classes.\n",
        "- **Metadata**: During inference, ensure you correctly reference the metadata of your custom classes for visualization and correct class labels.\n",
        "- **Model Output**: The model will output detections for your custom classes, along with their bounding boxes and class labels.\n"
      ],
      "metadata": {
        "id": "doXA7fXytE-8"
      }
    },
    {
      "cell_type": "code",
      "source": [
        "#Code Snippet for Running Inference on Custom Classes:\n",
        "from detectron2.engine import DefaultPredictor\n",
        "from detectron2.config import get_cfg\n",
        "from detectron2 import model_zoo\n",
        "import cv2\n",
        "\n",
        "# Setup config for custom dataset\n",
        "cfg = get_cfg()\n",
        "cfg.merge_from_file(model_zoo.get_config_file(\"COCO-Detection/faster_rcnn_R_50_FPN_1x.yaml\"))\n",
        "cfg.MODEL.WEIGHTS = model_zoo.get_checkpoint_url(\"COCO-Detection/faster_rcnn_R_50_FPN_1x.yaml\")\n",
        "cfg.MODEL.DEVICE = \"cuda\"  # or 'cpu' if no GPU\n",
        "cfg.DATASETS.TEST = (\"my_custom_dataset_test\",)\n",
        "cfg.DATASETS.TRAIN = (\"my_custom_dataset_train\",)\n",
        "\n",
        "# Set the number of custom classes (e.g., 3 custom classes)\n",
        "cfg.MODEL.ROI_HEADS.NUM_CLASSES = 3\n",
        "\n",
        "# Create a predictor\n",
        "predictor = DefaultPredictor(cfg)\n",
        "\n",
        "# Run inference on a test image\n",
        "image = cv2.imread(\"/content/images1.jpeg\")\n",
        "outputs = predictor(image)\n",
        "\n",
        "# Visualize the results\n",
        "from detectron2.utils.visualizer import Visualizer\n",
        "from detectron2.data import MetadataCatalog\n",
        "\n",
        "metadata = MetadataCatalog.get(cfg.DATASETS.TRAIN[0])\n",
        "v = Visualizer(image[:, :, ::-1], metadata=metadata, scale=1.2)\n",
        "v = v.draw_instance_predictions(outputs[\"instances\"].to(\"cpu\").pred_boxes)\n",
        "cv2.imshow(\"Inference\", v.get_image()[:, :, ::-1])\n",
        "cv2.waitKey(0)\n"
      ],
      "metadata": {
        "id": "JX4vhFgdF80I"
      },
      "execution_count": null,
      "outputs": []
    },
    {
      "cell_type": "markdown",
      "source": [
        "**30. Why is pipeline.config essential in TFOD2 ?**"
      ],
      "metadata": {
        "id": "0YH9aHHku6pC"
      }
    },
    {
      "cell_type": "markdown",
      "source": [
        "Ans:\n",
        "\n",
        "The `pipeline.config` file is essential in **TFOD2** (TensorFlow Object Detection API) because it contains the configuration settings for training a model. It defines key parameters, including:\n",
        "\n",
        "1. **Model Architecture**: Specifies which model to use (e.g., Faster R-CNN, SSD).\n",
        "2. **Hyperparameters**: Configures training settings like learning rate, batch size, and number of steps.\n",
        "3. **Dataset**: Defines input data paths for training and evaluation datasets, including the label map.\n",
        "4. **Pretrained Weights**: Points to the location of pretrained model weights for transfer learning.\n",
        "5. **Evaluation Metrics**: Specifies how the model's performance will be evaluated."
      ],
      "metadata": {
        "id": "I6DqWdw_u6lp"
      }
    },
    {
      "cell_type": "markdown",
      "source": [
        "**31. What type of models does TFOD2 support for object detection ?**"
      ],
      "metadata": {
        "id": "8hYA8sNeu6jY"
      }
    },
    {
      "cell_type": "markdown",
      "source": [
        "Ans:\n",
        "\n",
        "**TFOD2** (TensorFlow Object Detection API) supports various types of models for object detection, including:\n",
        "\n",
        "1. **Faster R-CNN**: A region-based model that uses a Region Proposal Network (RPN) to detect objects.\n",
        "2. **SSD (Single Shot Multibox Detector)**: A fast and efficient model that detects objects in a single pass.\n",
        "3. **RetinaNet**: A model known for handling class imbalance using Focal Loss.\n",
        "4. **EfficientDet**: A more efficient model that balances accuracy and speed.\n",
        "5. **YOLO (You Only Look Once)**: A fast, real-time object detection model (available in TensorFlow implementations).\n"
      ],
      "metadata": {
        "id": "1LoSQqKwGbnb"
      }
    },
    {
      "cell_type": "markdown",
      "source": [
        "**32. What happens if the learning rate is too high during training ?**"
      ],
      "metadata": {
        "id": "Rs4IGG-cu6gm"
      }
    },
    {
      "cell_type": "markdown",
      "source": [
        "Ans:\n",
        "\n",
        "If the learning rate is too high during training, it can cause the model to converge too quickly or even diverge. This means:\n",
        "\n",
        "1. **Overshooting**: The model may skip over the optimal solution, causing unstable training.\n",
        "2. **Divergence**: The loss may increase rather than decrease, leading to poor model performance.\n",
        "3. **Poor Generalization**: The model might fail to learn effectively, resulting in a model that doesn't generalize well to new data.\n"
      ],
      "metadata": {
        "id": "rdPWgQfoGx9t"
      }
    },
    {
      "cell_type": "markdown",
      "source": [
        "**33.What is COCO JSON format ?**"
      ],
      "metadata": {
        "id": "79ZckQe1u6eE"
      }
    },
    {
      "cell_type": "markdown",
      "source": [
        "Ans:\n",
        "\n",
        "The **COCO JSON format** is a widely used annotation format for object detection, segmentation, and image captioning tasks. It is used by the **COCO (Common Objects in Context)** dataset and consists of a structured JSON file containing the following key elements:\n",
        "\n",
        "1. **images**: A list of images with metadata, including image IDs, file names, and dimensions (height, width).\n",
        "2. **annotations**: A list of annotations for each image, which may include bounding boxes (for object detection), segmentation masks (for instance segmentation), and keypoints (for human pose estimation).\n",
        "   - **bbox**: Coordinates for bounding boxes (x, y, width, height).\n",
        "   - **segmentation**: Polygon points for object contours in segmentation tasks.\n",
        "   - **category_id**: The class label for each object.\n",
        "   - **area**: The area of the object in the image.\n",
        "   - **iscrowd**: A flag to indicate whether the annotation is a single object or a group of objects (e.g., in segmentation).\n",
        "3. **categories**: A list of category names with their associated IDs, defining the object classes.\n",
        "4. **info**: Optional metadata about the dataset, such as version or description.\n",
        "5. **licenses**: Information on dataset licensing.\n",
        "\n",
        "This format is widely used for its flexibility and compatibility with object detection frameworks like Detectron2, TensorFlow Object Detection API (TFOD2), and others."
      ],
      "metadata": {
        "id": "qLLOcLq7u6ba"
      }
    },
    {
      "cell_type": "markdown",
      "source": [
        "**34. Why is TensorFlow Lite compatibility important in TFOD2 ?**"
      ],
      "metadata": {
        "id": "bu1D2P-Ru6Yt"
      }
    },
    {
      "cell_type": "markdown",
      "source": [
        "ans:\n",
        "\n",
        "**TensorFlow Lite (TFLite) compatibility** is important in **TFOD2** (TensorFlow Object Detection API) for the following reasons:\n",
        "\n",
        "1. **Efficient Inference on Mobile/Embedded Devices**: TensorFlow Lite is designed to optimize models for mobile and edge devices, which often have limited computational resources. By ensuring compatibility with TensorFlow Lite, models trained with TFOD2 can be efficiently deployed and run on these devices with reduced latency and lower power consumption.\n",
        "\n",
        "2. **Model Optimization**: TFLite supports model quantization (reducing the precision of model weights) and other optimizations like pruning and post-training quantization. These optimizations are crucial for improving inference speed and reducing the model size, making it more feasible to deploy object detection models on resource-constrained environments.\n",
        "\n",
        "3. **Cross-Platform Deployment**: TFLite enables cross-platform deployment, allowing models trained in TensorFlow or TFOD2 to run not only on Android devices but also on iOS, Raspberry Pi, and other embedded systems. This compatibility widens the potential applications for TFOD2-based models.\n",
        "\n",
        "4. **Real-time Object Detection**: For applications requiring real-time object detection (e.g., mobile apps or robotics), TensorFlow Lite provides a fast inference engine. This is especially useful in scenarios like augmented reality, video processing, or autonomous vehicles, where quick object recognition is critical.\n"
      ],
      "metadata": {
        "id": "yc7nS0dLHQnW"
      }
    },
    {
      "cell_type": "markdown",
      "source": [
        "# Practical"
      ],
      "metadata": {
        "id": "KUDtvuoDu6V7"
      }
    },
    {
      "cell_type": "markdown",
      "source": [
        "**1. How do you install Detectron2 using pip and check the version of Detectron2 ?**"
      ],
      "metadata": {
        "id": "KMfehsP5u6TN"
      }
    },
    {
      "cell_type": "code",
      "source": [
        "pip install detectron2 -f https://dl.fbaipublicfiles.com/detectron2/wheels/cu118/torch2.0/index.html\n"
      ],
      "metadata": {
        "id": "geBWU6epW1BQ"
      },
      "execution_count": null,
      "outputs": []
    },
    {
      "cell_type": "code",
      "source": [
        "import detectron2\n",
        "print(detectron2.__version__)\n"
      ],
      "metadata": {
        "id": "gtUY_rz6W1-I"
      },
      "execution_count": null,
      "outputs": []
    },
    {
      "cell_type": "markdown",
      "source": [
        "**2. How do you perform inference with Detectron2 using an online image ?**"
      ],
      "metadata": {
        "id": "XanT-_q_u6MN"
      }
    },
    {
      "cell_type": "markdown",
      "source": [
        "ans:\n",
        "\n",
        "To perform inference with Detectron2 on an **online image**\n",
        "---\n",
        "\n",
        "### **Steps to Perform Inference**\n",
        "1. **Download the Image**\n",
        "   Use a library like `requests` to download the image from a URL.\n",
        "\n",
        "2. **Load and Configure Detectron2**\n",
        "   Configure the model with `DefaultPredictor` using pre-trained weights (e.g., Faster R-CNN).\n",
        "\n",
        "3. **Perform Inference**\n",
        "   Use the `predictor` to process the downloaded image and visualize predictions.\n",
        "\n"
      ],
      "metadata": {
        "id": "T4nGloPrXXLL"
      }
    },
    {
      "cell_type": "code",
      "source": [
        "# Import required libraries\n",
        "import requests\n",
        "import cv2\n",
        "import numpy as np\n",
        "from detectron2.engine import DefaultPredictor\n",
        "from detectron2.config import get_cfg\n",
        "from detectron2 import model_zoo\n",
        "from detectron2.utils.visualizer import Visualizer\n",
        "from detectron2.data import MetadataCatalog\n",
        "\n",
        "# Step 1: Download the online image\n",
        "url = \"https://example.com/sample_image.jpghttps://www.google.com/url?sa=i&url=https%3A%2F%2Fwww.pexels.com%2Fvideo%2Fcars-on-highway-854671%2F&psig=AOvVaw0KccbcgXuwH-C7kNhBkel0&ust=1734454084016000&source=images&cd=vfe&opi=89978449&ved=0CBEQjRxqFwoTCODr_JvfrIoDFQAAAAAdAAAAABAE\"\n",
        "response = requests.get(url)\n",
        "image_array = np.asarray(bytearray(response.content), dtype=\"uint8\")\n",
        "image = cv2.imdecode(image_array, cv2.IMREAD_COLOR)\n",
        "\n",
        "# Step 2: Configure the model\n",
        "cfg = get_cfg()\n",
        "cfg.merge_from_file(model_zoo.get_config_file(\"COCO-Detection/faster_rcnn_R_50_FPN_1x.yaml\"))\n",
        "cfg.MODEL.WEIGHTS = model_zoo.get_checkpoint_url(\"COCO-Detection/faster_rcnn_R_50_FPN_1x.yaml\")\n",
        "cfg.MODEL.DEVICE = \"cuda\"  # Use \"cpu\" if you don't have a GPU\n",
        "predictor = DefaultPredictor(cfg)\n",
        "\n",
        "# Step 3: Perform inference\n",
        "outputs = predictor(image)\n",
        "\n",
        "# Step 4: Visualize the predictions\n",
        "v = Visualizer(image[:, :, ::-1], MetadataCatalog.get(cfg.DATASETS.TRAIN[0]), scale=1.2)\n",
        "v = v.draw_instance_predictions(outputs[\"instances\"].to(\"cpu\"))\n",
        "result_image = v.get_image()[:, :, ::-1]\n",
        "\n",
        "# Step 5: Display or save the result\n",
        "cv2.imwrite(\"output.jpg\", result_image)  # Save the output\n",
        "# Use cv2.imshow(\"Result\", result_image) for local systems (Not for Colab)\n"
      ],
      "metadata": {
        "id": "tePCpZS_Xj8g"
      },
      "execution_count": null,
      "outputs": []
    },
    {
      "cell_type": "code",
      "source": [
        "#download detectron2\n",
        "!pip install 'git+https://github.com/facebookresearch/detectron2.git'\n"
      ],
      "metadata": {
        "colab": {
          "base_uri": "https://localhost:8080/",
          "height": 1000
        },
        "id": "N5Ve50KpYshO",
        "outputId": "df0e899b-e28d-4ac7-f1b0-545c05ed9d03"
      },
      "execution_count": 4,
      "outputs": [
        {
          "output_type": "stream",
          "name": "stdout",
          "text": [
            "Collecting git+https://github.com/facebookresearch/detectron2.git\n",
            "  Cloning https://github.com/facebookresearch/detectron2.git to /tmp/pip-req-build-2x08t7au\n",
            "  Running command git clone --filter=blob:none --quiet https://github.com/facebookresearch/detectron2.git /tmp/pip-req-build-2x08t7au\n",
            "  Resolved https://github.com/facebookresearch/detectron2.git to commit c69939aa85460e8135f40bce908a6cddaa73065f\n",
            "  Preparing metadata (setup.py) ... \u001b[?25l\u001b[?25hdone\n",
            "Requirement already satisfied: Pillow>=7.1 in /usr/local/lib/python3.10/dist-packages (from detectron2==0.6) (11.0.0)\n",
            "Requirement already satisfied: matplotlib in /usr/local/lib/python3.10/dist-packages (from detectron2==0.6) (3.8.0)\n",
            "Requirement already satisfied: pycocotools>=2.0.2 in /usr/local/lib/python3.10/dist-packages (from detectron2==0.6) (2.0.8)\n",
            "Requirement already satisfied: termcolor>=1.1 in /usr/local/lib/python3.10/dist-packages (from detectron2==0.6) (2.5.0)\n",
            "Collecting yacs>=0.1.8 (from detectron2==0.6)\n",
            "  Downloading yacs-0.1.8-py3-none-any.whl.metadata (639 bytes)\n",
            "Requirement already satisfied: tabulate in /usr/local/lib/python3.10/dist-packages (from detectron2==0.6) (0.9.0)\n",
            "Requirement already satisfied: cloudpickle in /usr/local/lib/python3.10/dist-packages (from detectron2==0.6) (3.1.0)\n",
            "Requirement already satisfied: tqdm>4.29.0 in /usr/local/lib/python3.10/dist-packages (from detectron2==0.6) (4.66.6)\n",
            "Requirement already satisfied: tensorboard in /usr/local/lib/python3.10/dist-packages (from detectron2==0.6) (2.17.1)\n",
            "Collecting fvcore<0.1.6,>=0.1.5 (from detectron2==0.6)\n",
            "  Downloading fvcore-0.1.5.post20221221.tar.gz (50 kB)\n",
            "\u001b[2K     \u001b[90m━━━━━━━━━━━━━━━━━━━━━━━━━━━━━━━━━━━━━━━━\u001b[0m \u001b[32m50.2/50.2 kB\u001b[0m \u001b[31m1.9 MB/s\u001b[0m eta \u001b[36m0:00:00\u001b[0m\n",
            "\u001b[?25h  Preparing metadata (setup.py) ... \u001b[?25l\u001b[?25hdone\n",
            "Collecting iopath<0.1.10,>=0.1.7 (from detectron2==0.6)\n",
            "  Downloading iopath-0.1.9-py3-none-any.whl.metadata (370 bytes)\n",
            "Collecting omegaconf<2.4,>=2.1 (from detectron2==0.6)\n",
            "  Downloading omegaconf-2.3.0-py3-none-any.whl.metadata (3.9 kB)\n",
            "Collecting hydra-core>=1.1 (from detectron2==0.6)\n",
            "  Downloading hydra_core-1.3.2-py3-none-any.whl.metadata (5.5 kB)\n",
            "Collecting black (from detectron2==0.6)\n",
            "  Downloading black-24.10.0-cp310-cp310-manylinux_2_17_x86_64.manylinux2014_x86_64.manylinux_2_28_x86_64.whl.metadata (79 kB)\n",
            "\u001b[2K     \u001b[90m━━━━━━━━━━━━━━━━━━━━━━━━━━━━━━━━━━━━━━━━\u001b[0m \u001b[32m79.2/79.2 kB\u001b[0m \u001b[31m4.3 MB/s\u001b[0m eta \u001b[36m0:00:00\u001b[0m\n",
            "\u001b[?25hRequirement already satisfied: packaging in /usr/local/lib/python3.10/dist-packages (from detectron2==0.6) (24.2)\n",
            "Requirement already satisfied: numpy in /usr/local/lib/python3.10/dist-packages (from fvcore<0.1.6,>=0.1.5->detectron2==0.6) (1.26.4)\n",
            "Requirement already satisfied: pyyaml>=5.1 in /usr/local/lib/python3.10/dist-packages (from fvcore<0.1.6,>=0.1.5->detectron2==0.6) (6.0.2)\n",
            "Collecting antlr4-python3-runtime==4.9.* (from hydra-core>=1.1->detectron2==0.6)\n",
            "  Downloading antlr4-python3-runtime-4.9.3.tar.gz (117 kB)\n",
            "\u001b[2K     \u001b[90m━━━━━━━━━━━━━━━━━━━━━━━━━━━━━━━━━━━━━━━━\u001b[0m \u001b[32m117.0/117.0 kB\u001b[0m \u001b[31m8.9 MB/s\u001b[0m eta \u001b[36m0:00:00\u001b[0m\n",
            "\u001b[?25h  Preparing metadata (setup.py) ... \u001b[?25l\u001b[?25hdone\n",
            "Collecting portalocker (from iopath<0.1.10,>=0.1.7->detectron2==0.6)\n",
            "  Downloading portalocker-3.0.0-py3-none-any.whl.metadata (8.5 kB)\n",
            "Requirement already satisfied: contourpy>=1.0.1 in /usr/local/lib/python3.10/dist-packages (from matplotlib->detectron2==0.6) (1.3.1)\n",
            "Requirement already satisfied: cycler>=0.10 in /usr/local/lib/python3.10/dist-packages (from matplotlib->detectron2==0.6) (0.12.1)\n",
            "Requirement already satisfied: fonttools>=4.22.0 in /usr/local/lib/python3.10/dist-packages (from matplotlib->detectron2==0.6) (4.55.3)\n",
            "Requirement already satisfied: kiwisolver>=1.0.1 in /usr/local/lib/python3.10/dist-packages (from matplotlib->detectron2==0.6) (1.4.7)\n",
            "Requirement already satisfied: pyparsing>=2.3.1 in /usr/local/lib/python3.10/dist-packages (from matplotlib->detectron2==0.6) (3.2.0)\n",
            "Requirement already satisfied: python-dateutil>=2.7 in /usr/local/lib/python3.10/dist-packages (from matplotlib->detectron2==0.6) (2.8.2)\n",
            "Requirement already satisfied: click>=8.0.0 in /usr/local/lib/python3.10/dist-packages (from black->detectron2==0.6) (8.1.7)\n",
            "Collecting mypy-extensions>=0.4.3 (from black->detectron2==0.6)\n",
            "  Downloading mypy_extensions-1.0.0-py3-none-any.whl.metadata (1.1 kB)\n",
            "Collecting pathspec>=0.9.0 (from black->detectron2==0.6)\n",
            "  Downloading pathspec-0.12.1-py3-none-any.whl.metadata (21 kB)\n",
            "Requirement already satisfied: platformdirs>=2 in /usr/local/lib/python3.10/dist-packages (from black->detectron2==0.6) (4.3.6)\n",
            "Requirement already satisfied: tomli>=1.1.0 in /usr/local/lib/python3.10/dist-packages (from black->detectron2==0.6) (2.2.1)\n",
            "Requirement already satisfied: typing-extensions>=4.0.1 in /usr/local/lib/python3.10/dist-packages (from black->detectron2==0.6) (4.12.2)\n",
            "Requirement already satisfied: absl-py>=0.4 in /usr/local/lib/python3.10/dist-packages (from tensorboard->detectron2==0.6) (1.4.0)\n",
            "Requirement already satisfied: grpcio>=1.48.2 in /usr/local/lib/python3.10/dist-packages (from tensorboard->detectron2==0.6) (1.68.1)\n",
            "Requirement already satisfied: markdown>=2.6.8 in /usr/local/lib/python3.10/dist-packages (from tensorboard->detectron2==0.6) (3.7)\n",
            "Requirement already satisfied: protobuf!=4.24.0,>=3.19.6 in /usr/local/lib/python3.10/dist-packages (from tensorboard->detectron2==0.6) (4.25.5)\n",
            "Requirement already satisfied: setuptools>=41.0.0 in /usr/local/lib/python3.10/dist-packages (from tensorboard->detectron2==0.6) (75.1.0)\n",
            "Requirement already satisfied: six>1.9 in /usr/local/lib/python3.10/dist-packages (from tensorboard->detectron2==0.6) (1.17.0)\n",
            "Requirement already satisfied: tensorboard-data-server<0.8.0,>=0.7.0 in /usr/local/lib/python3.10/dist-packages (from tensorboard->detectron2==0.6) (0.7.2)\n",
            "Requirement already satisfied: werkzeug>=1.0.1 in /usr/local/lib/python3.10/dist-packages (from tensorboard->detectron2==0.6) (3.1.3)\n",
            "Requirement already satisfied: MarkupSafe>=2.1.1 in /usr/local/lib/python3.10/dist-packages (from werkzeug>=1.0.1->tensorboard->detectron2==0.6) (3.0.2)\n",
            "Downloading hydra_core-1.3.2-py3-none-any.whl (154 kB)\n",
            "\u001b[2K   \u001b[90m━━━━━━━━━━━━━━━━━━━━━━━━━━━━━━━━━━━━━━━━\u001b[0m \u001b[32m154.5/154.5 kB\u001b[0m \u001b[31m10.0 MB/s\u001b[0m eta \u001b[36m0:00:00\u001b[0m\n",
            "\u001b[?25hDownloading iopath-0.1.9-py3-none-any.whl (27 kB)\n",
            "Downloading omegaconf-2.3.0-py3-none-any.whl (79 kB)\n",
            "\u001b[2K   \u001b[90m━━━━━━━━━━━━━━━━━━━━━━━━━━━━━━━━━━━━━━━━\u001b[0m \u001b[32m79.5/79.5 kB\u001b[0m \u001b[31m5.4 MB/s\u001b[0m eta \u001b[36m0:00:00\u001b[0m\n",
            "\u001b[?25hDownloading yacs-0.1.8-py3-none-any.whl (14 kB)\n",
            "Downloading black-24.10.0-cp310-cp310-manylinux_2_17_x86_64.manylinux2014_x86_64.manylinux_2_28_x86_64.whl (1.8 MB)\n",
            "\u001b[2K   \u001b[90m━━━━━━━━━━━━━━━━━━━━━━━━━━━━━━━━━━━━━━━━\u001b[0m \u001b[32m1.8/1.8 MB\u001b[0m \u001b[31m36.0 MB/s\u001b[0m eta \u001b[36m0:00:00\u001b[0m\n",
            "\u001b[?25hDownloading mypy_extensions-1.0.0-py3-none-any.whl (4.7 kB)\n",
            "Downloading pathspec-0.12.1-py3-none-any.whl (31 kB)\n",
            "Downloading portalocker-3.0.0-py3-none-any.whl (19 kB)\n",
            "Building wheels for collected packages: detectron2, fvcore, antlr4-python3-runtime\n",
            "  Building wheel for detectron2 (setup.py) ... \u001b[?25l\u001b[?25hdone\n",
            "  Created wheel for detectron2: filename=detectron2-0.6-cp310-cp310-linux_x86_64.whl size=5974657 sha256=7651d8fe7a47b77b30d50b709f0e5964c4c2eeb51e9710f0534271bd95624430\n",
            "  Stored in directory: /tmp/pip-ephem-wheel-cache-aa4pyame/wheels/47/e5/15/94c80df2ba85500c5d76599cc307c0a7079d0e221bb6fc4375\n",
            "  Building wheel for fvcore (setup.py) ... \u001b[?25l\u001b[?25hdone\n",
            "  Created wheel for fvcore: filename=fvcore-0.1.5.post20221221-py3-none-any.whl size=61396 sha256=fd338ebab563927b1c0b2faf4aeb9abd98c2e99f3c896fd9f7134ed92c3f6a5a\n",
            "  Stored in directory: /root/.cache/pip/wheels/01/c0/af/77c1cf53a1be9e42a52b48e5af2169d40ec2e89f7362489dd0\n",
            "  Building wheel for antlr4-python3-runtime (setup.py) ... \u001b[?25l\u001b[?25hdone\n",
            "  Created wheel for antlr4-python3-runtime: filename=antlr4_python3_runtime-4.9.3-py3-none-any.whl size=144555 sha256=e6cc1cbe90671849f0098b4bf13c5590f4702587cd7bf0abf71bec5e4842778d\n",
            "  Stored in directory: /root/.cache/pip/wheels/12/93/dd/1f6a127edc45659556564c5730f6d4e300888f4bca2d4c5a88\n",
            "Successfully built detectron2 fvcore antlr4-python3-runtime\n",
            "Installing collected packages: antlr4-python3-runtime, yacs, portalocker, pathspec, omegaconf, mypy-extensions, iopath, hydra-core, black, fvcore, detectron2\n",
            "Successfully installed antlr4-python3-runtime-4.9.3 black-24.10.0 detectron2-0.6 fvcore-0.1.5.post20221221 hydra-core-1.3.2 iopath-0.1.9 mypy-extensions-1.0.0 omegaconf-2.3.0 pathspec-0.12.1 portalocker-3.0.0 yacs-0.1.8\n"
          ]
        },
        {
          "output_type": "display_data",
          "data": {
            "application/vnd.colab-display-data+json": {
              "pip_warning": {
                "packages": [
                  "pydevd_plugins"
                ]
              },
              "id": "38e4c79ed9b04ca88c799c92c493ef89"
            }
          },
          "metadata": {}
        }
      ]
    },
    {
      "cell_type": "code",
      "source": [
        "\n",
        "# Import required libraries\n",
        "import requests\n",
        "import cv2\n",
        "import numpy as np\n",
        "from detectron2.engine import DefaultPredictor\n",
        "from detectron2.config import get_cfg\n",
        "from detectron2 import model_zoo\n",
        "from detectron2.utils.visualizer import Visualizer\n",
        "from detectron2.data import MetadataCatalog\n",
        "from google.colab.patches import cv2_imshow  # Import for displaying images in Colab\n",
        "\n",
        "# Step 1: Download the online image\n",
        "url = \"https://example.com/sample_image.jpghttps://www.google.com/url?sa=i&url=https%3A%2F%2Fwww.pexels.com%2Fvideo%2Fcars-on-highway-854671%2F&psig=AOvVaw0KccbcgXuwH-C7kNhBkel0&ust=1734454084016000&source=images&cd=vfe&opi=89978449&ved=0CBEQjRxqFwoTCODr_JvfrIoDFQAAAAAdAAAAABAE\"\n",
        "response = requests.get(url)\n",
        "image_array = np.asarray(bytearray(response.content), dtype=\"uint8\")\n",
        "image = cv2.imdecode(image_array, cv2.IMREAD_COLOR)\n",
        "\n",
        "# Step 2: Configure the model\n",
        "cfg = get_cfg()\n",
        "cfg.merge_from_file(model_zoo.get_config_file(\"COCO-Detection/faster_rcnn_R_50_FPN_1x.yaml\"))\n",
        "cfg.MODEL.WEIGHTS = model_zoo.get_checkpoint_url(\"COCO-Detection/faster_rcnn_R_50_FPN_1x.yaml\")\n",
        "cfg.MODEL.DEVICE = \"cuda\"  # Use \"cpu\" if you don't have a GPU\n",
        "predictor = DefaultPredictor(cfg)\n",
        "\n",
        "# Step 3: Perform inference\n",
        "outputs = predictor(image)\n",
        "\n",
        "# Step 4: Visualize the predictions\n",
        "v = Visualizer(image[:, :, ::-1], MetadataCatalog.get(cfg.DATASETS.TRAIN[0]), scale=1.2)\n",
        "v = v.draw_instance_predictions(outputs[\"instances\"].to(\"cpu\"))\n",
        "result_image = v.get_image()[:, :, ::-1]\n",
        "\n",
        "# Step 5: Display or save the result\n",
        "cv2.imwrite(\"output.jpg\", result_image)  # Save the output\n",
        "cv2_imshow(\"Result\", result_image)  #( for Colab)\n"
      ],
      "metadata": {
        "colab": {
          "base_uri": "https://localhost:8080/",
          "height": 356
        },
        "id": "9prFsEwOYOQJ",
        "outputId": "609ef0fb-6539-4b80-b984-317cb232b62b"
      },
      "execution_count": 4,
      "outputs": [
        {
          "output_type": "error",
          "ename": "RuntimeError",
          "evalue": "Found no NVIDIA driver on your system. Please check that you have an NVIDIA GPU and installed a driver from http://www.nvidia.com/Download/index.aspx",
          "traceback": [
            "\u001b[0;31m---------------------------------------------------------------------------\u001b[0m",
            "\u001b[0;31mRuntimeError\u001b[0m                              Traceback (most recent call last)",
            "\u001b[0;32m<ipython-input-4-2f1b106fc892>\u001b[0m in \u001b[0;36m<cell line: 23>\u001b[0;34m()\u001b[0m\n\u001b[1;32m     21\u001b[0m \u001b[0mcfg\u001b[0m\u001b[0;34m.\u001b[0m\u001b[0mMODEL\u001b[0m\u001b[0;34m.\u001b[0m\u001b[0mWEIGHTS\u001b[0m \u001b[0;34m=\u001b[0m \u001b[0mmodel_zoo\u001b[0m\u001b[0;34m.\u001b[0m\u001b[0mget_checkpoint_url\u001b[0m\u001b[0;34m(\u001b[0m\u001b[0;34m\"COCO-Detection/faster_rcnn_R_50_FPN_1x.yaml\"\u001b[0m\u001b[0;34m)\u001b[0m\u001b[0;34m\u001b[0m\u001b[0;34m\u001b[0m\u001b[0m\n\u001b[1;32m     22\u001b[0m \u001b[0mcfg\u001b[0m\u001b[0;34m.\u001b[0m\u001b[0mMODEL\u001b[0m\u001b[0;34m.\u001b[0m\u001b[0mDEVICE\u001b[0m \u001b[0;34m=\u001b[0m \u001b[0;34m\"cuda\"\u001b[0m  \u001b[0;31m# Use \"cpu\" if you don't have a GPU\u001b[0m\u001b[0;34m\u001b[0m\u001b[0;34m\u001b[0m\u001b[0m\n\u001b[0;32m---> 23\u001b[0;31m \u001b[0mpredictor\u001b[0m \u001b[0;34m=\u001b[0m \u001b[0mDefaultPredictor\u001b[0m\u001b[0;34m(\u001b[0m\u001b[0mcfg\u001b[0m\u001b[0;34m)\u001b[0m\u001b[0;34m\u001b[0m\u001b[0;34m\u001b[0m\u001b[0m\n\u001b[0m\u001b[1;32m     24\u001b[0m \u001b[0;34m\u001b[0m\u001b[0m\n\u001b[1;32m     25\u001b[0m \u001b[0;31m# Step 3: Perform inference\u001b[0m\u001b[0;34m\u001b[0m\u001b[0;34m\u001b[0m\u001b[0m\n",
            "\u001b[0;32m/usr/local/lib/python3.10/dist-packages/detectron2/engine/defaults.py\u001b[0m in \u001b[0;36m__init__\u001b[0;34m(self, cfg)\u001b[0m\n\u001b[1;32m    312\u001b[0m     \u001b[0;32mdef\u001b[0m \u001b[0m__init__\u001b[0m\u001b[0;34m(\u001b[0m\u001b[0mself\u001b[0m\u001b[0;34m,\u001b[0m \u001b[0mcfg\u001b[0m\u001b[0;34m)\u001b[0m\u001b[0;34m:\u001b[0m\u001b[0;34m\u001b[0m\u001b[0;34m\u001b[0m\u001b[0m\n\u001b[1;32m    313\u001b[0m         \u001b[0mself\u001b[0m\u001b[0;34m.\u001b[0m\u001b[0mcfg\u001b[0m \u001b[0;34m=\u001b[0m \u001b[0mcfg\u001b[0m\u001b[0;34m.\u001b[0m\u001b[0mclone\u001b[0m\u001b[0;34m(\u001b[0m\u001b[0;34m)\u001b[0m  \u001b[0;31m# cfg can be modified by model\u001b[0m\u001b[0;34m\u001b[0m\u001b[0;34m\u001b[0m\u001b[0m\n\u001b[0;32m--> 314\u001b[0;31m         \u001b[0mself\u001b[0m\u001b[0;34m.\u001b[0m\u001b[0mmodel\u001b[0m \u001b[0;34m=\u001b[0m \u001b[0mbuild_model\u001b[0m\u001b[0;34m(\u001b[0m\u001b[0mself\u001b[0m\u001b[0;34m.\u001b[0m\u001b[0mcfg\u001b[0m\u001b[0;34m)\u001b[0m\u001b[0;34m\u001b[0m\u001b[0;34m\u001b[0m\u001b[0m\n\u001b[0m\u001b[1;32m    315\u001b[0m         \u001b[0mself\u001b[0m\u001b[0;34m.\u001b[0m\u001b[0mmodel\u001b[0m\u001b[0;34m.\u001b[0m\u001b[0meval\u001b[0m\u001b[0;34m(\u001b[0m\u001b[0;34m)\u001b[0m\u001b[0;34m\u001b[0m\u001b[0;34m\u001b[0m\u001b[0m\n\u001b[1;32m    316\u001b[0m         \u001b[0;32mif\u001b[0m \u001b[0mlen\u001b[0m\u001b[0;34m(\u001b[0m\u001b[0mcfg\u001b[0m\u001b[0;34m.\u001b[0m\u001b[0mDATASETS\u001b[0m\u001b[0;34m.\u001b[0m\u001b[0mTEST\u001b[0m\u001b[0;34m)\u001b[0m\u001b[0;34m:\u001b[0m\u001b[0;34m\u001b[0m\u001b[0;34m\u001b[0m\u001b[0m\n",
            "\u001b[0;32m/usr/local/lib/python3.10/dist-packages/detectron2/modeling/meta_arch/build.py\u001b[0m in \u001b[0;36mbuild_model\u001b[0;34m(cfg)\u001b[0m\n\u001b[1;32m     21\u001b[0m     \u001b[0mmeta_arch\u001b[0m \u001b[0;34m=\u001b[0m \u001b[0mcfg\u001b[0m\u001b[0;34m.\u001b[0m\u001b[0mMODEL\u001b[0m\u001b[0;34m.\u001b[0m\u001b[0mMETA_ARCHITECTURE\u001b[0m\u001b[0;34m\u001b[0m\u001b[0;34m\u001b[0m\u001b[0m\n\u001b[1;32m     22\u001b[0m     \u001b[0mmodel\u001b[0m \u001b[0;34m=\u001b[0m \u001b[0mMETA_ARCH_REGISTRY\u001b[0m\u001b[0;34m.\u001b[0m\u001b[0mget\u001b[0m\u001b[0;34m(\u001b[0m\u001b[0mmeta_arch\u001b[0m\u001b[0;34m)\u001b[0m\u001b[0;34m(\u001b[0m\u001b[0mcfg\u001b[0m\u001b[0;34m)\u001b[0m\u001b[0;34m\u001b[0m\u001b[0;34m\u001b[0m\u001b[0m\n\u001b[0;32m---> 23\u001b[0;31m     \u001b[0mmodel\u001b[0m\u001b[0;34m.\u001b[0m\u001b[0mto\u001b[0m\u001b[0;34m(\u001b[0m\u001b[0mtorch\u001b[0m\u001b[0;34m.\u001b[0m\u001b[0mdevice\u001b[0m\u001b[0;34m(\u001b[0m\u001b[0mcfg\u001b[0m\u001b[0;34m.\u001b[0m\u001b[0mMODEL\u001b[0m\u001b[0;34m.\u001b[0m\u001b[0mDEVICE\u001b[0m\u001b[0;34m)\u001b[0m\u001b[0;34m)\u001b[0m\u001b[0;34m\u001b[0m\u001b[0;34m\u001b[0m\u001b[0m\n\u001b[0m\u001b[1;32m     24\u001b[0m     \u001b[0m_log_api_usage\u001b[0m\u001b[0;34m(\u001b[0m\u001b[0;34m\"modeling.meta_arch.\"\u001b[0m \u001b[0;34m+\u001b[0m \u001b[0mmeta_arch\u001b[0m\u001b[0;34m)\u001b[0m\u001b[0;34m\u001b[0m\u001b[0;34m\u001b[0m\u001b[0m\n\u001b[1;32m     25\u001b[0m     \u001b[0;32mreturn\u001b[0m \u001b[0mmodel\u001b[0m\u001b[0;34m\u001b[0m\u001b[0;34m\u001b[0m\u001b[0m\n",
            "\u001b[0;32m/usr/local/lib/python3.10/dist-packages/torch/nn/modules/module.py\u001b[0m in \u001b[0;36mto\u001b[0;34m(self, *args, **kwargs)\u001b[0m\n\u001b[1;32m   1338\u001b[0m                     \u001b[0;32mraise\u001b[0m\u001b[0;34m\u001b[0m\u001b[0;34m\u001b[0m\u001b[0m\n\u001b[1;32m   1339\u001b[0m \u001b[0;34m\u001b[0m\u001b[0m\n\u001b[0;32m-> 1340\u001b[0;31m         \u001b[0;32mreturn\u001b[0m \u001b[0mself\u001b[0m\u001b[0;34m.\u001b[0m\u001b[0m_apply\u001b[0m\u001b[0;34m(\u001b[0m\u001b[0mconvert\u001b[0m\u001b[0;34m)\u001b[0m\u001b[0;34m\u001b[0m\u001b[0;34m\u001b[0m\u001b[0m\n\u001b[0m\u001b[1;32m   1341\u001b[0m \u001b[0;34m\u001b[0m\u001b[0m\n\u001b[1;32m   1342\u001b[0m     def register_full_backward_pre_hook(\n",
            "\u001b[0;32m/usr/local/lib/python3.10/dist-packages/torch/nn/modules/module.py\u001b[0m in \u001b[0;36m_apply\u001b[0;34m(self, fn, recurse)\u001b[0m\n\u001b[1;32m    898\u001b[0m         \u001b[0;32mif\u001b[0m \u001b[0mrecurse\u001b[0m\u001b[0;34m:\u001b[0m\u001b[0;34m\u001b[0m\u001b[0;34m\u001b[0m\u001b[0m\n\u001b[1;32m    899\u001b[0m             \u001b[0;32mfor\u001b[0m \u001b[0mmodule\u001b[0m \u001b[0;32min\u001b[0m \u001b[0mself\u001b[0m\u001b[0;34m.\u001b[0m\u001b[0mchildren\u001b[0m\u001b[0;34m(\u001b[0m\u001b[0;34m)\u001b[0m\u001b[0;34m:\u001b[0m\u001b[0;34m\u001b[0m\u001b[0;34m\u001b[0m\u001b[0m\n\u001b[0;32m--> 900\u001b[0;31m                 \u001b[0mmodule\u001b[0m\u001b[0;34m.\u001b[0m\u001b[0m_apply\u001b[0m\u001b[0;34m(\u001b[0m\u001b[0mfn\u001b[0m\u001b[0;34m)\u001b[0m\u001b[0;34m\u001b[0m\u001b[0;34m\u001b[0m\u001b[0m\n\u001b[0m\u001b[1;32m    901\u001b[0m \u001b[0;34m\u001b[0m\u001b[0m\n\u001b[1;32m    902\u001b[0m         \u001b[0;32mdef\u001b[0m \u001b[0mcompute_should_use_set_data\u001b[0m\u001b[0;34m(\u001b[0m\u001b[0mtensor\u001b[0m\u001b[0;34m,\u001b[0m \u001b[0mtensor_applied\u001b[0m\u001b[0;34m)\u001b[0m\u001b[0;34m:\u001b[0m\u001b[0;34m\u001b[0m\u001b[0;34m\u001b[0m\u001b[0m\n",
            "\u001b[0;32m/usr/local/lib/python3.10/dist-packages/torch/nn/modules/module.py\u001b[0m in \u001b[0;36m_apply\u001b[0;34m(self, fn, recurse)\u001b[0m\n\u001b[1;32m    898\u001b[0m         \u001b[0;32mif\u001b[0m \u001b[0mrecurse\u001b[0m\u001b[0;34m:\u001b[0m\u001b[0;34m\u001b[0m\u001b[0;34m\u001b[0m\u001b[0m\n\u001b[1;32m    899\u001b[0m             \u001b[0;32mfor\u001b[0m \u001b[0mmodule\u001b[0m \u001b[0;32min\u001b[0m \u001b[0mself\u001b[0m\u001b[0;34m.\u001b[0m\u001b[0mchildren\u001b[0m\u001b[0;34m(\u001b[0m\u001b[0;34m)\u001b[0m\u001b[0;34m:\u001b[0m\u001b[0;34m\u001b[0m\u001b[0;34m\u001b[0m\u001b[0m\n\u001b[0;32m--> 900\u001b[0;31m                 \u001b[0mmodule\u001b[0m\u001b[0;34m.\u001b[0m\u001b[0m_apply\u001b[0m\u001b[0;34m(\u001b[0m\u001b[0mfn\u001b[0m\u001b[0;34m)\u001b[0m\u001b[0;34m\u001b[0m\u001b[0;34m\u001b[0m\u001b[0m\n\u001b[0m\u001b[1;32m    901\u001b[0m \u001b[0;34m\u001b[0m\u001b[0m\n\u001b[1;32m    902\u001b[0m         \u001b[0;32mdef\u001b[0m \u001b[0mcompute_should_use_set_data\u001b[0m\u001b[0;34m(\u001b[0m\u001b[0mtensor\u001b[0m\u001b[0;34m,\u001b[0m \u001b[0mtensor_applied\u001b[0m\u001b[0;34m)\u001b[0m\u001b[0;34m:\u001b[0m\u001b[0;34m\u001b[0m\u001b[0;34m\u001b[0m\u001b[0m\n",
            "\u001b[0;32m/usr/local/lib/python3.10/dist-packages/torch/nn/modules/module.py\u001b[0m in \u001b[0;36m_apply\u001b[0;34m(self, fn, recurse)\u001b[0m\n\u001b[1;32m    925\u001b[0m             \u001b[0;31m# `with torch.no_grad():`\u001b[0m\u001b[0;34m\u001b[0m\u001b[0;34m\u001b[0m\u001b[0m\n\u001b[1;32m    926\u001b[0m             \u001b[0;32mwith\u001b[0m \u001b[0mtorch\u001b[0m\u001b[0;34m.\u001b[0m\u001b[0mno_grad\u001b[0m\u001b[0;34m(\u001b[0m\u001b[0;34m)\u001b[0m\u001b[0;34m:\u001b[0m\u001b[0;34m\u001b[0m\u001b[0;34m\u001b[0m\u001b[0m\n\u001b[0;32m--> 927\u001b[0;31m                 \u001b[0mparam_applied\u001b[0m \u001b[0;34m=\u001b[0m \u001b[0mfn\u001b[0m\u001b[0;34m(\u001b[0m\u001b[0mparam\u001b[0m\u001b[0;34m)\u001b[0m\u001b[0;34m\u001b[0m\u001b[0;34m\u001b[0m\u001b[0m\n\u001b[0m\u001b[1;32m    928\u001b[0m             \u001b[0mp_should_use_set_data\u001b[0m \u001b[0;34m=\u001b[0m \u001b[0mcompute_should_use_set_data\u001b[0m\u001b[0;34m(\u001b[0m\u001b[0mparam\u001b[0m\u001b[0;34m,\u001b[0m \u001b[0mparam_applied\u001b[0m\u001b[0;34m)\u001b[0m\u001b[0;34m\u001b[0m\u001b[0;34m\u001b[0m\u001b[0m\n\u001b[1;32m    929\u001b[0m \u001b[0;34m\u001b[0m\u001b[0m\n",
            "\u001b[0;32m/usr/local/lib/python3.10/dist-packages/torch/nn/modules/module.py\u001b[0m in \u001b[0;36mconvert\u001b[0;34m(t)\u001b[0m\n\u001b[1;32m   1324\u001b[0m                         \u001b[0mmemory_format\u001b[0m\u001b[0;34m=\u001b[0m\u001b[0mconvert_to_format\u001b[0m\u001b[0;34m,\u001b[0m\u001b[0;34m\u001b[0m\u001b[0;34m\u001b[0m\u001b[0m\n\u001b[1;32m   1325\u001b[0m                     )\n\u001b[0;32m-> 1326\u001b[0;31m                 return t.to(\n\u001b[0m\u001b[1;32m   1327\u001b[0m                     \u001b[0mdevice\u001b[0m\u001b[0;34m,\u001b[0m\u001b[0;34m\u001b[0m\u001b[0;34m\u001b[0m\u001b[0m\n\u001b[1;32m   1328\u001b[0m                     \u001b[0mdtype\u001b[0m \u001b[0;32mif\u001b[0m \u001b[0mt\u001b[0m\u001b[0;34m.\u001b[0m\u001b[0mis_floating_point\u001b[0m\u001b[0;34m(\u001b[0m\u001b[0;34m)\u001b[0m \u001b[0;32mor\u001b[0m \u001b[0mt\u001b[0m\u001b[0;34m.\u001b[0m\u001b[0mis_complex\u001b[0m\u001b[0;34m(\u001b[0m\u001b[0;34m)\u001b[0m \u001b[0;32melse\u001b[0m \u001b[0;32mNone\u001b[0m\u001b[0;34m,\u001b[0m\u001b[0;34m\u001b[0m\u001b[0;34m\u001b[0m\u001b[0m\n",
            "\u001b[0;32m/usr/local/lib/python3.10/dist-packages/torch/cuda/__init__.py\u001b[0m in \u001b[0;36m_lazy_init\u001b[0;34m()\u001b[0m\n\u001b[1;32m    317\u001b[0m         \u001b[0;32mif\u001b[0m \u001b[0;34m\"CUDA_MODULE_LOADING\"\u001b[0m \u001b[0;32mnot\u001b[0m \u001b[0;32min\u001b[0m \u001b[0mos\u001b[0m\u001b[0;34m.\u001b[0m\u001b[0menviron\u001b[0m\u001b[0;34m:\u001b[0m\u001b[0;34m\u001b[0m\u001b[0;34m\u001b[0m\u001b[0m\n\u001b[1;32m    318\u001b[0m             \u001b[0mos\u001b[0m\u001b[0;34m.\u001b[0m\u001b[0menviron\u001b[0m\u001b[0;34m[\u001b[0m\u001b[0;34m\"CUDA_MODULE_LOADING\"\u001b[0m\u001b[0;34m]\u001b[0m \u001b[0;34m=\u001b[0m \u001b[0;34m\"LAZY\"\u001b[0m\u001b[0;34m\u001b[0m\u001b[0;34m\u001b[0m\u001b[0m\n\u001b[0;32m--> 319\u001b[0;31m         \u001b[0mtorch\u001b[0m\u001b[0;34m.\u001b[0m\u001b[0m_C\u001b[0m\u001b[0;34m.\u001b[0m\u001b[0m_cuda_init\u001b[0m\u001b[0;34m(\u001b[0m\u001b[0;34m)\u001b[0m\u001b[0;34m\u001b[0m\u001b[0;34m\u001b[0m\u001b[0m\n\u001b[0m\u001b[1;32m    320\u001b[0m         \u001b[0;31m# Some of the queued calls may reentrantly call _lazy_init();\u001b[0m\u001b[0;34m\u001b[0m\u001b[0;34m\u001b[0m\u001b[0m\n\u001b[1;32m    321\u001b[0m         \u001b[0;31m# we need to just return without initializing in that case.\u001b[0m\u001b[0;34m\u001b[0m\u001b[0;34m\u001b[0m\u001b[0m\n",
            "\u001b[0;31mRuntimeError\u001b[0m: Found no NVIDIA driver on your system. Please check that you have an NVIDIA GPU and installed a driver from http://www.nvidia.com/Download/index.aspx"
          ]
        }
      ]
    },
    {
      "cell_type": "markdown",
      "source": [
        "**3. How do you visualize evaluation metrics in Detectron2, such as training loss?**"
      ],
      "metadata": {
        "id": "l7yngxjbu6Gt"
      }
    },
    {
      "cell_type": "code",
      "source": [
        "from detectron2.engine import DefaultTrainer\n",
        "from detectron2.config import get_cfg\n",
        "from detectron2.utils.logger import setup_logger\n",
        "\n",
        "setup_logger()\n",
        "\n",
        "cfg = get_cfg()\n",
        "cfg.merge_from_file(model_zoo.get_config_file(\"COCO-Detection/faster_rcnn_R_50_FPN_1x.yaml\"))\n",
        "cfg.DATASETS.TRAIN = (\"my_train_dataset\",)\n",
        "cfg.DATASETS.TEST = (\"my_val_dataset\",)\n",
        "cfg.DATALOADER.NUM_WORKERS = 2\n",
        "cfg.MODEL.WEIGHTS = model_zoo.get_checkpoint_url(\"COCO-Detection/faster_rcnn_R_50_FPN_1x.yaml\")\n",
        "cfg.SOLVER.IMS_PER_BATCH = 2\n",
        "cfg.SOLVER.BASE_LR = 0.001\n",
        "cfg.SOLVER.MAX_ITER = 1000\n",
        "cfg.MODEL.ROI_HEADS.NUM_CLASSES = 3  # Number of custom classes\n",
        "cfg.OUTPUT_DIR = \"./output\"\n",
        "\n",
        "trainer = DefaultTrainer(cfg)\n",
        "trainer.resume_or_load(resume=False)\n",
        "trainer.train()\n"
      ],
      "metadata": {
        "colab": {
          "base_uri": "https://localhost:8080/",
          "height": 356
        },
        "id": "cOq-P2BkaG0C",
        "outputId": "3bae0e11-6caa-4951-89a9-13871e06af6a"
      },
      "execution_count": 5,
      "outputs": [
        {
          "output_type": "error",
          "ename": "RuntimeError",
          "evalue": "Found no NVIDIA driver on your system. Please check that you have an NVIDIA GPU and installed a driver from http://www.nvidia.com/Download/index.aspx",
          "traceback": [
            "\u001b[0;31m---------------------------------------------------------------------------\u001b[0m",
            "\u001b[0;31mRuntimeError\u001b[0m                              Traceback (most recent call last)",
            "\u001b[0;32m<ipython-input-5-854b9947eb77>\u001b[0m in \u001b[0;36m<cell line: 19>\u001b[0;34m()\u001b[0m\n\u001b[1;32m     17\u001b[0m \u001b[0mcfg\u001b[0m\u001b[0;34m.\u001b[0m\u001b[0mOUTPUT_DIR\u001b[0m \u001b[0;34m=\u001b[0m \u001b[0;34m\"./output\"\u001b[0m\u001b[0;34m\u001b[0m\u001b[0;34m\u001b[0m\u001b[0m\n\u001b[1;32m     18\u001b[0m \u001b[0;34m\u001b[0m\u001b[0m\n\u001b[0;32m---> 19\u001b[0;31m \u001b[0mtrainer\u001b[0m \u001b[0;34m=\u001b[0m \u001b[0mDefaultTrainer\u001b[0m\u001b[0;34m(\u001b[0m\u001b[0mcfg\u001b[0m\u001b[0;34m)\u001b[0m\u001b[0;34m\u001b[0m\u001b[0;34m\u001b[0m\u001b[0m\n\u001b[0m\u001b[1;32m     20\u001b[0m \u001b[0mtrainer\u001b[0m\u001b[0;34m.\u001b[0m\u001b[0mresume_or_load\u001b[0m\u001b[0;34m(\u001b[0m\u001b[0mresume\u001b[0m\u001b[0;34m=\u001b[0m\u001b[0;32mFalse\u001b[0m\u001b[0;34m)\u001b[0m\u001b[0;34m\u001b[0m\u001b[0;34m\u001b[0m\u001b[0m\n\u001b[1;32m     21\u001b[0m \u001b[0mtrainer\u001b[0m\u001b[0;34m.\u001b[0m\u001b[0mtrain\u001b[0m\u001b[0;34m(\u001b[0m\u001b[0;34m)\u001b[0m\u001b[0;34m\u001b[0m\u001b[0;34m\u001b[0m\u001b[0m\n",
            "\u001b[0;32m/usr/local/lib/python3.10/dist-packages/detectron2/engine/defaults.py\u001b[0m in \u001b[0;36m__init__\u001b[0;34m(self, cfg)\u001b[0m\n\u001b[1;32m    408\u001b[0m \u001b[0;34m\u001b[0m\u001b[0m\n\u001b[1;32m    409\u001b[0m         \u001b[0;31m# Assume these objects must be constructed in this order.\u001b[0m\u001b[0;34m\u001b[0m\u001b[0;34m\u001b[0m\u001b[0m\n\u001b[0;32m--> 410\u001b[0;31m         \u001b[0mmodel\u001b[0m \u001b[0;34m=\u001b[0m \u001b[0mself\u001b[0m\u001b[0;34m.\u001b[0m\u001b[0mbuild_model\u001b[0m\u001b[0;34m(\u001b[0m\u001b[0mcfg\u001b[0m\u001b[0;34m)\u001b[0m\u001b[0;34m\u001b[0m\u001b[0;34m\u001b[0m\u001b[0m\n\u001b[0m\u001b[1;32m    411\u001b[0m         \u001b[0moptimizer\u001b[0m \u001b[0;34m=\u001b[0m \u001b[0mself\u001b[0m\u001b[0;34m.\u001b[0m\u001b[0mbuild_optimizer\u001b[0m\u001b[0;34m(\u001b[0m\u001b[0mcfg\u001b[0m\u001b[0;34m,\u001b[0m \u001b[0mmodel\u001b[0m\u001b[0;34m)\u001b[0m\u001b[0;34m\u001b[0m\u001b[0;34m\u001b[0m\u001b[0m\n\u001b[1;32m    412\u001b[0m         \u001b[0mdata_loader\u001b[0m \u001b[0;34m=\u001b[0m \u001b[0mself\u001b[0m\u001b[0;34m.\u001b[0m\u001b[0mbuild_train_loader\u001b[0m\u001b[0;34m(\u001b[0m\u001b[0mcfg\u001b[0m\u001b[0;34m)\u001b[0m\u001b[0;34m\u001b[0m\u001b[0;34m\u001b[0m\u001b[0m\n",
            "\u001b[0;32m/usr/local/lib/python3.10/dist-packages/detectron2/engine/defaults.py\u001b[0m in \u001b[0;36mbuild_model\u001b[0;34m(cls, cfg)\u001b[0m\n\u001b[1;32m    548\u001b[0m         \u001b[0mOverwrite\u001b[0m \u001b[0mit\u001b[0m \u001b[0;32mif\u001b[0m \u001b[0myou\u001b[0m\u001b[0;31m'\u001b[0m\u001b[0md\u001b[0m \u001b[0mlike\u001b[0m \u001b[0ma\u001b[0m \u001b[0mdifferent\u001b[0m \u001b[0mmodel\u001b[0m\u001b[0;34m.\u001b[0m\u001b[0;34m\u001b[0m\u001b[0;34m\u001b[0m\u001b[0m\n\u001b[1;32m    549\u001b[0m         \"\"\"\n\u001b[0;32m--> 550\u001b[0;31m         \u001b[0mmodel\u001b[0m \u001b[0;34m=\u001b[0m \u001b[0mbuild_model\u001b[0m\u001b[0;34m(\u001b[0m\u001b[0mcfg\u001b[0m\u001b[0;34m)\u001b[0m\u001b[0;34m\u001b[0m\u001b[0;34m\u001b[0m\u001b[0m\n\u001b[0m\u001b[1;32m    551\u001b[0m         \u001b[0mlogger\u001b[0m \u001b[0;34m=\u001b[0m \u001b[0mlogging\u001b[0m\u001b[0;34m.\u001b[0m\u001b[0mgetLogger\u001b[0m\u001b[0;34m(\u001b[0m\u001b[0m__name__\u001b[0m\u001b[0;34m)\u001b[0m\u001b[0;34m\u001b[0m\u001b[0;34m\u001b[0m\u001b[0m\n\u001b[1;32m    552\u001b[0m         \u001b[0mlogger\u001b[0m\u001b[0;34m.\u001b[0m\u001b[0minfo\u001b[0m\u001b[0;34m(\u001b[0m\u001b[0;34m\"Model:\\n{}\"\u001b[0m\u001b[0;34m.\u001b[0m\u001b[0mformat\u001b[0m\u001b[0;34m(\u001b[0m\u001b[0mmodel\u001b[0m\u001b[0;34m)\u001b[0m\u001b[0;34m)\u001b[0m\u001b[0;34m\u001b[0m\u001b[0;34m\u001b[0m\u001b[0m\n",
            "\u001b[0;32m/usr/local/lib/python3.10/dist-packages/detectron2/modeling/meta_arch/build.py\u001b[0m in \u001b[0;36mbuild_model\u001b[0;34m(cfg)\u001b[0m\n\u001b[1;32m     21\u001b[0m     \u001b[0mmeta_arch\u001b[0m \u001b[0;34m=\u001b[0m \u001b[0mcfg\u001b[0m\u001b[0;34m.\u001b[0m\u001b[0mMODEL\u001b[0m\u001b[0;34m.\u001b[0m\u001b[0mMETA_ARCHITECTURE\u001b[0m\u001b[0;34m\u001b[0m\u001b[0;34m\u001b[0m\u001b[0m\n\u001b[1;32m     22\u001b[0m     \u001b[0mmodel\u001b[0m \u001b[0;34m=\u001b[0m \u001b[0mMETA_ARCH_REGISTRY\u001b[0m\u001b[0;34m.\u001b[0m\u001b[0mget\u001b[0m\u001b[0;34m(\u001b[0m\u001b[0mmeta_arch\u001b[0m\u001b[0;34m)\u001b[0m\u001b[0;34m(\u001b[0m\u001b[0mcfg\u001b[0m\u001b[0;34m)\u001b[0m\u001b[0;34m\u001b[0m\u001b[0;34m\u001b[0m\u001b[0m\n\u001b[0;32m---> 23\u001b[0;31m     \u001b[0mmodel\u001b[0m\u001b[0;34m.\u001b[0m\u001b[0mto\u001b[0m\u001b[0;34m(\u001b[0m\u001b[0mtorch\u001b[0m\u001b[0;34m.\u001b[0m\u001b[0mdevice\u001b[0m\u001b[0;34m(\u001b[0m\u001b[0mcfg\u001b[0m\u001b[0;34m.\u001b[0m\u001b[0mMODEL\u001b[0m\u001b[0;34m.\u001b[0m\u001b[0mDEVICE\u001b[0m\u001b[0;34m)\u001b[0m\u001b[0;34m)\u001b[0m\u001b[0;34m\u001b[0m\u001b[0;34m\u001b[0m\u001b[0m\n\u001b[0m\u001b[1;32m     24\u001b[0m     \u001b[0m_log_api_usage\u001b[0m\u001b[0;34m(\u001b[0m\u001b[0;34m\"modeling.meta_arch.\"\u001b[0m \u001b[0;34m+\u001b[0m \u001b[0mmeta_arch\u001b[0m\u001b[0;34m)\u001b[0m\u001b[0;34m\u001b[0m\u001b[0;34m\u001b[0m\u001b[0m\n\u001b[1;32m     25\u001b[0m     \u001b[0;32mreturn\u001b[0m \u001b[0mmodel\u001b[0m\u001b[0;34m\u001b[0m\u001b[0;34m\u001b[0m\u001b[0m\n",
            "\u001b[0;32m/usr/local/lib/python3.10/dist-packages/torch/nn/modules/module.py\u001b[0m in \u001b[0;36mto\u001b[0;34m(self, *args, **kwargs)\u001b[0m\n\u001b[1;32m   1338\u001b[0m                     \u001b[0;32mraise\u001b[0m\u001b[0;34m\u001b[0m\u001b[0;34m\u001b[0m\u001b[0m\n\u001b[1;32m   1339\u001b[0m \u001b[0;34m\u001b[0m\u001b[0m\n\u001b[0;32m-> 1340\u001b[0;31m         \u001b[0;32mreturn\u001b[0m \u001b[0mself\u001b[0m\u001b[0;34m.\u001b[0m\u001b[0m_apply\u001b[0m\u001b[0;34m(\u001b[0m\u001b[0mconvert\u001b[0m\u001b[0;34m)\u001b[0m\u001b[0;34m\u001b[0m\u001b[0;34m\u001b[0m\u001b[0m\n\u001b[0m\u001b[1;32m   1341\u001b[0m \u001b[0;34m\u001b[0m\u001b[0m\n\u001b[1;32m   1342\u001b[0m     def register_full_backward_pre_hook(\n",
            "\u001b[0;32m/usr/local/lib/python3.10/dist-packages/torch/nn/modules/module.py\u001b[0m in \u001b[0;36m_apply\u001b[0;34m(self, fn, recurse)\u001b[0m\n\u001b[1;32m    898\u001b[0m         \u001b[0;32mif\u001b[0m \u001b[0mrecurse\u001b[0m\u001b[0;34m:\u001b[0m\u001b[0;34m\u001b[0m\u001b[0;34m\u001b[0m\u001b[0m\n\u001b[1;32m    899\u001b[0m             \u001b[0;32mfor\u001b[0m \u001b[0mmodule\u001b[0m \u001b[0;32min\u001b[0m \u001b[0mself\u001b[0m\u001b[0;34m.\u001b[0m\u001b[0mchildren\u001b[0m\u001b[0;34m(\u001b[0m\u001b[0;34m)\u001b[0m\u001b[0;34m:\u001b[0m\u001b[0;34m\u001b[0m\u001b[0;34m\u001b[0m\u001b[0m\n\u001b[0;32m--> 900\u001b[0;31m                 \u001b[0mmodule\u001b[0m\u001b[0;34m.\u001b[0m\u001b[0m_apply\u001b[0m\u001b[0;34m(\u001b[0m\u001b[0mfn\u001b[0m\u001b[0;34m)\u001b[0m\u001b[0;34m\u001b[0m\u001b[0;34m\u001b[0m\u001b[0m\n\u001b[0m\u001b[1;32m    901\u001b[0m \u001b[0;34m\u001b[0m\u001b[0m\n\u001b[1;32m    902\u001b[0m         \u001b[0;32mdef\u001b[0m \u001b[0mcompute_should_use_set_data\u001b[0m\u001b[0;34m(\u001b[0m\u001b[0mtensor\u001b[0m\u001b[0;34m,\u001b[0m \u001b[0mtensor_applied\u001b[0m\u001b[0;34m)\u001b[0m\u001b[0;34m:\u001b[0m\u001b[0;34m\u001b[0m\u001b[0;34m\u001b[0m\u001b[0m\n",
            "\u001b[0;32m/usr/local/lib/python3.10/dist-packages/torch/nn/modules/module.py\u001b[0m in \u001b[0;36m_apply\u001b[0;34m(self, fn, recurse)\u001b[0m\n\u001b[1;32m    898\u001b[0m         \u001b[0;32mif\u001b[0m \u001b[0mrecurse\u001b[0m\u001b[0;34m:\u001b[0m\u001b[0;34m\u001b[0m\u001b[0;34m\u001b[0m\u001b[0m\n\u001b[1;32m    899\u001b[0m             \u001b[0;32mfor\u001b[0m \u001b[0mmodule\u001b[0m \u001b[0;32min\u001b[0m \u001b[0mself\u001b[0m\u001b[0;34m.\u001b[0m\u001b[0mchildren\u001b[0m\u001b[0;34m(\u001b[0m\u001b[0;34m)\u001b[0m\u001b[0;34m:\u001b[0m\u001b[0;34m\u001b[0m\u001b[0;34m\u001b[0m\u001b[0m\n\u001b[0;32m--> 900\u001b[0;31m                 \u001b[0mmodule\u001b[0m\u001b[0;34m.\u001b[0m\u001b[0m_apply\u001b[0m\u001b[0;34m(\u001b[0m\u001b[0mfn\u001b[0m\u001b[0;34m)\u001b[0m\u001b[0;34m\u001b[0m\u001b[0;34m\u001b[0m\u001b[0m\n\u001b[0m\u001b[1;32m    901\u001b[0m \u001b[0;34m\u001b[0m\u001b[0m\n\u001b[1;32m    902\u001b[0m         \u001b[0;32mdef\u001b[0m \u001b[0mcompute_should_use_set_data\u001b[0m\u001b[0;34m(\u001b[0m\u001b[0mtensor\u001b[0m\u001b[0;34m,\u001b[0m \u001b[0mtensor_applied\u001b[0m\u001b[0;34m)\u001b[0m\u001b[0;34m:\u001b[0m\u001b[0;34m\u001b[0m\u001b[0;34m\u001b[0m\u001b[0m\n",
            "\u001b[0;32m/usr/local/lib/python3.10/dist-packages/torch/nn/modules/module.py\u001b[0m in \u001b[0;36m_apply\u001b[0;34m(self, fn, recurse)\u001b[0m\n\u001b[1;32m    925\u001b[0m             \u001b[0;31m# `with torch.no_grad():`\u001b[0m\u001b[0;34m\u001b[0m\u001b[0;34m\u001b[0m\u001b[0m\n\u001b[1;32m    926\u001b[0m             \u001b[0;32mwith\u001b[0m \u001b[0mtorch\u001b[0m\u001b[0;34m.\u001b[0m\u001b[0mno_grad\u001b[0m\u001b[0;34m(\u001b[0m\u001b[0;34m)\u001b[0m\u001b[0;34m:\u001b[0m\u001b[0;34m\u001b[0m\u001b[0;34m\u001b[0m\u001b[0m\n\u001b[0;32m--> 927\u001b[0;31m                 \u001b[0mparam_applied\u001b[0m \u001b[0;34m=\u001b[0m \u001b[0mfn\u001b[0m\u001b[0;34m(\u001b[0m\u001b[0mparam\u001b[0m\u001b[0;34m)\u001b[0m\u001b[0;34m\u001b[0m\u001b[0;34m\u001b[0m\u001b[0m\n\u001b[0m\u001b[1;32m    928\u001b[0m             \u001b[0mp_should_use_set_data\u001b[0m \u001b[0;34m=\u001b[0m \u001b[0mcompute_should_use_set_data\u001b[0m\u001b[0;34m(\u001b[0m\u001b[0mparam\u001b[0m\u001b[0;34m,\u001b[0m \u001b[0mparam_applied\u001b[0m\u001b[0;34m)\u001b[0m\u001b[0;34m\u001b[0m\u001b[0;34m\u001b[0m\u001b[0m\n\u001b[1;32m    929\u001b[0m \u001b[0;34m\u001b[0m\u001b[0m\n",
            "\u001b[0;32m/usr/local/lib/python3.10/dist-packages/torch/nn/modules/module.py\u001b[0m in \u001b[0;36mconvert\u001b[0;34m(t)\u001b[0m\n\u001b[1;32m   1324\u001b[0m                         \u001b[0mmemory_format\u001b[0m\u001b[0;34m=\u001b[0m\u001b[0mconvert_to_format\u001b[0m\u001b[0;34m,\u001b[0m\u001b[0;34m\u001b[0m\u001b[0;34m\u001b[0m\u001b[0m\n\u001b[1;32m   1325\u001b[0m                     )\n\u001b[0;32m-> 1326\u001b[0;31m                 return t.to(\n\u001b[0m\u001b[1;32m   1327\u001b[0m                     \u001b[0mdevice\u001b[0m\u001b[0;34m,\u001b[0m\u001b[0;34m\u001b[0m\u001b[0;34m\u001b[0m\u001b[0m\n\u001b[1;32m   1328\u001b[0m                     \u001b[0mdtype\u001b[0m \u001b[0;32mif\u001b[0m \u001b[0mt\u001b[0m\u001b[0;34m.\u001b[0m\u001b[0mis_floating_point\u001b[0m\u001b[0;34m(\u001b[0m\u001b[0;34m)\u001b[0m \u001b[0;32mor\u001b[0m \u001b[0mt\u001b[0m\u001b[0;34m.\u001b[0m\u001b[0mis_complex\u001b[0m\u001b[0;34m(\u001b[0m\u001b[0;34m)\u001b[0m \u001b[0;32melse\u001b[0m \u001b[0;32mNone\u001b[0m\u001b[0;34m,\u001b[0m\u001b[0;34m\u001b[0m\u001b[0;34m\u001b[0m\u001b[0m\n",
            "\u001b[0;32m/usr/local/lib/python3.10/dist-packages/torch/cuda/__init__.py\u001b[0m in \u001b[0;36m_lazy_init\u001b[0;34m()\u001b[0m\n\u001b[1;32m    317\u001b[0m         \u001b[0;32mif\u001b[0m \u001b[0;34m\"CUDA_MODULE_LOADING\"\u001b[0m \u001b[0;32mnot\u001b[0m \u001b[0;32min\u001b[0m \u001b[0mos\u001b[0m\u001b[0;34m.\u001b[0m\u001b[0menviron\u001b[0m\u001b[0;34m:\u001b[0m\u001b[0;34m\u001b[0m\u001b[0;34m\u001b[0m\u001b[0m\n\u001b[1;32m    318\u001b[0m             \u001b[0mos\u001b[0m\u001b[0;34m.\u001b[0m\u001b[0menviron\u001b[0m\u001b[0;34m[\u001b[0m\u001b[0;34m\"CUDA_MODULE_LOADING\"\u001b[0m\u001b[0;34m]\u001b[0m \u001b[0;34m=\u001b[0m \u001b[0;34m\"LAZY\"\u001b[0m\u001b[0;34m\u001b[0m\u001b[0;34m\u001b[0m\u001b[0m\n\u001b[0;32m--> 319\u001b[0;31m         \u001b[0mtorch\u001b[0m\u001b[0;34m.\u001b[0m\u001b[0m_C\u001b[0m\u001b[0;34m.\u001b[0m\u001b[0m_cuda_init\u001b[0m\u001b[0;34m(\u001b[0m\u001b[0;34m)\u001b[0m\u001b[0;34m\u001b[0m\u001b[0;34m\u001b[0m\u001b[0m\n\u001b[0m\u001b[1;32m    320\u001b[0m         \u001b[0;31m# Some of the queued calls may reentrantly call _lazy_init();\u001b[0m\u001b[0;34m\u001b[0m\u001b[0;34m\u001b[0m\u001b[0m\n\u001b[1;32m    321\u001b[0m         \u001b[0;31m# we need to just return without initializing in that case.\u001b[0m\u001b[0;34m\u001b[0m\u001b[0;34m\u001b[0m\u001b[0m\n",
            "\u001b[0;31mRuntimeError\u001b[0m: Found no NVIDIA driver on your system. Please check that you have an NVIDIA GPU and installed a driver from http://www.nvidia.com/Download/index.aspx"
          ]
        }
      ]
    },
    {
      "cell_type": "code",
      "source": [
        "import json\n",
        "import matplotlib.pyplot as plt\n",
        "\n",
        "# Path to the metrics.json file\n",
        "log_file = \"./output/metrics.json\"\n",
        "\n",
        "# Load the metrics\n",
        "with open(log_file, \"r\") as f:\n",
        "    data = [json.loads(line) for line in f]\n",
        "\n",
        "# Extract training loss\n",
        "iterations = [x[\"iteration\"] for x in data if \"total_loss\" in x]\n",
        "total_loss = [x[\"total_loss\"] for x in data if \"total_loss\" in x]\n",
        "\n",
        "# Plot training loss\n",
        "plt.plot(iterations, total_loss, label=\"Training Loss\")\n",
        "plt.xlabel(\"Iterations\")\n",
        "plt.ylabel(\"Loss\")\n",
        "plt.title(\"Training Loss Curve\")\n",
        "plt.legend()\n",
        "plt.show()\n"
      ],
      "metadata": {
        "id": "PHoW7FEua50z"
      },
      "execution_count": null,
      "outputs": []
    },
    {
      "cell_type": "markdown",
      "source": [
        "**4. How do you run inference with TFOD2 on an online image ?**"
      ],
      "metadata": {
        "id": "xcLtWpWBu6Aj"
      }
    },
    {
      "cell_type": "code",
      "source": [
        "pip install tf-models-official\n"
      ],
      "metadata": {
        "colab": {
          "base_uri": "https://localhost:8080/",
          "height": 1000
        },
        "id": "BeJ_ytgycBwu",
        "outputId": "2918885c-5bcd-4765-a4bc-fa9507e7cbdc"
      },
      "execution_count": 7,
      "outputs": [
        {
          "output_type": "stream",
          "name": "stdout",
          "text": [
            "Collecting tf-models-official\n",
            "  Downloading tf_models_official-2.18.0-py2.py3-none-any.whl.metadata (1.5 kB)\n",
            "Requirement already satisfied: Cython in /usr/local/lib/python3.10/dist-packages (from tf-models-official) (3.0.11)\n",
            "Requirement already satisfied: Pillow in /usr/local/lib/python3.10/dist-packages (from tf-models-official) (11.0.0)\n",
            "Collecting ai-edge-litert>=1.0.1 (from tf-models-official)\n",
            "  Downloading ai_edge_litert-1.0.1-cp310-cp310-manylinux_2_17_x86_64.whl.metadata (1.4 kB)\n",
            "Requirement already satisfied: gin-config in /usr/local/lib/python3.10/dist-packages (from tf-models-official) (0.5.0)\n",
            "Requirement already satisfied: google-api-python-client>=1.6.7 in /usr/local/lib/python3.10/dist-packages (from tf-models-official) (2.151.0)\n",
            "Requirement already satisfied: immutabledict in /usr/local/lib/python3.10/dist-packages (from tf-models-official) (4.2.1)\n",
            "Requirement already satisfied: kaggle>=1.3.9 in /usr/local/lib/python3.10/dist-packages (from tf-models-official) (1.6.17)\n",
            "Requirement already satisfied: matplotlib in /usr/local/lib/python3.10/dist-packages (from tf-models-official) (3.8.0)\n",
            "Requirement already satisfied: numpy>=1.20 in /usr/local/lib/python3.10/dist-packages (from tf-models-official) (1.26.4)\n",
            "Requirement already satisfied: oauth2client in /usr/local/lib/python3.10/dist-packages (from tf-models-official) (4.1.3)\n",
            "Requirement already satisfied: opencv-python-headless in /usr/local/lib/python3.10/dist-packages (from tf-models-official) (4.10.0.84)\n",
            "Requirement already satisfied: pandas>=0.22.0 in /usr/local/lib/python3.10/dist-packages (from tf-models-official) (2.2.2)\n",
            "Requirement already satisfied: psutil>=5.4.3 in /usr/local/lib/python3.10/dist-packages (from tf-models-official) (5.9.5)\n",
            "Requirement already satisfied: py-cpuinfo>=3.3.0 in /usr/local/lib/python3.10/dist-packages (from tf-models-official) (9.0.0)\n",
            "Requirement already satisfied: pycocotools in /usr/local/lib/python3.10/dist-packages (from tf-models-official) (2.0.8)\n",
            "Requirement already satisfied: pyyaml>=6.0.0 in /usr/local/lib/python3.10/dist-packages (from tf-models-official) (6.0.2)\n",
            "Collecting sacrebleu (from tf-models-official)\n",
            "  Downloading sacrebleu-2.4.3-py3-none-any.whl.metadata (51 kB)\n",
            "\u001b[2K     \u001b[90m━━━━━━━━━━━━━━━━━━━━━━━━━━━━━━━━━━━━━━━━\u001b[0m \u001b[32m51.8/51.8 kB\u001b[0m \u001b[31m2.0 MB/s\u001b[0m eta \u001b[36m0:00:00\u001b[0m\n",
            "\u001b[?25hRequirement already satisfied: scipy>=0.19.1 in /usr/local/lib/python3.10/dist-packages (from tf-models-official) (1.13.1)\n",
            "Requirement already satisfied: sentencepiece in /usr/local/lib/python3.10/dist-packages (from tf-models-official) (0.2.0)\n",
            "Collecting seqeval (from tf-models-official)\n",
            "  Downloading seqeval-1.2.2.tar.gz (43 kB)\n",
            "\u001b[2K     \u001b[90m━━━━━━━━━━━━━━━━━━━━━━━━━━━━━━━━━━━━━━━━\u001b[0m \u001b[32m43.6/43.6 kB\u001b[0m \u001b[31m3.5 MB/s\u001b[0m eta \u001b[36m0:00:00\u001b[0m\n",
            "\u001b[?25h  Preparing metadata (setup.py) ... \u001b[?25l\u001b[?25hdone\n",
            "Requirement already satisfied: six in /usr/local/lib/python3.10/dist-packages (from tf-models-official) (1.17.0)\n",
            "Requirement already satisfied: tensorflow-datasets in /usr/local/lib/python3.10/dist-packages (from tf-models-official) (4.9.7)\n",
            "Requirement already satisfied: tensorflow-hub>=0.6.0 in /usr/local/lib/python3.10/dist-packages (from tf-models-official) (0.16.1)\n",
            "Collecting tensorflow-model-optimization>=0.4.1 (from tf-models-official)\n",
            "  Downloading tensorflow_model_optimization-0.8.0-py2.py3-none-any.whl.metadata (904 bytes)\n",
            "Collecting tensorflow-text~=2.18.0 (from tf-models-official)\n",
            "  Downloading tensorflow_text-2.18.0-cp310-cp310-manylinux_2_17_x86_64.manylinux2014_x86_64.whl.metadata (1.8 kB)\n",
            "Collecting tensorflow~=2.18.0 (from tf-models-official)\n",
            "  Downloading tensorflow-2.18.0-cp310-cp310-manylinux_2_17_x86_64.manylinux2014_x86_64.whl.metadata (4.1 kB)\n",
            "Requirement already satisfied: tf-keras>=2.16.0 in /usr/local/lib/python3.10/dist-packages (from tf-models-official) (2.17.0)\n",
            "Requirement already satisfied: tf-slim>=1.1.0 in /usr/local/lib/python3.10/dist-packages (from tf-models-official) (1.1.0)\n",
            "Requirement already satisfied: httplib2<1.dev0,>=0.19.0 in /usr/local/lib/python3.10/dist-packages (from google-api-python-client>=1.6.7->tf-models-official) (0.22.0)\n",
            "Requirement already satisfied: google-auth!=2.24.0,!=2.25.0,<3.0.0.dev0,>=1.32.0 in /usr/local/lib/python3.10/dist-packages (from google-api-python-client>=1.6.7->tf-models-official) (2.27.0)\n",
            "Requirement already satisfied: google-auth-httplib2<1.0.0,>=0.2.0 in /usr/local/lib/python3.10/dist-packages (from google-api-python-client>=1.6.7->tf-models-official) (0.2.0)\n",
            "Requirement already satisfied: google-api-core!=2.0.*,!=2.1.*,!=2.2.*,!=2.3.0,<3.0.0.dev0,>=1.31.5 in /usr/local/lib/python3.10/dist-packages (from google-api-python-client>=1.6.7->tf-models-official) (2.19.2)\n",
            "Requirement already satisfied: uritemplate<5,>=3.0.1 in /usr/local/lib/python3.10/dist-packages (from google-api-python-client>=1.6.7->tf-models-official) (4.1.1)\n",
            "Requirement already satisfied: certifi>=2023.7.22 in /usr/local/lib/python3.10/dist-packages (from kaggle>=1.3.9->tf-models-official) (2024.8.30)\n",
            "Requirement already satisfied: python-dateutil in /usr/local/lib/python3.10/dist-packages (from kaggle>=1.3.9->tf-models-official) (2.8.2)\n",
            "Requirement already satisfied: requests in /usr/local/lib/python3.10/dist-packages (from kaggle>=1.3.9->tf-models-official) (2.32.3)\n",
            "Requirement already satisfied: tqdm in /usr/local/lib/python3.10/dist-packages (from kaggle>=1.3.9->tf-models-official) (4.66.6)\n",
            "Requirement already satisfied: python-slugify in /usr/local/lib/python3.10/dist-packages (from kaggle>=1.3.9->tf-models-official) (8.0.4)\n",
            "Requirement already satisfied: urllib3 in /usr/local/lib/python3.10/dist-packages (from kaggle>=1.3.9->tf-models-official) (2.2.3)\n",
            "Requirement already satisfied: bleach in /usr/local/lib/python3.10/dist-packages (from kaggle>=1.3.9->tf-models-official) (6.2.0)\n",
            "Requirement already satisfied: pytz>=2020.1 in /usr/local/lib/python3.10/dist-packages (from pandas>=0.22.0->tf-models-official) (2024.2)\n",
            "Requirement already satisfied: tzdata>=2022.7 in /usr/local/lib/python3.10/dist-packages (from pandas>=0.22.0->tf-models-official) (2024.2)\n",
            "Requirement already satisfied: absl-py>=1.0.0 in /usr/local/lib/python3.10/dist-packages (from tensorflow~=2.18.0->tf-models-official) (1.4.0)\n",
            "Requirement already satisfied: astunparse>=1.6.0 in /usr/local/lib/python3.10/dist-packages (from tensorflow~=2.18.0->tf-models-official) (1.6.3)\n",
            "Requirement already satisfied: flatbuffers>=24.3.25 in /usr/local/lib/python3.10/dist-packages (from tensorflow~=2.18.0->tf-models-official) (24.3.25)\n",
            "Requirement already satisfied: gast!=0.5.0,!=0.5.1,!=0.5.2,>=0.2.1 in /usr/local/lib/python3.10/dist-packages (from tensorflow~=2.18.0->tf-models-official) (0.6.0)\n",
            "Requirement already satisfied: google-pasta>=0.1.1 in /usr/local/lib/python3.10/dist-packages (from tensorflow~=2.18.0->tf-models-official) (0.2.0)\n",
            "Requirement already satisfied: libclang>=13.0.0 in /usr/local/lib/python3.10/dist-packages (from tensorflow~=2.18.0->tf-models-official) (18.1.1)\n",
            "Requirement already satisfied: opt-einsum>=2.3.2 in /usr/local/lib/python3.10/dist-packages (from tensorflow~=2.18.0->tf-models-official) (3.4.0)\n",
            "Requirement already satisfied: packaging in /usr/local/lib/python3.10/dist-packages (from tensorflow~=2.18.0->tf-models-official) (24.2)\n",
            "Requirement already satisfied: protobuf!=4.21.0,!=4.21.1,!=4.21.2,!=4.21.3,!=4.21.4,!=4.21.5,<6.0.0dev,>=3.20.3 in /usr/local/lib/python3.10/dist-packages (from tensorflow~=2.18.0->tf-models-official) (4.25.5)\n",
            "Requirement already satisfied: setuptools in /usr/local/lib/python3.10/dist-packages (from tensorflow~=2.18.0->tf-models-official) (75.1.0)\n",
            "Requirement already satisfied: termcolor>=1.1.0 in /usr/local/lib/python3.10/dist-packages (from tensorflow~=2.18.0->tf-models-official) (2.5.0)\n",
            "Requirement already satisfied: typing-extensions>=3.6.6 in /usr/local/lib/python3.10/dist-packages (from tensorflow~=2.18.0->tf-models-official) (4.12.2)\n",
            "Requirement already satisfied: wrapt>=1.11.0 in /usr/local/lib/python3.10/dist-packages (from tensorflow~=2.18.0->tf-models-official) (1.17.0)\n",
            "Requirement already satisfied: grpcio<2.0,>=1.24.3 in /usr/local/lib/python3.10/dist-packages (from tensorflow~=2.18.0->tf-models-official) (1.68.1)\n",
            "Collecting tensorboard<2.19,>=2.18 (from tensorflow~=2.18.0->tf-models-official)\n",
            "  Downloading tensorboard-2.18.0-py3-none-any.whl.metadata (1.6 kB)\n",
            "Requirement already satisfied: keras>=3.5.0 in /usr/local/lib/python3.10/dist-packages (from tensorflow~=2.18.0->tf-models-official) (3.5.0)\n",
            "Requirement already satisfied: h5py>=3.11.0 in /usr/local/lib/python3.10/dist-packages (from tensorflow~=2.18.0->tf-models-official) (3.12.1)\n",
            "Requirement already satisfied: ml-dtypes<0.5.0,>=0.4.0 in /usr/local/lib/python3.10/dist-packages (from tensorflow~=2.18.0->tf-models-official) (0.4.1)\n",
            "Requirement already satisfied: tensorflow-io-gcs-filesystem>=0.23.1 in /usr/local/lib/python3.10/dist-packages (from tensorflow~=2.18.0->tf-models-official) (0.37.1)\n",
            "Requirement already satisfied: dm-tree~=0.1.1 in /usr/local/lib/python3.10/dist-packages (from tensorflow-model-optimization>=0.4.1->tf-models-official) (0.1.8)\n",
            "INFO: pip is looking at multiple versions of tf-keras to determine which version is compatible with other requirements. This could take a while.\n",
            "Collecting tf-keras>=2.16.0 (from tf-models-official)\n",
            "  Downloading tf_keras-2.18.0-py3-none-any.whl.metadata (1.6 kB)\n",
            "Requirement already satisfied: contourpy>=1.0.1 in /usr/local/lib/python3.10/dist-packages (from matplotlib->tf-models-official) (1.3.1)\n",
            "Requirement already satisfied: cycler>=0.10 in /usr/local/lib/python3.10/dist-packages (from matplotlib->tf-models-official) (0.12.1)\n",
            "Requirement already satisfied: fonttools>=4.22.0 in /usr/local/lib/python3.10/dist-packages (from matplotlib->tf-models-official) (4.55.3)\n",
            "Requirement already satisfied: kiwisolver>=1.0.1 in /usr/local/lib/python3.10/dist-packages (from matplotlib->tf-models-official) (1.4.7)\n",
            "Requirement already satisfied: pyparsing>=2.3.1 in /usr/local/lib/python3.10/dist-packages (from matplotlib->tf-models-official) (3.2.0)\n",
            "Requirement already satisfied: pyasn1>=0.1.7 in /usr/local/lib/python3.10/dist-packages (from oauth2client->tf-models-official) (0.6.1)\n",
            "Requirement already satisfied: pyasn1-modules>=0.0.5 in /usr/local/lib/python3.10/dist-packages (from oauth2client->tf-models-official) (0.4.1)\n",
            "Requirement already satisfied: rsa>=3.1.4 in /usr/local/lib/python3.10/dist-packages (from oauth2client->tf-models-official) (4.9)\n",
            "Requirement already satisfied: portalocker in /usr/local/lib/python3.10/dist-packages (from sacrebleu->tf-models-official) (3.0.0)\n",
            "Requirement already satisfied: regex in /usr/local/lib/python3.10/dist-packages (from sacrebleu->tf-models-official) (2024.9.11)\n",
            "Requirement already satisfied: tabulate>=0.8.9 in /usr/local/lib/python3.10/dist-packages (from sacrebleu->tf-models-official) (0.9.0)\n",
            "Collecting colorama (from sacrebleu->tf-models-official)\n",
            "  Downloading colorama-0.4.6-py2.py3-none-any.whl.metadata (17 kB)\n",
            "Requirement already satisfied: lxml in /usr/local/lib/python3.10/dist-packages (from sacrebleu->tf-models-official) (5.3.0)\n",
            "Requirement already satisfied: scikit-learn>=0.21.3 in /usr/local/lib/python3.10/dist-packages (from seqeval->tf-models-official) (1.5.2)\n",
            "Requirement already satisfied: click in /usr/local/lib/python3.10/dist-packages (from tensorflow-datasets->tf-models-official) (8.1.7)\n",
            "Requirement already satisfied: promise in /usr/local/lib/python3.10/dist-packages (from tensorflow-datasets->tf-models-official) (2.3)\n",
            "Requirement already satisfied: pyarrow in /usr/local/lib/python3.10/dist-packages (from tensorflow-datasets->tf-models-official) (17.0.0)\n",
            "Requirement already satisfied: simple-parsing in /usr/local/lib/python3.10/dist-packages (from tensorflow-datasets->tf-models-official) (0.1.6)\n",
            "Requirement already satisfied: tensorflow-metadata in /usr/local/lib/python3.10/dist-packages (from tensorflow-datasets->tf-models-official) (1.13.1)\n",
            "Requirement already satisfied: toml in /usr/local/lib/python3.10/dist-packages (from tensorflow-datasets->tf-models-official) (0.10.2)\n",
            "Requirement already satisfied: array-record>=0.5.0 in /usr/local/lib/python3.10/dist-packages (from tensorflow-datasets->tf-models-official) (0.5.1)\n",
            "Requirement already satisfied: etils>=1.6.0 in /usr/local/lib/python3.10/dist-packages (from etils[edc,enp,epath,epy,etree]>=1.6.0; python_version < \"3.11\"->tensorflow-datasets->tf-models-official) (1.11.0)\n",
            "Requirement already satisfied: wheel<1.0,>=0.23.0 in /usr/local/lib/python3.10/dist-packages (from astunparse>=1.6.0->tensorflow~=2.18.0->tf-models-official) (0.45.1)\n",
            "Requirement already satisfied: fsspec in /usr/local/lib/python3.10/dist-packages (from etils[edc,enp,epath,epy,etree]>=1.6.0; python_version < \"3.11\"->tensorflow-datasets->tf-models-official) (2024.10.0)\n",
            "Requirement already satisfied: importlib_resources in /usr/local/lib/python3.10/dist-packages (from etils[edc,enp,epath,epy,etree]>=1.6.0; python_version < \"3.11\"->tensorflow-datasets->tf-models-official) (6.4.5)\n",
            "Requirement already satisfied: zipp in /usr/local/lib/python3.10/dist-packages (from etils[edc,enp,epath,epy,etree]>=1.6.0; python_version < \"3.11\"->tensorflow-datasets->tf-models-official) (3.21.0)\n",
            "Requirement already satisfied: googleapis-common-protos<2.0.dev0,>=1.56.2 in /usr/local/lib/python3.10/dist-packages (from google-api-core!=2.0.*,!=2.1.*,!=2.2.*,!=2.3.0,<3.0.0.dev0,>=1.31.5->google-api-python-client>=1.6.7->tf-models-official) (1.66.0)\n",
            "Requirement already satisfied: proto-plus<2.0.0dev,>=1.22.3 in /usr/local/lib/python3.10/dist-packages (from google-api-core!=2.0.*,!=2.1.*,!=2.2.*,!=2.3.0,<3.0.0.dev0,>=1.31.5->google-api-python-client>=1.6.7->tf-models-official) (1.25.0)\n",
            "Requirement already satisfied: cachetools<6.0,>=2.0.0 in /usr/local/lib/python3.10/dist-packages (from google-auth!=2.24.0,!=2.25.0,<3.0.0.dev0,>=1.32.0->google-api-python-client>=1.6.7->tf-models-official) (5.5.0)\n",
            "Requirement already satisfied: rich in /usr/local/lib/python3.10/dist-packages (from keras>=3.5.0->tensorflow~=2.18.0->tf-models-official) (13.9.4)\n",
            "Requirement already satisfied: namex in /usr/local/lib/python3.10/dist-packages (from keras>=3.5.0->tensorflow~=2.18.0->tf-models-official) (0.0.8)\n",
            "Requirement already satisfied: optree in /usr/local/lib/python3.10/dist-packages (from keras>=3.5.0->tensorflow~=2.18.0->tf-models-official) (0.13.1)\n",
            "Requirement already satisfied: charset-normalizer<4,>=2 in /usr/local/lib/python3.10/dist-packages (from requests->kaggle>=1.3.9->tf-models-official) (3.4.0)\n",
            "Requirement already satisfied: idna<4,>=2.5 in /usr/local/lib/python3.10/dist-packages (from requests->kaggle>=1.3.9->tf-models-official) (3.10)\n",
            "Requirement already satisfied: joblib>=1.2.0 in /usr/local/lib/python3.10/dist-packages (from scikit-learn>=0.21.3->seqeval->tf-models-official) (1.4.2)\n",
            "Requirement already satisfied: threadpoolctl>=3.1.0 in /usr/local/lib/python3.10/dist-packages (from scikit-learn>=0.21.3->seqeval->tf-models-official) (3.5.0)\n",
            "Requirement already satisfied: markdown>=2.6.8 in /usr/local/lib/python3.10/dist-packages (from tensorboard<2.19,>=2.18->tensorflow~=2.18.0->tf-models-official) (3.7)\n",
            "Requirement already satisfied: tensorboard-data-server<0.8.0,>=0.7.0 in /usr/local/lib/python3.10/dist-packages (from tensorboard<2.19,>=2.18->tensorflow~=2.18.0->tf-models-official) (0.7.2)\n",
            "Requirement already satisfied: werkzeug>=1.0.1 in /usr/local/lib/python3.10/dist-packages (from tensorboard<2.19,>=2.18->tensorflow~=2.18.0->tf-models-official) (3.1.3)\n",
            "Requirement already satisfied: webencodings in /usr/local/lib/python3.10/dist-packages (from bleach->kaggle>=1.3.9->tf-models-official) (0.5.1)\n",
            "Requirement already satisfied: text-unidecode>=1.3 in /usr/local/lib/python3.10/dist-packages (from python-slugify->kaggle>=1.3.9->tf-models-official) (1.3)\n",
            "Requirement already satisfied: docstring-parser<1.0,>=0.15 in /usr/local/lib/python3.10/dist-packages (from simple-parsing->tensorflow-datasets->tf-models-official) (0.16)\n",
            "Requirement already satisfied: MarkupSafe>=2.1.1 in /usr/local/lib/python3.10/dist-packages (from werkzeug>=1.0.1->tensorboard<2.19,>=2.18->tensorflow~=2.18.0->tf-models-official) (3.0.2)\n",
            "Requirement already satisfied: markdown-it-py>=2.2.0 in /usr/local/lib/python3.10/dist-packages (from rich->keras>=3.5.0->tensorflow~=2.18.0->tf-models-official) (3.0.0)\n",
            "Requirement already satisfied: pygments<3.0.0,>=2.13.0 in /usr/local/lib/python3.10/dist-packages (from rich->keras>=3.5.0->tensorflow~=2.18.0->tf-models-official) (2.18.0)\n",
            "Requirement already satisfied: mdurl~=0.1 in /usr/local/lib/python3.10/dist-packages (from markdown-it-py>=2.2.0->rich->keras>=3.5.0->tensorflow~=2.18.0->tf-models-official) (0.1.2)\n",
            "Downloading tf_models_official-2.18.0-py2.py3-none-any.whl (2.9 MB)\n",
            "\u001b[2K   \u001b[90m━━━━━━━━━━━━━━━━━━━━━━━━━━━━━━━━━━━━━━━━\u001b[0m \u001b[32m2.9/2.9 MB\u001b[0m \u001b[31m33.2 MB/s\u001b[0m eta \u001b[36m0:00:00\u001b[0m\n",
            "\u001b[?25hDownloading ai_edge_litert-1.0.1-cp310-cp310-manylinux_2_17_x86_64.whl (2.2 MB)\n",
            "\u001b[2K   \u001b[90m━━━━━━━━━━━━━━━━━━━━━━━━━━━━━━━━━━━━━━━━\u001b[0m \u001b[32m2.2/2.2 MB\u001b[0m \u001b[31m54.7 MB/s\u001b[0m eta \u001b[36m0:00:00\u001b[0m\n",
            "\u001b[?25hDownloading tensorflow-2.18.0-cp310-cp310-manylinux_2_17_x86_64.manylinux2014_x86_64.whl (615.3 MB)\n",
            "\u001b[2K   \u001b[90m━━━━━━━━━━━━━━━━━━━━━━━━━━━━━━━━━━━━━━━━\u001b[0m \u001b[32m615.3/615.3 MB\u001b[0m \u001b[31m3.0 MB/s\u001b[0m eta \u001b[36m0:00:00\u001b[0m\n",
            "\u001b[?25hDownloading tensorflow_model_optimization-0.8.0-py2.py3-none-any.whl (242 kB)\n",
            "\u001b[2K   \u001b[90m━━━━━━━━━━━━━━━━━━━━━━━━━━━━━━━━━━━━━━━━\u001b[0m \u001b[32m242.5/242.5 kB\u001b[0m \u001b[31m10.9 MB/s\u001b[0m eta \u001b[36m0:00:00\u001b[0m\n",
            "\u001b[?25hDownloading tensorflow_text-2.18.0-cp310-cp310-manylinux_2_17_x86_64.manylinux2014_x86_64.whl (5.2 MB)\n",
            "\u001b[2K   \u001b[90m━━━━━━━━━━━━━━━━━━━━━━━━━━━━━━━━━━━━━━━━\u001b[0m \u001b[32m5.2/5.2 MB\u001b[0m \u001b[31m41.2 MB/s\u001b[0m eta \u001b[36m0:00:00\u001b[0m\n",
            "\u001b[?25hDownloading tf_keras-2.18.0-py3-none-any.whl (1.7 MB)\n",
            "\u001b[2K   \u001b[90m━━━━━━━━━━━━━━━━━━━━━━━━━━━━━━━━━━━━━━━━\u001b[0m \u001b[32m1.7/1.7 MB\u001b[0m \u001b[31m37.2 MB/s\u001b[0m eta \u001b[36m0:00:00\u001b[0m\n",
            "\u001b[?25hDownloading sacrebleu-2.4.3-py3-none-any.whl (103 kB)\n",
            "\u001b[2K   \u001b[90m━━━━━━━━━━━━━━━━━━━━━━━━━━━━━━━━━━━━━━━━\u001b[0m \u001b[32m104.0/104.0 kB\u001b[0m \u001b[31m6.4 MB/s\u001b[0m eta \u001b[36m0:00:00\u001b[0m\n",
            "\u001b[?25hDownloading tensorboard-2.18.0-py3-none-any.whl (5.5 MB)\n",
            "\u001b[2K   \u001b[90m━━━━━━━━━━━━━━━━━━━━━━━━━━━━━━━━━━━━━━━━\u001b[0m \u001b[32m5.5/5.5 MB\u001b[0m \u001b[31m50.3 MB/s\u001b[0m eta \u001b[36m0:00:00\u001b[0m\n",
            "\u001b[?25hDownloading colorama-0.4.6-py2.py3-none-any.whl (25 kB)\n",
            "Building wheels for collected packages: seqeval\n",
            "  Building wheel for seqeval (setup.py) ... \u001b[?25l\u001b[?25hdone\n",
            "  Created wheel for seqeval: filename=seqeval-1.2.2-py3-none-any.whl size=16161 sha256=7d5c9c9d117bc156a953958f73b88d584f690b0537fd7048a49d80f8fbbaa069\n",
            "  Stored in directory: /root/.cache/pip/wheels/1a/67/4a/ad4082dd7dfc30f2abfe4d80a2ed5926a506eb8a972b4767fa\n",
            "Successfully built seqeval\n",
            "Installing collected packages: tensorflow-model-optimization, colorama, ai-edge-litert, tensorboard, sacrebleu, seqeval, tensorflow, tf-keras, tensorflow-text, tf-models-official\n",
            "  Attempting uninstall: tensorboard\n",
            "    Found existing installation: tensorboard 2.17.1\n",
            "    Uninstalling tensorboard-2.17.1:\n",
            "      Successfully uninstalled tensorboard-2.17.1\n",
            "  Attempting uninstall: tensorflow\n",
            "    Found existing installation: tensorflow 2.17.1\n",
            "    Uninstalling tensorflow-2.17.1:\n",
            "      Successfully uninstalled tensorflow-2.17.1\n",
            "  Attempting uninstall: tf-keras\n",
            "    Found existing installation: tf_keras 2.17.0\n",
            "    Uninstalling tf_keras-2.17.0:\n",
            "      Successfully uninstalled tf_keras-2.17.0\n",
            "Successfully installed ai-edge-litert-1.0.1 colorama-0.4.6 sacrebleu-2.4.3 seqeval-1.2.2 tensorboard-2.18.0 tensorflow-2.18.0 tensorflow-model-optimization-0.8.0 tensorflow-text-2.18.0 tf-keras-2.18.0 tf-models-official-2.18.0\n"
          ]
        },
        {
          "output_type": "display_data",
          "data": {
            "application/vnd.colab-display-data+json": {
              "pip_warning": {
                "packages": [
                  "tensorflow"
                ]
              },
              "id": "9d541d8428bb425cbad6d7c7981cbebd"
            }
          },
          "metadata": {}
        }
      ]
    },
    {
      "cell_type": "code",
      "source": [
        "#Download the Online Image Use Python's requests library to download the image\n",
        "import requests\n",
        "import cv2\n",
        "import numpy as np\n",
        "\n",
        "# Download the image from a URL\n",
        "image_url = \"https://example.com/sample_image.jpghttps://www.google.com/url?sa=i&url=https%3A%2F%2Fwww.pexels.com%2Fvideo%2Fcars-on-highway-854671%2F&psig=AOvVaw0KccbcgXuwH-C7kNhBkel0&ust=1734454084016000&source=images&cd=vfe&opi=89978449&ved=0CBEQjRxqFwoTCODr_JvfrIoDFQAAAAAdAAAAABAE\"\n",
        "response = requests.get(image_url)\n",
        "image = np.asarray(bytearray(response.content), dtype=\"uint8\")\n",
        "image = cv2.imdecode(image, cv2.IMREAD_COLOR)\n",
        "\n",
        "#Load  Trained TFOD2 Model\n",
        "import tensorflow as tf\n",
        "from object_detection.utils import label_map_util\n",
        "from object_detection.utils import visualization_utils as viz_utils\n",
        "\n",
        "# Path to the trained model and label map\n",
        "MODEL_PATH = \"/path/to/exported_model/saved_model\"\n",
        "LABEL_MAP_PATH = \"/path/to/label_map.pbtxt\"\n",
        "\n",
        "# Load the model\n",
        "detection_model = tf.saved_model.load(MODEL_PATH)\n",
        "\n",
        "# Load the label map\n",
        "category_index = label_map_util.create_category_index_from_labelmap(LABEL_MAP_PATH, use_display_name=True)\n",
        "\n",
        "#Prepare the Image for Inference Preprocess the image\n",
        "# Convert image to tensor and adding batch dimension\n",
        "input_tensor = tf.convert_to_tensor(image)\n",
        "input_tensor = input_tensor[tf.newaxis, ...]\n",
        "\n",
        "#Run Inference Perform inference using the model\n",
        "# Perform inference\n",
        "detections = detection_model(input_tensor)\n",
        "\n",
        "# Extract useful data from the detections\n",
        "num_detections = int(detections.pop(\"num_detections\"))\n",
        "detections = {key: value[0, :num_detections].numpy() for key, value in detections.items()}\n",
        "detections[\"num_detections\"] = num_detections\n",
        "\n",
        "# Convert detection classes to integers\n",
        "detections[\"detection_classes\"] = detections[\"detection_classes\"].astype(np.int64)\n",
        "\n",
        "#Visualize the Results Draw bounding boxes and labels on the image\n",
        "# Visualize the results\n",
        "viz_utils.visualize_boxes_and_labels_on_image_array(\n",
        "    image,\n",
        "    detections[\"detection_boxes\"],\n",
        "    detections[\"detection_classes\"],\n",
        "    detections[\"detection_scores\"],\n",
        "    category_index,\n",
        "    use_normalized_coordinates=True,\n",
        "    line_thickness=5\n",
        ")\n",
        "\n",
        "# Display the image\n",
        "cv2.imshow(\"Inference\", image)\n",
        "cv2.waitKey(0)\n",
        "cv2.destroyAllWindows()\n",
        "\n"
      ],
      "metadata": {
        "colab": {
          "base_uri": "https://localhost:8080/",
          "height": 383
        },
        "id": "WzarsrcrbH1i",
        "outputId": "36a0ef78-089a-4c3b-c784-92cfd17c05b6"
      },
      "execution_count": 1,
      "outputs": [
        {
          "output_type": "error",
          "ename": "ModuleNotFoundError",
          "evalue": "No module named 'object_detection'",
          "traceback": [
            "\u001b[0;31m---------------------------------------------------------------------------\u001b[0m",
            "\u001b[0;31mModuleNotFoundError\u001b[0m                       Traceback (most recent call last)",
            "\u001b[0;32m<ipython-input-1-d53e93d63c58>\u001b[0m in \u001b[0;36m<cell line: 14>\u001b[0;34m()\u001b[0m\n\u001b[1;32m     12\u001b[0m \u001b[0;31m#Load  Trained TFOD2 Model\u001b[0m\u001b[0;34m\u001b[0m\u001b[0;34m\u001b[0m\u001b[0m\n\u001b[1;32m     13\u001b[0m \u001b[0;32mimport\u001b[0m \u001b[0mtensorflow\u001b[0m \u001b[0;32mas\u001b[0m \u001b[0mtf\u001b[0m\u001b[0;34m\u001b[0m\u001b[0;34m\u001b[0m\u001b[0m\n\u001b[0;32m---> 14\u001b[0;31m \u001b[0;32mfrom\u001b[0m \u001b[0mobject_detection\u001b[0m\u001b[0;34m.\u001b[0m\u001b[0mutils\u001b[0m \u001b[0;32mimport\u001b[0m \u001b[0mlabel_map_util\u001b[0m\u001b[0;34m\u001b[0m\u001b[0;34m\u001b[0m\u001b[0m\n\u001b[0m\u001b[1;32m     15\u001b[0m \u001b[0;32mfrom\u001b[0m \u001b[0mobject_detection\u001b[0m\u001b[0;34m.\u001b[0m\u001b[0mutils\u001b[0m \u001b[0;32mimport\u001b[0m \u001b[0mvisualization_utils\u001b[0m \u001b[0;32mas\u001b[0m \u001b[0mviz_utils\u001b[0m\u001b[0;34m\u001b[0m\u001b[0;34m\u001b[0m\u001b[0m\n\u001b[1;32m     16\u001b[0m \u001b[0;34m\u001b[0m\u001b[0m\n",
            "\u001b[0;31mModuleNotFoundError\u001b[0m: No module named 'object_detection'",
            "",
            "\u001b[0;31m---------------------------------------------------------------------------\u001b[0;32m\nNOTE: If your import is failing due to a missing package, you can\nmanually install dependencies using either !pip or !apt.\n\nTo view examples of installing some common dependencies, click the\n\"Open Examples\" button below.\n\u001b[0;31m---------------------------------------------------------------------------\u001b[0m\n"
          ],
          "errorDetails": {
            "actions": [
              {
                "action": "open_url",
                "actionText": "Open Examples",
                "url": "/notebooks/snippets/importing_libraries.ipynb"
              }
            ]
          }
        }
      ]
    },
    {
      "cell_type": "markdown",
      "source": [
        "**5. How do you install TensorFlow Object Detection API in Jupyter Notebook ?**"
      ],
      "metadata": {
        "id": "48W9MVXWu56U"
      }
    },
    {
      "cell_type": "markdown",
      "source": [
        "To install the TensorFlow Object Detection API in Jupyter Notebook, follow these steps:\n",
        "\n",
        "---\n",
        "\n",
        "### **1. Install Prerequisites**\n",
        "Ensure TensorFlow is installed in your environment. If not, install TensorFlow:\n",
        "```bash\n",
        "!pip install tensorflow\n",
        "```\n",
        "\n",
        "---\n",
        "\n",
        "### **2. Clone the TensorFlow Models Repository**\n",
        "Clone the TensorFlow Models repository, which contains the Object Detection API:\n",
        "```bash\n",
        "!git clone https://github.com/tensorflow/models.git\n",
        "```\n",
        "\n",
        "---\n",
        "\n",
        "### **3. Install the Object Detection API**\n",
        "Navigate to the `research` directory of the cloned repository and install the API:\n",
        "```bash\n",
        "%cd models/research\n",
        "!pip install .\n",
        "```\n",
        "\n",
        "For extra dependencies (like `protoc`), run the following:\n",
        "```bash\n",
        "!apt-get install -y protobuf-compiler\n",
        "!protoc object_detection/protos/*.proto --python_out=.\n",
        "```\n",
        "\n",
        "Install COCO API (used for evaluation metrics):\n",
        "```bash\n",
        "!pip install git+https://github.com/philferriere/cocoapi.git#subdirectory=PythonAPI\n",
        "```\n",
        "\n",
        "---\n",
        "\n",
        "### **4. Add the Object Detection API to Your Python Path**\n",
        "Set up the paths for `object_detection` and `slim`:\n",
        "```python\n",
        "import sys\n",
        "sys.path.append(\"/content/models/research\")\n",
        "sys.path.append(\"/content/models/research/slim\")\n",
        "```\n",
        "\n",
        "---\n",
        "\n",
        "### **5. Verify Installation**\n",
        "Run the following to check if the API is correctly installed:\n",
        "```python\n",
        "try:\n",
        "    from object_detection.utils import label_map_util\n",
        "    from object_detection.utils import visualization_utils as viz_utils\n",
        "    print(\"Object Detection API installed successfully!\")\n",
        "except ModuleNotFoundError as e:\n",
        "    print(f\"Installation issue: {e}\")\n",
        "```\n",
        "\n",
        "---\n",
        "\n",
        "### **6. Restart the Kernel**\n",
        "After installation, restart the Jupyter Notebook kernel to ensure the new modules are recognized.\n",
        "\n",
        "---\n",
        "\n",
        "### Example Code Block for Installation in Jupyter Notebook:\n",
        "```python\n",
        "!pip install tensorflow\n",
        "!git clone https://github.com/tensorflow/models.git\n",
        "%cd models/research\n",
        "!pip install .\n",
        "!apt-get install -y protobuf-compiler\n",
        "!protoc object_detection/protos/*.proto --python_out=.\n",
        "!pip install git+https://github.com/philferriere/cocoapi.git#subdirectory=PythonAPI\n",
        "\n",
        "import sys\n",
        "sys.path.append(\"/content/models/research\")\n",
        "sys.path.append(\"/content/models/research/slim\")\n",
        "\n",
        "# Verify Installation\n",
        "try:\n",
        "    from object_detection.utils import label_map_util\n",
        "    from object_detection.utils import visualization_utils as viz_utils\n",
        "    print(\"Object Detection API installed successfully!\")\n",
        "except ModuleNotFoundError as e:\n",
        "    print(f\"Installation issue: {e}\")\n",
        "```"
      ],
      "metadata": {
        "id": "nf4M2l2gdOXx"
      }
    },
    {
      "cell_type": "markdown",
      "source": [
        "**6. How can you load a pre-trained TensorFlow Object Detection model ?**"
      ],
      "metadata": {
        "id": "7BJiMwFVu53x"
      }
    },
    {
      "cell_type": "code",
      "source": [
        "pip install tensorflow-object-detection-api\n"
      ],
      "metadata": {
        "colab": {
          "base_uri": "https://localhost:8080/"
        },
        "id": "TW52IFSseLCN",
        "outputId": "bbf34e17-38e0-4eab-9d18-78cf7cb4961b"
      },
      "execution_count": 3,
      "outputs": [
        {
          "output_type": "stream",
          "name": "stdout",
          "text": [
            "Collecting tensorflow-object-detection-api\n",
            "  Downloading tensorflow_object_detection_api-0.1.1.tar.gz (577 kB)\n",
            "\u001b[?25l     \u001b[90m━━━━━━━━━━━━━━━━━━━━━━━━━━━━━━━━━━━━━━━━\u001b[0m \u001b[32m0.0/577.4 kB\u001b[0m \u001b[31m?\u001b[0m eta \u001b[36m-:--:--\u001b[0m\r\u001b[2K     \u001b[91m━━━━━━━━━━━━━━━━━\u001b[0m\u001b[91m╸\u001b[0m\u001b[90m━━━━━━━━━━━━━━━━━━━━━━\u001b[0m \u001b[32m256.0/577.4 kB\u001b[0m \u001b[31m7.4 MB/s\u001b[0m eta \u001b[36m0:00:01\u001b[0m\r\u001b[2K     \u001b[90m━━━━━━━━━━━━━━━━━━━━━━━━━━━━━━━━━━━━━━━━\u001b[0m \u001b[32m577.4/577.4 kB\u001b[0m \u001b[31m9.4 MB/s\u001b[0m eta \u001b[36m0:00:00\u001b[0m\n",
            "\u001b[?25h  Preparing metadata (setup.py) ... \u001b[?25l\u001b[?25hdone\n",
            "Requirement already satisfied: Pillow>=1.0 in /usr/local/lib/python3.10/dist-packages (from tensorflow-object-detection-api) (11.0.0)\n",
            "Requirement already satisfied: Matplotlib>=2.1 in /usr/local/lib/python3.10/dist-packages (from tensorflow-object-detection-api) (3.8.0)\n",
            "Requirement already satisfied: Cython>=0.28.1 in /usr/local/lib/python3.10/dist-packages (from tensorflow-object-detection-api) (3.0.11)\n",
            "Requirement already satisfied: Protobuf in /usr/local/lib/python3.10/dist-packages (from tensorflow-object-detection-api) (4.25.5)\n",
            "Requirement already satisfied: lxml in /usr/local/lib/python3.10/dist-packages (from tensorflow-object-detection-api) (5.3.0)\n",
            "Collecting jupyter (from tensorflow-object-detection-api)\n",
            "  Downloading jupyter-1.1.1-py2.py3-none-any.whl.metadata (2.0 kB)\n",
            "Requirement already satisfied: tensorflow in /usr/local/lib/python3.10/dist-packages (from tensorflow-object-detection-api) (2.18.0)\n",
            "Collecting contextlib2 (from tensorflow-object-detection-api)\n",
            "  Downloading contextlib2-21.6.0-py2.py3-none-any.whl.metadata (4.1 kB)\n",
            "Requirement already satisfied: wheel in /usr/local/lib/python3.10/dist-packages (from tensorflow-object-detection-api) (0.45.1)\n",
            "Collecting twine (from tensorflow-object-detection-api)\n",
            "  Downloading twine-6.0.1-py3-none-any.whl.metadata (3.7 kB)\n",
            "Requirement already satisfied: contourpy>=1.0.1 in /usr/local/lib/python3.10/dist-packages (from Matplotlib>=2.1->tensorflow-object-detection-api) (1.3.1)\n",
            "Requirement already satisfied: cycler>=0.10 in /usr/local/lib/python3.10/dist-packages (from Matplotlib>=2.1->tensorflow-object-detection-api) (0.12.1)\n",
            "Requirement already satisfied: fonttools>=4.22.0 in /usr/local/lib/python3.10/dist-packages (from Matplotlib>=2.1->tensorflow-object-detection-api) (4.55.3)\n",
            "Requirement already satisfied: kiwisolver>=1.0.1 in /usr/local/lib/python3.10/dist-packages (from Matplotlib>=2.1->tensorflow-object-detection-api) (1.4.7)\n",
            "Requirement already satisfied: numpy<2,>=1.21 in /usr/local/lib/python3.10/dist-packages (from Matplotlib>=2.1->tensorflow-object-detection-api) (1.26.4)\n",
            "Requirement already satisfied: packaging>=20.0 in /usr/local/lib/python3.10/dist-packages (from Matplotlib>=2.1->tensorflow-object-detection-api) (24.2)\n",
            "Requirement already satisfied: pyparsing>=2.3.1 in /usr/local/lib/python3.10/dist-packages (from Matplotlib>=2.1->tensorflow-object-detection-api) (3.2.0)\n",
            "Requirement already satisfied: python-dateutil>=2.7 in /usr/local/lib/python3.10/dist-packages (from Matplotlib>=2.1->tensorflow-object-detection-api) (2.8.2)\n",
            "Requirement already satisfied: notebook in /usr/local/lib/python3.10/dist-packages (from jupyter->tensorflow-object-detection-api) (6.5.5)\n",
            "Requirement already satisfied: jupyter-console in /usr/local/lib/python3.10/dist-packages (from jupyter->tensorflow-object-detection-api) (6.1.0)\n",
            "Requirement already satisfied: nbconvert in /usr/local/lib/python3.10/dist-packages (from jupyter->tensorflow-object-detection-api) (7.16.4)\n",
            "Requirement already satisfied: ipykernel in /usr/local/lib/python3.10/dist-packages (from jupyter->tensorflow-object-detection-api) (5.5.6)\n",
            "Requirement already satisfied: ipywidgets in /usr/local/lib/python3.10/dist-packages (from jupyter->tensorflow-object-detection-api) (7.7.1)\n",
            "Collecting jupyterlab (from jupyter->tensorflow-object-detection-api)\n",
            "  Downloading jupyterlab-4.3.3-py3-none-any.whl.metadata (16 kB)\n",
            "Requirement already satisfied: absl-py>=1.0.0 in /usr/local/lib/python3.10/dist-packages (from tensorflow->tensorflow-object-detection-api) (1.4.0)\n",
            "Requirement already satisfied: astunparse>=1.6.0 in /usr/local/lib/python3.10/dist-packages (from tensorflow->tensorflow-object-detection-api) (1.6.3)\n",
            "Requirement already satisfied: flatbuffers>=24.3.25 in /usr/local/lib/python3.10/dist-packages (from tensorflow->tensorflow-object-detection-api) (24.3.25)\n",
            "Requirement already satisfied: gast!=0.5.0,!=0.5.1,!=0.5.2,>=0.2.1 in /usr/local/lib/python3.10/dist-packages (from tensorflow->tensorflow-object-detection-api) (0.6.0)\n",
            "Requirement already satisfied: google-pasta>=0.1.1 in /usr/local/lib/python3.10/dist-packages (from tensorflow->tensorflow-object-detection-api) (0.2.0)\n",
            "Requirement already satisfied: libclang>=13.0.0 in /usr/local/lib/python3.10/dist-packages (from tensorflow->tensorflow-object-detection-api) (18.1.1)\n",
            "Requirement already satisfied: opt-einsum>=2.3.2 in /usr/local/lib/python3.10/dist-packages (from tensorflow->tensorflow-object-detection-api) (3.4.0)\n",
            "Requirement already satisfied: requests<3,>=2.21.0 in /usr/local/lib/python3.10/dist-packages (from tensorflow->tensorflow-object-detection-api) (2.32.3)\n",
            "Requirement already satisfied: setuptools in /usr/local/lib/python3.10/dist-packages (from tensorflow->tensorflow-object-detection-api) (75.1.0)\n",
            "Requirement already satisfied: six>=1.12.0 in /usr/local/lib/python3.10/dist-packages (from tensorflow->tensorflow-object-detection-api) (1.17.0)\n",
            "Requirement already satisfied: termcolor>=1.1.0 in /usr/local/lib/python3.10/dist-packages (from tensorflow->tensorflow-object-detection-api) (2.5.0)\n",
            "Requirement already satisfied: typing-extensions>=3.6.6 in /usr/local/lib/python3.10/dist-packages (from tensorflow->tensorflow-object-detection-api) (4.12.2)\n",
            "Requirement already satisfied: wrapt>=1.11.0 in /usr/local/lib/python3.10/dist-packages (from tensorflow->tensorflow-object-detection-api) (1.17.0)\n",
            "Requirement already satisfied: grpcio<2.0,>=1.24.3 in /usr/local/lib/python3.10/dist-packages (from tensorflow->tensorflow-object-detection-api) (1.68.1)\n",
            "Requirement already satisfied: tensorboard<2.19,>=2.18 in /usr/local/lib/python3.10/dist-packages (from tensorflow->tensorflow-object-detection-api) (2.18.0)\n",
            "Requirement already satisfied: keras>=3.5.0 in /usr/local/lib/python3.10/dist-packages (from tensorflow->tensorflow-object-detection-api) (3.5.0)\n",
            "Requirement already satisfied: h5py>=3.11.0 in /usr/local/lib/python3.10/dist-packages (from tensorflow->tensorflow-object-detection-api) (3.12.1)\n",
            "Requirement already satisfied: ml-dtypes<0.5.0,>=0.4.0 in /usr/local/lib/python3.10/dist-packages (from tensorflow->tensorflow-object-detection-api) (0.4.1)\n",
            "Requirement already satisfied: tensorflow-io-gcs-filesystem>=0.23.1 in /usr/local/lib/python3.10/dist-packages (from tensorflow->tensorflow-object-detection-api) (0.37.1)\n",
            "Collecting pkginfo>=1.8.1 (from twine->tensorflow-object-detection-api)\n",
            "  Downloading pkginfo-1.12.0-py3-none-any.whl.metadata (12 kB)\n",
            "Collecting readme-renderer>=35.0 (from twine->tensorflow-object-detection-api)\n",
            "  Downloading readme_renderer-44.0-py3-none-any.whl.metadata (2.8 kB)\n",
            "Requirement already satisfied: requests-toolbelt!=0.9.0,>=0.8.0 in /usr/local/lib/python3.10/dist-packages (from twine->tensorflow-object-detection-api) (1.0.0)\n",
            "Requirement already satisfied: urllib3>=1.26.0 in /usr/local/lib/python3.10/dist-packages (from twine->tensorflow-object-detection-api) (2.2.3)\n",
            "Requirement already satisfied: keyring>=15.1 in /usr/lib/python3/dist-packages (from twine->tensorflow-object-detection-api) (23.5.0)\n",
            "Collecting rfc3986>=1.4.0 (from twine->tensorflow-object-detection-api)\n",
            "  Downloading rfc3986-2.0.0-py2.py3-none-any.whl.metadata (6.6 kB)\n",
            "Requirement already satisfied: rich>=12.0.0 in /usr/local/lib/python3.10/dist-packages (from twine->tensorflow-object-detection-api) (13.9.4)\n",
            "Requirement already satisfied: namex in /usr/local/lib/python3.10/dist-packages (from keras>=3.5.0->tensorflow->tensorflow-object-detection-api) (0.0.8)\n",
            "Requirement already satisfied: optree in /usr/local/lib/python3.10/dist-packages (from keras>=3.5.0->tensorflow->tensorflow-object-detection-api) (0.13.1)\n",
            "Collecting nh3>=0.2.14 (from readme-renderer>=35.0->twine->tensorflow-object-detection-api)\n",
            "  Downloading nh3-0.2.19-cp38-abi3-manylinux_2_17_x86_64.manylinux2014_x86_64.whl.metadata (1.7 kB)\n",
            "Requirement already satisfied: docutils>=0.21.2 in /usr/local/lib/python3.10/dist-packages (from readme-renderer>=35.0->twine->tensorflow-object-detection-api) (0.21.2)\n",
            "Requirement already satisfied: Pygments>=2.5.1 in /usr/local/lib/python3.10/dist-packages (from readme-renderer>=35.0->twine->tensorflow-object-detection-api) (2.18.0)\n",
            "Requirement already satisfied: charset-normalizer<4,>=2 in /usr/local/lib/python3.10/dist-packages (from requests<3,>=2.21.0->tensorflow->tensorflow-object-detection-api) (3.4.0)\n",
            "Requirement already satisfied: idna<4,>=2.5 in /usr/local/lib/python3.10/dist-packages (from requests<3,>=2.21.0->tensorflow->tensorflow-object-detection-api) (3.10)\n",
            "Requirement already satisfied: certifi>=2017.4.17 in /usr/local/lib/python3.10/dist-packages (from requests<3,>=2.21.0->tensorflow->tensorflow-object-detection-api) (2024.8.30)\n",
            "Requirement already satisfied: markdown-it-py>=2.2.0 in /usr/local/lib/python3.10/dist-packages (from rich>=12.0.0->twine->tensorflow-object-detection-api) (3.0.0)\n",
            "Requirement already satisfied: markdown>=2.6.8 in /usr/local/lib/python3.10/dist-packages (from tensorboard<2.19,>=2.18->tensorflow->tensorflow-object-detection-api) (3.7)\n",
            "Requirement already satisfied: tensorboard-data-server<0.8.0,>=0.7.0 in /usr/local/lib/python3.10/dist-packages (from tensorboard<2.19,>=2.18->tensorflow->tensorflow-object-detection-api) (0.7.2)\n",
            "Requirement already satisfied: werkzeug>=1.0.1 in /usr/local/lib/python3.10/dist-packages (from tensorboard<2.19,>=2.18->tensorflow->tensorflow-object-detection-api) (3.1.3)\n",
            "Requirement already satisfied: ipython-genutils in /usr/local/lib/python3.10/dist-packages (from ipykernel->jupyter->tensorflow-object-detection-api) (0.2.0)\n",
            "Requirement already satisfied: ipython>=5.0.0 in /usr/local/lib/python3.10/dist-packages (from ipykernel->jupyter->tensorflow-object-detection-api) (7.34.0)\n",
            "Requirement already satisfied: traitlets>=4.1.0 in /usr/local/lib/python3.10/dist-packages (from ipykernel->jupyter->tensorflow-object-detection-api) (5.7.1)\n",
            "Requirement already satisfied: jupyter-client in /usr/local/lib/python3.10/dist-packages (from ipykernel->jupyter->tensorflow-object-detection-api) (6.1.12)\n",
            "Requirement already satisfied: tornado>=4.2 in /usr/local/lib/python3.10/dist-packages (from ipykernel->jupyter->tensorflow-object-detection-api) (6.3.3)\n",
            "Requirement already satisfied: widgetsnbextension~=3.6.0 in /usr/local/lib/python3.10/dist-packages (from ipywidgets->jupyter->tensorflow-object-detection-api) (3.6.10)\n",
            "Requirement already satisfied: jupyterlab-widgets>=1.0.0 in /usr/local/lib/python3.10/dist-packages (from ipywidgets->jupyter->tensorflow-object-detection-api) (3.0.13)\n",
            "Requirement already satisfied: prompt-toolkit!=3.0.0,!=3.0.1,<3.1.0,>=2.0.0 in /usr/local/lib/python3.10/dist-packages (from jupyter-console->jupyter->tensorflow-object-detection-api) (3.0.48)\n",
            "Collecting async-lru>=1.0.0 (from jupyterlab->jupyter->tensorflow-object-detection-api)\n",
            "  Downloading async_lru-2.0.4-py3-none-any.whl.metadata (4.5 kB)\n",
            "Requirement already satisfied: httpx>=0.25.0 in /usr/local/lib/python3.10/dist-packages (from jupyterlab->jupyter->tensorflow-object-detection-api) (0.28.1)\n",
            "Collecting ipykernel (from jupyter->tensorflow-object-detection-api)\n",
            "  Downloading ipykernel-6.29.5-py3-none-any.whl.metadata (6.3 kB)\n",
            "Requirement already satisfied: jinja2>=3.0.3 in /usr/local/lib/python3.10/dist-packages (from jupyterlab->jupyter->tensorflow-object-detection-api) (3.1.4)\n",
            "Requirement already satisfied: jupyter-core in /usr/local/lib/python3.10/dist-packages (from jupyterlab->jupyter->tensorflow-object-detection-api) (5.7.2)\n",
            "Collecting jupyter-lsp>=2.0.0 (from jupyterlab->jupyter->tensorflow-object-detection-api)\n",
            "  Downloading jupyter_lsp-2.2.5-py3-none-any.whl.metadata (1.8 kB)\n",
            "Collecting jupyter-server<3,>=2.4.0 (from jupyterlab->jupyter->tensorflow-object-detection-api)\n",
            "  Downloading jupyter_server-2.14.2-py3-none-any.whl.metadata (8.4 kB)\n",
            "Collecting jupyterlab-server<3,>=2.27.1 (from jupyterlab->jupyter->tensorflow-object-detection-api)\n",
            "  Downloading jupyterlab_server-2.27.3-py3-none-any.whl.metadata (5.9 kB)\n",
            "Requirement already satisfied: notebook-shim>=0.2 in /usr/local/lib/python3.10/dist-packages (from jupyterlab->jupyter->tensorflow-object-detection-api) (0.2.4)\n",
            "Requirement already satisfied: tomli>=1.2.2 in /usr/local/lib/python3.10/dist-packages (from jupyterlab->jupyter->tensorflow-object-detection-api) (2.2.1)\n",
            "Collecting comm>=0.1.1 (from ipykernel->jupyter->tensorflow-object-detection-api)\n",
            "  Downloading comm-0.2.2-py3-none-any.whl.metadata (3.7 kB)\n",
            "Requirement already satisfied: debugpy>=1.6.5 in /usr/local/lib/python3.10/dist-packages (from ipykernel->jupyter->tensorflow-object-detection-api) (1.8.0)\n",
            "Requirement already satisfied: matplotlib-inline>=0.1 in /usr/local/lib/python3.10/dist-packages (from ipykernel->jupyter->tensorflow-object-detection-api) (0.1.7)\n",
            "Requirement already satisfied: nest-asyncio in /usr/local/lib/python3.10/dist-packages (from ipykernel->jupyter->tensorflow-object-detection-api) (1.6.0)\n",
            "Requirement already satisfied: psutil in /usr/local/lib/python3.10/dist-packages (from ipykernel->jupyter->tensorflow-object-detection-api) (5.9.5)\n",
            "Requirement already satisfied: pyzmq>=24 in /usr/local/lib/python3.10/dist-packages (from ipykernel->jupyter->tensorflow-object-detection-api) (24.0.1)\n",
            "Requirement already satisfied: beautifulsoup4 in /usr/local/lib/python3.10/dist-packages (from nbconvert->jupyter->tensorflow-object-detection-api) (4.12.3)\n",
            "Requirement already satisfied: bleach!=5.0.0 in /usr/local/lib/python3.10/dist-packages (from nbconvert->jupyter->tensorflow-object-detection-api) (6.2.0)\n",
            "Requirement already satisfied: defusedxml in /usr/local/lib/python3.10/dist-packages (from nbconvert->jupyter->tensorflow-object-detection-api) (0.7.1)\n",
            "Requirement already satisfied: jupyterlab-pygments in /usr/local/lib/python3.10/dist-packages (from nbconvert->jupyter->tensorflow-object-detection-api) (0.3.0)\n",
            "Requirement already satisfied: markupsafe>=2.0 in /usr/local/lib/python3.10/dist-packages (from nbconvert->jupyter->tensorflow-object-detection-api) (3.0.2)\n",
            "Requirement already satisfied: mistune<4,>=2.0.3 in /usr/local/lib/python3.10/dist-packages (from nbconvert->jupyter->tensorflow-object-detection-api) (3.0.2)\n",
            "Requirement already satisfied: nbclient>=0.5.0 in /usr/local/lib/python3.10/dist-packages (from nbconvert->jupyter->tensorflow-object-detection-api) (0.10.1)\n",
            "Requirement already satisfied: nbformat>=5.7 in /usr/local/lib/python3.10/dist-packages (from nbconvert->jupyter->tensorflow-object-detection-api) (5.10.4)\n",
            "Requirement already satisfied: pandocfilters>=1.4.1 in /usr/local/lib/python3.10/dist-packages (from nbconvert->jupyter->tensorflow-object-detection-api) (1.5.1)\n",
            "Requirement already satisfied: tinycss2 in /usr/local/lib/python3.10/dist-packages (from nbconvert->jupyter->tensorflow-object-detection-api) (1.4.0)\n",
            "Requirement already satisfied: argon2-cffi in /usr/local/lib/python3.10/dist-packages (from notebook->jupyter->tensorflow-object-detection-api) (23.1.0)\n",
            "Requirement already satisfied: Send2Trash>=1.8.0 in /usr/local/lib/python3.10/dist-packages (from notebook->jupyter->tensorflow-object-detection-api) (1.8.3)\n",
            "Requirement already satisfied: terminado>=0.8.3 in /usr/local/lib/python3.10/dist-packages (from notebook->jupyter->tensorflow-object-detection-api) (0.18.1)\n",
            "Requirement already satisfied: prometheus-client in /usr/local/lib/python3.10/dist-packages (from notebook->jupyter->tensorflow-object-detection-api) (0.21.1)\n",
            "Requirement already satisfied: nbclassic>=0.4.7 in /usr/local/lib/python3.10/dist-packages (from notebook->jupyter->tensorflow-object-detection-api) (1.1.0)\n",
            "Requirement already satisfied: webencodings in /usr/local/lib/python3.10/dist-packages (from bleach!=5.0.0->nbconvert->jupyter->tensorflow-object-detection-api) (0.5.1)\n",
            "Requirement already satisfied: anyio in /usr/local/lib/python3.10/dist-packages (from httpx>=0.25.0->jupyterlab->jupyter->tensorflow-object-detection-api) (3.7.1)\n",
            "Requirement already satisfied: httpcore==1.* in /usr/local/lib/python3.10/dist-packages (from httpx>=0.25.0->jupyterlab->jupyter->tensorflow-object-detection-api) (1.0.7)\n",
            "Requirement already satisfied: h11<0.15,>=0.13 in /usr/local/lib/python3.10/dist-packages (from httpcore==1.*->httpx>=0.25.0->jupyterlab->jupyter->tensorflow-object-detection-api) (0.14.0)\n",
            "Collecting jedi>=0.16 (from ipython>=5.0.0->ipykernel->jupyter->tensorflow-object-detection-api)\n",
            "  Downloading jedi-0.19.2-py2.py3-none-any.whl.metadata (22 kB)\n",
            "Requirement already satisfied: decorator in /usr/local/lib/python3.10/dist-packages (from ipython>=5.0.0->ipykernel->jupyter->tensorflow-object-detection-api) (4.4.2)\n",
            "Requirement already satisfied: pickleshare in /usr/local/lib/python3.10/dist-packages (from ipython>=5.0.0->ipykernel->jupyter->tensorflow-object-detection-api) (0.7.5)\n",
            "Requirement already satisfied: backcall in /usr/local/lib/python3.10/dist-packages (from ipython>=5.0.0->ipykernel->jupyter->tensorflow-object-detection-api) (0.2.0)\n",
            "Requirement already satisfied: pexpect>4.3 in /usr/local/lib/python3.10/dist-packages (from ipython>=5.0.0->ipykernel->jupyter->tensorflow-object-detection-api) (4.9.0)\n",
            "Requirement already satisfied: platformdirs>=2.5 in /usr/local/lib/python3.10/dist-packages (from jupyter-core->jupyterlab->jupyter->tensorflow-object-detection-api) (4.3.6)\n",
            "Collecting jupyter-client (from jupyter-console->jupyter->tensorflow-object-detection-api)\n",
            "  Downloading jupyter_client-7.4.9-py3-none-any.whl.metadata (8.5 kB)\n",
            "Collecting jupyter-events>=0.9.0 (from jupyter-server<3,>=2.4.0->jupyterlab->jupyter->tensorflow-object-detection-api)\n",
            "  Downloading jupyter_events-0.10.0-py3-none-any.whl.metadata (5.9 kB)\n",
            "Collecting jupyter-server-terminals>=0.4.4 (from jupyter-server<3,>=2.4.0->jupyterlab->jupyter->tensorflow-object-detection-api)\n",
            "  Downloading jupyter_server_terminals-0.5.3-py3-none-any.whl.metadata (5.6 kB)\n",
            "Collecting overrides>=5.0 (from jupyter-server<3,>=2.4.0->jupyterlab->jupyter->tensorflow-object-detection-api)\n",
            "  Downloading overrides-7.7.0-py3-none-any.whl.metadata (5.8 kB)\n",
            "Requirement already satisfied: websocket-client>=1.7 in /usr/local/lib/python3.10/dist-packages (from jupyter-server<3,>=2.4.0->jupyterlab->jupyter->tensorflow-object-detection-api) (1.8.0)\n",
            "Requirement already satisfied: argon2-cffi-bindings in /usr/local/lib/python3.10/dist-packages (from argon2-cffi->notebook->jupyter->tensorflow-object-detection-api) (21.2.0)\n",
            "Requirement already satisfied: entrypoints in /usr/local/lib/python3.10/dist-packages (from jupyter-client->jupyter-console->jupyter->tensorflow-object-detection-api) (0.4)\n",
            "Requirement already satisfied: babel>=2.10 in /usr/local/lib/python3.10/dist-packages (from jupyterlab-server<3,>=2.27.1->jupyterlab->jupyter->tensorflow-object-detection-api) (2.16.0)\n",
            "Collecting json5>=0.9.0 (from jupyterlab-server<3,>=2.27.1->jupyterlab->jupyter->tensorflow-object-detection-api)\n",
            "  Downloading json5-0.10.0-py3-none-any.whl.metadata (34 kB)\n",
            "Requirement already satisfied: jsonschema>=4.18.0 in /usr/local/lib/python3.10/dist-packages (from jupyterlab-server<3,>=2.27.1->jupyterlab->jupyter->tensorflow-object-detection-api) (4.23.0)\n",
            "Requirement already satisfied: mdurl~=0.1 in /usr/local/lib/python3.10/dist-packages (from markdown-it-py>=2.2.0->rich>=12.0.0->twine->tensorflow-object-detection-api) (0.1.2)\n",
            "Requirement already satisfied: fastjsonschema>=2.15 in /usr/local/lib/python3.10/dist-packages (from nbformat>=5.7->nbconvert->jupyter->tensorflow-object-detection-api) (2.21.1)\n",
            "Requirement already satisfied: wcwidth in /usr/local/lib/python3.10/dist-packages (from prompt-toolkit!=3.0.0,!=3.0.1,<3.1.0,>=2.0.0->jupyter-console->jupyter->tensorflow-object-detection-api) (0.2.13)\n",
            "Requirement already satisfied: ptyprocess in /usr/local/lib/python3.10/dist-packages (from terminado>=0.8.3->notebook->jupyter->tensorflow-object-detection-api) (0.7.0)\n",
            "Requirement already satisfied: soupsieve>1.2 in /usr/local/lib/python3.10/dist-packages (from beautifulsoup4->nbconvert->jupyter->tensorflow-object-detection-api) (2.6)\n",
            "Requirement already satisfied: sniffio>=1.1 in /usr/local/lib/python3.10/dist-packages (from anyio->httpx>=0.25.0->jupyterlab->jupyter->tensorflow-object-detection-api) (1.3.1)\n",
            "Requirement already satisfied: exceptiongroup in /usr/local/lib/python3.10/dist-packages (from anyio->httpx>=0.25.0->jupyterlab->jupyter->tensorflow-object-detection-api) (1.2.2)\n",
            "Requirement already satisfied: parso<0.9.0,>=0.8.4 in /usr/local/lib/python3.10/dist-packages (from jedi>=0.16->ipython>=5.0.0->ipykernel->jupyter->tensorflow-object-detection-api) (0.8.4)\n",
            "Requirement already satisfied: attrs>=22.2.0 in /usr/local/lib/python3.10/dist-packages (from jsonschema>=4.18.0->jupyterlab-server<3,>=2.27.1->jupyterlab->jupyter->tensorflow-object-detection-api) (24.2.0)\n",
            "Requirement already satisfied: jsonschema-specifications>=2023.03.6 in /usr/local/lib/python3.10/dist-packages (from jsonschema>=4.18.0->jupyterlab-server<3,>=2.27.1->jupyterlab->jupyter->tensorflow-object-detection-api) (2024.10.1)\n",
            "Requirement already satisfied: referencing>=0.28.4 in /usr/local/lib/python3.10/dist-packages (from jsonschema>=4.18.0->jupyterlab-server<3,>=2.27.1->jupyterlab->jupyter->tensorflow-object-detection-api) (0.35.1)\n",
            "Requirement already satisfied: rpds-py>=0.7.1 in /usr/local/lib/python3.10/dist-packages (from jsonschema>=4.18.0->jupyterlab-server<3,>=2.27.1->jupyterlab->jupyter->tensorflow-object-detection-api) (0.22.3)\n",
            "Collecting python-json-logger>=2.0.4 (from jupyter-events>=0.9.0->jupyter-server<3,>=2.4.0->jupyterlab->jupyter->tensorflow-object-detection-api)\n",
            "  Downloading python_json_logger-3.2.1-py3-none-any.whl.metadata (4.1 kB)\n",
            "Requirement already satisfied: pyyaml>=5.3 in /usr/local/lib/python3.10/dist-packages (from jupyter-events>=0.9.0->jupyter-server<3,>=2.4.0->jupyterlab->jupyter->tensorflow-object-detection-api) (6.0.2)\n",
            "Collecting rfc3339-validator (from jupyter-events>=0.9.0->jupyter-server<3,>=2.4.0->jupyterlab->jupyter->tensorflow-object-detection-api)\n",
            "  Downloading rfc3339_validator-0.1.4-py2.py3-none-any.whl.metadata (1.5 kB)\n",
            "Collecting rfc3986-validator>=0.1.1 (from jupyter-events>=0.9.0->jupyter-server<3,>=2.4.0->jupyterlab->jupyter->tensorflow-object-detection-api)\n",
            "  Downloading rfc3986_validator-0.1.1-py2.py3-none-any.whl.metadata (1.7 kB)\n",
            "Requirement already satisfied: cffi>=1.0.1 in /usr/local/lib/python3.10/dist-packages (from argon2-cffi-bindings->argon2-cffi->notebook->jupyter->tensorflow-object-detection-api) (1.17.1)\n",
            "Requirement already satisfied: pycparser in /usr/local/lib/python3.10/dist-packages (from cffi>=1.0.1->argon2-cffi-bindings->argon2-cffi->notebook->jupyter->tensorflow-object-detection-api) (2.22)\n",
            "Collecting fqdn (from jsonschema[format-nongpl]>=4.18.0->jupyter-events>=0.9.0->jupyter-server<3,>=2.4.0->jupyterlab->jupyter->tensorflow-object-detection-api)\n",
            "  Downloading fqdn-1.5.1-py3-none-any.whl.metadata (1.4 kB)\n",
            "Collecting isoduration (from jsonschema[format-nongpl]>=4.18.0->jupyter-events>=0.9.0->jupyter-server<3,>=2.4.0->jupyterlab->jupyter->tensorflow-object-detection-api)\n",
            "  Downloading isoduration-20.11.0-py3-none-any.whl.metadata (5.7 kB)\n",
            "Requirement already satisfied: jsonpointer>1.13 in /usr/local/lib/python3.10/dist-packages (from jsonschema[format-nongpl]>=4.18.0->jupyter-events>=0.9.0->jupyter-server<3,>=2.4.0->jupyterlab->jupyter->tensorflow-object-detection-api) (3.0.0)\n",
            "Collecting uri-template (from jsonschema[format-nongpl]>=4.18.0->jupyter-events>=0.9.0->jupyter-server<3,>=2.4.0->jupyterlab->jupyter->tensorflow-object-detection-api)\n",
            "  Downloading uri_template-1.3.0-py3-none-any.whl.metadata (8.8 kB)\n",
            "Requirement already satisfied: webcolors>=24.6.0 in /usr/local/lib/python3.10/dist-packages (from jsonschema[format-nongpl]>=4.18.0->jupyter-events>=0.9.0->jupyter-server<3,>=2.4.0->jupyterlab->jupyter->tensorflow-object-detection-api) (24.11.1)\n",
            "Collecting arrow>=0.15.0 (from isoduration->jsonschema[format-nongpl]>=4.18.0->jupyter-events>=0.9.0->jupyter-server<3,>=2.4.0->jupyterlab->jupyter->tensorflow-object-detection-api)\n",
            "  Downloading arrow-1.3.0-py3-none-any.whl.metadata (7.5 kB)\n",
            "Collecting types-python-dateutil>=2.8.10 (from arrow>=0.15.0->isoduration->jsonschema[format-nongpl]>=4.18.0->jupyter-events>=0.9.0->jupyter-server<3,>=2.4.0->jupyterlab->jupyter->tensorflow-object-detection-api)\n",
            "  Downloading types_python_dateutil-2.9.0.20241206-py3-none-any.whl.metadata (2.1 kB)\n",
            "Downloading contextlib2-21.6.0-py2.py3-none-any.whl (13 kB)\n",
            "Downloading jupyter-1.1.1-py2.py3-none-any.whl (2.7 kB)\n",
            "Downloading twine-6.0.1-py3-none-any.whl (39 kB)\n",
            "Downloading pkginfo-1.12.0-py3-none-any.whl (32 kB)\n",
            "Downloading readme_renderer-44.0-py3-none-any.whl (13 kB)\n",
            "Downloading rfc3986-2.0.0-py2.py3-none-any.whl (31 kB)\n",
            "Downloading jupyterlab-4.3.3-py3-none-any.whl (11.7 MB)\n",
            "\u001b[2K   \u001b[90m━━━━━━━━━━━━━━━━━━━━━━━━━━━━━━━━━━━━━━━━\u001b[0m \u001b[32m11.7/11.7 MB\u001b[0m \u001b[31m53.8 MB/s\u001b[0m eta \u001b[36m0:00:00\u001b[0m\n",
            "\u001b[?25hDownloading ipykernel-6.29.5-py3-none-any.whl (117 kB)\n",
            "\u001b[2K   \u001b[90m━━━━━━━━━━━━━━━━━━━━━━━━━━━━━━━━━━━━━━━━\u001b[0m \u001b[32m117.2/117.2 kB\u001b[0m \u001b[31m7.5 MB/s\u001b[0m eta \u001b[36m0:00:00\u001b[0m\n",
            "\u001b[?25hDownloading async_lru-2.0.4-py3-none-any.whl (6.1 kB)\n",
            "Downloading comm-0.2.2-py3-none-any.whl (7.2 kB)\n",
            "Downloading jupyter_lsp-2.2.5-py3-none-any.whl (69 kB)\n",
            "\u001b[2K   \u001b[90m━━━━━━━━━━━━━━━━━━━━━━━━━━━━━━━━━━━━━━━━\u001b[0m \u001b[32m69.1/69.1 kB\u001b[0m \u001b[31m5.4 MB/s\u001b[0m eta \u001b[36m0:00:00\u001b[0m\n",
            "\u001b[?25hDownloading jupyter_server-2.14.2-py3-none-any.whl (383 kB)\n",
            "\u001b[2K   \u001b[90m━━━━━━━━━━━━━━━━━━━━━━━━━━━━━━━━━━━━━━━━\u001b[0m \u001b[32m383.6/383.6 kB\u001b[0m \u001b[31m22.5 MB/s\u001b[0m eta \u001b[36m0:00:00\u001b[0m\n",
            "\u001b[?25hDownloading jupyter_client-7.4.9-py3-none-any.whl (133 kB)\n",
            "\u001b[2K   \u001b[90m━━━━━━━━━━━━━━━━━━━━━━━━━━━━━━━━━━━━━━━━\u001b[0m \u001b[32m133.5/133.5 kB\u001b[0m \u001b[31m9.9 MB/s\u001b[0m eta \u001b[36m0:00:00\u001b[0m\n",
            "\u001b[?25hDownloading jupyterlab_server-2.27.3-py3-none-any.whl (59 kB)\n",
            "\u001b[2K   \u001b[90m━━━━━━━━━━━━━━━━━━━━━━━━━━━━━━━━━━━━━━━━\u001b[0m \u001b[32m59.7/59.7 kB\u001b[0m \u001b[31m4.6 MB/s\u001b[0m eta \u001b[36m0:00:00\u001b[0m\n",
            "\u001b[?25hDownloading nh3-0.2.19-cp38-abi3-manylinux_2_17_x86_64.manylinux2014_x86_64.whl (748 kB)\n",
            "\u001b[2K   \u001b[90m━━━━━━━━━━━━━━━━━━━━━━━━━━━━━━━━━━━━━━━━\u001b[0m \u001b[32m748.3/748.3 kB\u001b[0m \u001b[31m27.8 MB/s\u001b[0m eta \u001b[36m0:00:00\u001b[0m\n",
            "\u001b[?25hDownloading jedi-0.19.2-py2.py3-none-any.whl (1.6 MB)\n",
            "\u001b[2K   \u001b[90m━━━━━━━━━━━━━━━━━━━━━━━━━━━━━━━━━━━━━━━━\u001b[0m \u001b[32m1.6/1.6 MB\u001b[0m \u001b[31m50.6 MB/s\u001b[0m eta \u001b[36m0:00:00\u001b[0m\n",
            "\u001b[?25hDownloading json5-0.10.0-py3-none-any.whl (34 kB)\n",
            "Downloading jupyter_events-0.10.0-py3-none-any.whl (18 kB)\n",
            "Downloading jupyter_server_terminals-0.5.3-py3-none-any.whl (13 kB)\n",
            "Downloading overrides-7.7.0-py3-none-any.whl (17 kB)\n",
            "Downloading python_json_logger-3.2.1-py3-none-any.whl (14 kB)\n",
            "Downloading rfc3986_validator-0.1.1-py2.py3-none-any.whl (4.2 kB)\n",
            "Downloading rfc3339_validator-0.1.4-py2.py3-none-any.whl (3.5 kB)\n",
            "Downloading fqdn-1.5.1-py3-none-any.whl (9.1 kB)\n",
            "Downloading isoduration-20.11.0-py3-none-any.whl (11 kB)\n",
            "Downloading uri_template-1.3.0-py3-none-any.whl (11 kB)\n",
            "Downloading arrow-1.3.0-py3-none-any.whl (66 kB)\n",
            "\u001b[2K   \u001b[90m━━━━━━━━━━━━━━━━━━━━━━━━━━━━━━━━━━━━━━━━\u001b[0m \u001b[32m66.4/66.4 kB\u001b[0m \u001b[31m4.9 MB/s\u001b[0m eta \u001b[36m0:00:00\u001b[0m\n",
            "\u001b[?25hDownloading types_python_dateutil-2.9.0.20241206-py3-none-any.whl (14 kB)\n",
            "Building wheels for collected packages: tensorflow-object-detection-api\n",
            "  Building wheel for tensorflow-object-detection-api (setup.py) ... \u001b[?25l\u001b[?25hdone\n",
            "  Created wheel for tensorflow-object-detection-api: filename=tensorflow_object_detection_api-0.1.1-py3-none-any.whl size=844489 sha256=78016a3da6eaac36b9f964bf532393f816d9363fec2bd4a116191a3ee0e7aa3e\n",
            "  Stored in directory: /root/.cache/pip/wheels/8a/55/68/c084bc2cd93c41fd8f7e2ef9e6bbcb2c35a3e4b49e42044d02\n",
            "Successfully built tensorflow-object-detection-api\n",
            "Installing collected packages: nh3, uri-template, types-python-dateutil, rfc3986-validator, rfc3986, rfc3339-validator, readme-renderer, python-json-logger, pkginfo, overrides, json5, jedi, fqdn, contextlib2, comm, async-lru, jupyter-server-terminals, jupyter-client, arrow, twine, isoduration, ipykernel, jupyter-events, jupyter-server, jupyterlab-server, jupyter-lsp, jupyterlab, jupyter, tensorflow-object-detection-api\n",
            "  Attempting uninstall: jupyter-client\n",
            "    Found existing installation: jupyter-client 6.1.12\n",
            "    Uninstalling jupyter-client-6.1.12:\n",
            "      Successfully uninstalled jupyter-client-6.1.12\n",
            "  Attempting uninstall: ipykernel\n",
            "    Found existing installation: ipykernel 5.5.6\n",
            "    Uninstalling ipykernel-5.5.6:\n",
            "      Successfully uninstalled ipykernel-5.5.6\n",
            "  Attempting uninstall: jupyter-server\n",
            "    Found existing installation: jupyter-server 1.24.0\n",
            "    Uninstalling jupyter-server-1.24.0:\n",
            "      Successfully uninstalled jupyter-server-1.24.0\n",
            "\u001b[31mERROR: pip's dependency resolver does not currently take into account all the packages that are installed. This behaviour is the source of the following dependency conflicts.\n",
            "google-colab 1.0.0 requires ipykernel==5.5.6, but you have ipykernel 6.29.5 which is incompatible.\u001b[0m\u001b[31m\n",
            "\u001b[0mSuccessfully installed arrow-1.3.0 async-lru-2.0.4 comm-0.2.2 contextlib2-21.6.0 fqdn-1.5.1 ipykernel-6.29.5 isoduration-20.11.0 jedi-0.19.2 json5-0.10.0 jupyter-1.1.1 jupyter-client-7.4.9 jupyter-events-0.10.0 jupyter-lsp-2.2.5 jupyter-server-2.14.2 jupyter-server-terminals-0.5.3 jupyterlab-4.3.3 jupyterlab-server-2.27.3 nh3-0.2.19 overrides-7.7.0 pkginfo-1.12.0 python-json-logger-3.2.1 readme-renderer-44.0 rfc3339-validator-0.1.4 rfc3986-2.0.0 rfc3986-validator-0.1.1 tensorflow-object-detection-api-0.1.1 twine-6.0.1 types-python-dateutil-2.9.0.20241206 uri-template-1.3.0\n"
          ]
        }
      ]
    },
    {
      "cell_type": "code",
      "source": [
        "pip install protobuf==3.20.*\n"
      ],
      "metadata": {
        "colab": {
          "base_uri": "https://localhost:8080/",
          "height": 321
        },
        "id": "ZPCIA_Blee-B",
        "outputId": "ab8e94d1-6e0c-4899-b580-68a5bbfb57b8"
      },
      "execution_count": 5,
      "outputs": [
        {
          "output_type": "stream",
          "name": "stdout",
          "text": [
            "Collecting protobuf==3.20.*\n",
            "  Downloading protobuf-3.20.3-cp310-cp310-manylinux_2_12_x86_64.manylinux2010_x86_64.whl.metadata (679 bytes)\n",
            "Downloading protobuf-3.20.3-cp310-cp310-manylinux_2_12_x86_64.manylinux2010_x86_64.whl (1.1 MB)\n",
            "\u001b[?25l   \u001b[90m━━━━━━━━━━━━━━━━━━━━━━━━━━━━━━━━━━━━━━━━\u001b[0m \u001b[32m0.0/1.1 MB\u001b[0m \u001b[31m?\u001b[0m eta \u001b[36m-:--:--\u001b[0m\r\u001b[2K   \u001b[91m━━━━━━\u001b[0m\u001b[90m╺\u001b[0m\u001b[90m━━━━━━━━━━━━━━━━━━━━━━━━━━━━━━━━━\u001b[0m \u001b[32m0.2/1.1 MB\u001b[0m \u001b[31m4.8 MB/s\u001b[0m eta \u001b[36m0:00:01\u001b[0m\r\u001b[2K   \u001b[91m━━━━━━━━━━━━━━━━━━━━━━━━━━━━━━━━━━━━━━━\u001b[0m\u001b[91m╸\u001b[0m \u001b[32m1.0/1.1 MB\u001b[0m \u001b[31m17.0 MB/s\u001b[0m eta \u001b[36m0:00:01\u001b[0m\r\u001b[2K   \u001b[90m━━━━━━━━━━━━━━━━━━━━━━━━━━━━━━━━━━━━━━━━\u001b[0m \u001b[32m1.1/1.1 MB\u001b[0m \u001b[31m13.5 MB/s\u001b[0m eta \u001b[36m0:00:00\u001b[0m\n",
            "\u001b[?25hInstalling collected packages: protobuf\n",
            "  Attempting uninstall: protobuf\n",
            "    Found existing installation: protobuf 4.25.5\n",
            "    Uninstalling protobuf-4.25.5:\n",
            "      Successfully uninstalled protobuf-4.25.5\n",
            "\u001b[31mERROR: pip's dependency resolver does not currently take into account all the packages that are installed. This behaviour is the source of the following dependency conflicts.\n",
            "grpcio-status 1.62.3 requires protobuf>=4.21.6, but you have protobuf 3.20.3 which is incompatible.\u001b[0m\u001b[31m\n",
            "\u001b[0mSuccessfully installed protobuf-3.20.3\n"
          ]
        },
        {
          "output_type": "display_data",
          "data": {
            "application/vnd.colab-display-data+json": {
              "pip_warning": {
                "packages": [
                  "google"
                ]
              },
              "id": "35989cbedb514372a797a42144b27b4a"
            }
          },
          "metadata": {}
        }
      ]
    },
    {
      "cell_type": "code",
      "source": [
        "import tensorflow as tf\n",
        "from object_detection.utils import label_map_util\n",
        "from object_detection.utils import config_util\n",
        "from object_detection.builders import model_builder\n"
      ],
      "metadata": {
        "id": "Bamin7sKeAwF"
      },
      "execution_count": null,
      "outputs": []
    },
    {
      "cell_type": "code",
      "source": [
        "# Download the Pre-Trained Model\n",
        "!wget http://download.tensorflow.org/models/object_detection/tf2/20200711/ssd_mobilenet_v2_fpnlite_320x320_coco17_tpu-8.tar.gz\n",
        "!tar -xvf ssd_mobilenet_v2_fpnlite_320x320_coco17_tpu-8.tar.gz\n"
      ],
      "metadata": {
        "colab": {
          "base_uri": "https://localhost:8080/"
        },
        "id": "lqynhvuEfCtd",
        "outputId": "6e9774c0-fe03-4b4e-88b7-6130286714be"
      },
      "execution_count": 4,
      "outputs": [
        {
          "output_type": "stream",
          "name": "stdout",
          "text": [
            "--2024-12-16 17:20:21--  http://download.tensorflow.org/models/object_detection/tf2/20200711/ssd_mobilenet_v2_fpnlite_320x320_coco17_tpu-8.tar.gz\n",
            "Resolving download.tensorflow.org (download.tensorflow.org)... 108.177.11.207, 108.177.12.207, 74.125.26.207, ...\n",
            "Connecting to download.tensorflow.org (download.tensorflow.org)|108.177.11.207|:80... connected.\n",
            "HTTP request sent, awaiting response... 200 OK\n",
            "Length: 20515344 (20M) [application/x-tar]\n",
            "Saving to: ‘ssd_mobilenet_v2_fpnlite_320x320_coco17_tpu-8.tar.gz’\n",
            "\n",
            "ssd_mobilenet_v2_fp 100%[===================>]  19.56M  91.1MB/s    in 0.2s    \n",
            "\n",
            "2024-12-16 17:20:22 (91.1 MB/s) - ‘ssd_mobilenet_v2_fpnlite_320x320_coco17_tpu-8.tar.gz’ saved [20515344/20515344]\n",
            "\n",
            "ssd_mobilenet_v2_fpnlite_320x320_coco17_tpu-8/\n",
            "ssd_mobilenet_v2_fpnlite_320x320_coco17_tpu-8/checkpoint/\n",
            "ssd_mobilenet_v2_fpnlite_320x320_coco17_tpu-8/checkpoint/ckpt-0.data-00000-of-00001\n",
            "ssd_mobilenet_v2_fpnlite_320x320_coco17_tpu-8/checkpoint/checkpoint\n",
            "ssd_mobilenet_v2_fpnlite_320x320_coco17_tpu-8/checkpoint/ckpt-0.index\n",
            "ssd_mobilenet_v2_fpnlite_320x320_coco17_tpu-8/pipeline.config\n",
            "ssd_mobilenet_v2_fpnlite_320x320_coco17_tpu-8/saved_model/\n",
            "ssd_mobilenet_v2_fpnlite_320x320_coco17_tpu-8/saved_model/saved_model.pb\n",
            "ssd_mobilenet_v2_fpnlite_320x320_coco17_tpu-8/saved_model/variables/\n",
            "ssd_mobilenet_v2_fpnlite_320x320_coco17_tpu-8/saved_model/variables/variables.data-00000-of-00001\n",
            "ssd_mobilenet_v2_fpnlite_320x320_coco17_tpu-8/saved_model/variables/variables.index\n"
          ]
        }
      ]
    },
    {
      "cell_type": "code",
      "source": [
        "#Load the Configuration File\n",
        "MODEL_DIR = \"ssd_mobilenet_v2_fpnlite_320x320_coco17_tpu-8\"\n",
        "CONFIG_PATH = f\"{MODEL_DIR}/pipeline.config\"\n"
      ],
      "metadata": {
        "id": "njRY7d-yfGTS"
      },
      "execution_count": 5,
      "outputs": []
    },
    {
      "cell_type": "code",
      "source": [
        "# Build and Load the Model\n",
        "# Load the pipeline configuration\n",
        "configs = config_util.get_configs_from_pipeline_file(CONFIG_PATH)\n",
        "\n",
        "# Build the detection model\n",
        "detection_model = model_builder.build(\n",
        "    model_config=configs['model'], is_training=False\n",
        ")\n",
        "\n",
        "# Restore the pre-trained model weights\n",
        "checkpoint_path = f\"{MODEL_DIR}/checkpoint/ckpt-0\"\n",
        "ckpt = tf.compat.v2.train.Checkpoint(model=detection_model)\n",
        "ckpt.restore(checkpoint_path).expect_partial()\n",
        "\n",
        "print(\"Model loaded successfully!\")\n"
      ],
      "metadata": {
        "id": "zjsro1ukfQtS"
      },
      "execution_count": null,
      "outputs": []
    },
    {
      "cell_type": "code",
      "source": [
        "#Prepare the Detection Function\n",
        "@tf.function\n",
        "def detect_fn(image_tensor):\n",
        "    \"\"\"Runs inference on a single image.\"\"\"\n",
        "    detections = detection_model(image_tensor)\n",
        "    return detections\n",
        "#workflow\n",
        "import cv2\n",
        "import numpy as np\n",
        "\n",
        "# Load the image\n",
        "image_path = \"path_to_image.jpg\"\n",
        "image_np = cv2.imread(image_path)\n",
        "input_tensor = tf.convert_to_tensor([image_np], dtype=tf.uint8)\n",
        "\n",
        "# Perform inference\n",
        "detections = detect_fn(input_tensor)\n",
        "\n",
        "# Display detections\n",
        "print(detections)\n"
      ],
      "metadata": {
        "id": "wM3WtfgHfYgh"
      },
      "execution_count": null,
      "outputs": []
    },
    {
      "cell_type": "markdown",
      "source": [
        "**7. How do you preprocess an image from the web for TFOD2 inference ?**"
      ],
      "metadata": {
        "id": "rbJrvZKpu500"
      }
    },
    {
      "cell_type": "code",
      "source": [
        "#installing the required library\n",
        "pip install tensorflow\n",
        "pip install tensorflow-object-detection-api\n",
        "pip install requests\n"
      ],
      "metadata": {
        "id": "Gk7cDqlzfyVl"
      },
      "execution_count": null,
      "outputs": []
    },
    {
      "cell_type": "code",
      "source": [
        "# Fetch the Image from the Web\n",
        "import requests\n",
        "import numpy as np\n",
        "import tensorflow as tf\n",
        "from PIL import Image\n",
        "from io import BytesIO\n",
        "\n",
        "# Image URL\n",
        "url = 'https://images.pexels.com/videos/854671/free-video-854671.jpg'\n",
        "\n",
        "# Fetch the image\n",
        "response = requests.get(url)\n",
        "img = Image.open(BytesIO(response.content))\n"
      ],
      "metadata": {
        "id": "cHLf63Unf3MW"
      },
      "execution_count": 8,
      "outputs": []
    },
    {
      "cell_type": "code",
      "source": [
        "#Preprocess the Image\n",
        "# Resize image to fit model input size (e.g., 300x300)\n",
        "image_np = np.array(img.resize((300, 300)))\n",
        "\n",
        "# Convert image to float32\n",
        "image_np = np.asarray(image_np, dtype=np.float32)\n",
        "\n",
        "# Normalize pixel values (if required, depends on the model)\n",
        "image_np = image_np / 255.0  # Normalize to [0, 1]\n",
        "\n",
        "# Convert to a tensor\n",
        "image_tensor = tf.convert_to_tensor(image_np)\n",
        "\n",
        "# Add batch dimension, TensorFlow models expect a batch of images\n",
        "image_tensor = tf.expand_dims(image_tensor, 0)\n"
      ],
      "metadata": {
        "colab": {
          "base_uri": "https://localhost:8080/"
        },
        "id": "NnduwBLKf8Wr",
        "outputId": "07a71e75-6eea-454c-ee4c-b5ab61f45891"
      },
      "execution_count": 9,
      "outputs": [
        {
          "output_type": "stream",
          "name": "stderr",
          "text": [
            "2024-12-16 17:27:54.242420: E external/local_xla/xla/stream_executor/cuda/cuda_driver.cc:152] failed call to cuInit: INTERNAL: CUDA error: Failed call to cuInit: UNKNOWN ERROR (303)\n"
          ]
        }
      ]
    },
    {
      "cell_type": "code",
      "source": [
        "#run the inferncee\n",
        "from object_detection.utils import label_map_util\n",
        "from object_detection.utils import visualization_utils as viz_utils\n",
        "from object_detection.utils import ops as utils_ops\n",
        "\n",
        "# Load the model (use a pre-trained model or your trained model)\n",
        "# Assuming you already have a detection model loaded in `model`\n",
        "model = tf.saved_model.load('/path/to/saved_model')\n",
        "\n",
        "\n",
        "# Run inference\n",
        "output_dict = model(image_tensor)\n",
        "\n",
        "# The output_dict contains the results from the model (boxes, classes, scores, etc.)\n",
        "boxes = output_dict['detection_boxes']\n",
        "classes = output_dict['detection_classes']\n",
        "scores = output_dict['detection_scores']\n"
      ],
      "metadata": {
        "id": "Y9VoIdZGf_fe"
      },
      "execution_count": null,
      "outputs": []
    },
    {
      "cell_type": "code",
      "source": [
        "#visualise the results\n",
        "# Convert back to PIL for visualization\n",
        "image_with_boxes = np.array(img)\n",
        "\n",
        "# Draw boxes using visualization_utils\n",
        "viz_utils.visualize_boxes_and_labels_on_image_array(\n",
        "    image_with_boxes,\n",
        "    boxes[0].numpy(),\n",
        "    classes[0].numpy().astype(np.int32),\n",
        "    scores[0].numpy(),\n",
        "    label_map_util.create_category_index_from_labelmap('label_map.pbtxt'),\n",
        "    use_normalized_coordinates=True,\n",
        "    line_thickness=8\n",
        ")\n",
        "\n",
        "# Show the result\n",
        "Image.fromarray(image_with_boxes).show()\n"
      ],
      "metadata": {
        "id": "DxD8FeajgEoE"
      },
      "execution_count": null,
      "outputs": []
    },
    {
      "cell_type": "markdown",
      "source": [
        "**8. How do you visualize bounding boxes for detected objects in TFOD2 inference ?**"
      ],
      "metadata": {
        "id": "O5vbKzUtu5yQ"
      }
    },
    {
      "cell_type": "code",
      "source": [
        "#Run Inference (assuming model is loaded)\n",
        "output_dict = model(input_tensor)\n",
        "boxes = output_dict['detection_boxes'].numpy()\n",
        "classes = output_dict['detection_classes'].numpy().astype(np.int32)\n",
        "scores = output_dict['detection_scores'].numpy()\n"
      ],
      "metadata": {
        "id": "KZ9pfTqphxVE"
      },
      "execution_count": null,
      "outputs": []
    },
    {
      "cell_type": "code",
      "source": [
        "#visualize bounding boxes\n",
        "from object_detection.utils import visualization_utils as viz_utils\n",
        "\n",
        "# Load label map (replace with your path)\n",
        "category_index = label_map_util.create_category_index_from_labelmap('label_map.pbtxt', use_display_name=True)\n",
        "\n",
        "# Visualize bounding boxes on the image\n",
        "viz_utils.visualize_boxes_and_labels_on_image_array(\n",
        "    image,\n",
        "    boxes[0],\n",
        "    classes[0],\n",
        "    scores[0],\n",
        "    category_index,\n",
        "    instance_masks=None,\n",
        "    use_normalized_coordinates=True,\n",
        "    line_thickness=8)\n",
        "\n",
        "# Display the image with bounding boxes\n",
        "cv2.imshow('Detection Result', image)\n",
        "cv2.waitKey(0)\n",
        "cv2.destroyAllWindows()\n"
      ],
      "metadata": {
        "id": "Sb81icpXh1Gb"
      },
      "execution_count": null,
      "outputs": []
    },
    {
      "cell_type": "markdown",
      "source": [
        "**9. How do you define classes for custom training in TFOD2 ?**"
      ],
      "metadata": {
        "id": "85PqzzM1u5sx"
      }
    },
    {
      "cell_type": "markdown",
      "source": [
        "Ans:\n",
        "To define classes for custom training in TensorFlow Object Detection API (TFOD2), you need to create a label map and configure the pipeline for your custom dataset. Here are the key steps:\n",
        "\n",
        "### 1. **Create a Label Map**:\n",
        "The label map is a `.pbtxt` file that defines the mapping of class IDs to class names. Each entry corresponds to a class in your dataset.\n",
        "\n",
        "Example of `label_map.pbtxt`:\n",
        "\n",
        "```plaintext\n",
        "item {\n",
        "  id: 1\n",
        "  name: 'class_name_1'\n",
        "}\n",
        "\n",
        "item {\n",
        "  id: 2\n",
        "  name: 'class_name_2'\n",
        "}\n",
        "\n",
        "item {\n",
        "  id: 3\n",
        "  name: 'class_name_3'\n",
        "}\n",
        "```\n",
        "\n",
        "- `id` is a unique integer identifier for each class.\n",
        "- `name` is the class name.\n",
        "\n",
        "### 2. **Prepare Your Dataset**:\n",
        "Make sure your dataset is formatted properly (e.g., TFRecord format). For custom training, you need:\n",
        "- Images (in a standard format like PNG, JPEG).\n",
        "- Annotations (bounding boxes with corresponding class IDs).\n",
        "\n",
        "You can use tools like **LabelImg** or **Makesense.ai** for labeling your data, then convert annotations to the TFRecord format using TensorFlow scripts.\n",
        "\n",
        "### 3. **Modify the Configuration File**:\n",
        "You will need to modify the configuration file (`pipeline.config`) to include the label map and other custom settings for your training.\n",
        "\n",
        "- Set the path to the `label_map.pbtxt` file in the `label_map_path` field.\n",
        "- Adjust `num_classes` to the number of classes you have defined.\n",
        "\n",
        "Example configuration settings in `pipeline.config`:\n",
        "\n",
        "```plaintext\n",
        "model {\n",
        "  faster_rcnn {\n",
        "    first_stage_anchor_generator {\n",
        "      grid_anchor_generator {\n",
        "        num_base_anchors: 9\n",
        "      }\n",
        "    }\n",
        "    second_stage_box_predictor {\n",
        "      convolutional_box_predictor {\n",
        "        num_classes: 3  # Set this to the number of classes you have\n",
        "        share_box_across_classes: false\n",
        "      }\n",
        "    }\n",
        "  }\n",
        "}\n",
        "\n",
        "train_config {\n",
        "  batch_size: 24\n",
        "  fine_tune_checkpoint: \"ssd_inception_v2_coco_2017_11_17/model.ckpt\"\n",
        "  fine_tune_checkpoint_type: \"detection\"\n",
        "  label_map_path: \"path_to_label_map/label_map.pbtxt\"\n",
        "  # Other training parameters like learning rate, steps, etc.\n",
        "}\n",
        "```\n",
        "\n",
        "### 4. **Start Training**:\n",
        "Once the dataset is prepared, the label map is created, and the configuration file is updated, you can start training using the `model_main_tf2.py` script provided by TFOD2.\n",
        "\n",
        "```bash\n",
        "python model_main_tf2.py --pipeline_config_path=path/to/pipeline.config --model_dir=path/to/model_dir --alsologtostderr\n",
        "```\n",
        "\n",
        "This will start training the model using your custom classes.\n"
      ],
      "metadata": {
        "id": "q2-eYoAxiHi2"
      }
    },
    {
      "cell_type": "markdown",
      "source": [
        "**10. How do you resize an image before detecting objects ?**"
      ],
      "metadata": {
        "id": "V2mPoqW1u5n2"
      }
    },
    {
      "cell_type": "code",
      "source": [
        "import tensorflow as tf\n",
        "import numpy as np\n",
        "import cv2  # Optional: to display images\n",
        "from google.colab.patches import cv2_imshow  # Import for displaying images in Colab\n",
        "\n",
        "# Load the image\n",
        "image_path = \"/content/images1.jpeg\"\n",
        "image_np = np.array(cv2.imread(image_path))\n",
        "\n",
        "# Convert the image to a Tensor\n",
        "image_tensor = tf.convert_to_tensor(image_np)\n",
        "\n",
        "# Resize the image\n",
        "image_resized = tf.image.resize(image_tensor, [300, 300])  # Resize to 300x300, adjust as needed\n",
        "\n",
        "# Make sure the image is in the proper format (BGR to RGB)\n",
        "image_resized = image_resized.numpy()  # Convert back to numpy array if needed\n",
        "image_resized = cv2.cvtColor(image_resized, cv2.COLOR_BGR2RGB)\n",
        "\n",
        "# Optionally: Show the image using OpenCV (just for visual confirmation)\n",
        "cv2_imshow(image_resized)  # Only pass the image as argument\n"
      ],
      "metadata": {
        "colab": {
          "base_uri": "https://localhost:8080/",
          "height": 317
        },
        "id": "KWeyW8ydiZ3Z",
        "outputId": "6dce3e21-cd75-4c5b-b7c8-879c050c03d4"
      },
      "execution_count": 16,
      "outputs": [
        {
          "output_type": "display_data",
          "data": {
            "text/plain": [
              "<PIL.Image.Image image mode=RGB size=300x300>"
            ],
            "image/png": "[encoded data removed]",
            "image/jpeg": "[encoded data removed]"
          },
          "metadata": {}
        }
      ]
    },
    {
      "cell_type": "markdown",
      "source": [
        "**11.  How can you apply a color filter (e.g., red filter) to an image ?**"
      ],
      "metadata": {
        "id": "bOx8WXViu5i8"
      }
    },
    {
      "cell_type": "code",
      "source": [
        "import cv2\n",
        "import numpy as np\n",
        "from google.colab.patches import cv2_imshow  # For displaying the image in Colab\n",
        "\n",
        "# Load the image\n",
        "image_path = \"/content/images1.jpeg\"\n",
        "image = cv2.imread(image_path)\n",
        "\n",
        "# Create a copy of the image to modify\n",
        "red_filtered_image = image.copy()\n",
        "\n",
        "# Set the green and blue channels to 0 to apply the red filter\n",
        "red_filtered_image[:, :, 1] = 0  # Set green channel to 0\n",
        "red_filtered_image[:, :, 2] = 0  # Set blue channel to 0\n",
        "\n",
        "# Optionally: Show the image with the red filter\n",
        "cv2_imshow(red_filtered_image)\n"
      ],
      "metadata": {
        "colab": {
          "base_uri": "https://localhost:8080/",
          "height": 200
        },
        "id": "zJYsq6xajV3M",
        "outputId": "0b411422-22b1-4d9d-ad96-54c6d091257f"
      },
      "execution_count": 17,
      "outputs": [
        {
          "output_type": "display_data",
          "data": {
            "text/plain": [
              "<PIL.Image.Image image mode=RGB size=275x183>"
            ],
            "image/png": "[encoded data removed]",
            "image/jpeg": "[encoded data removed]"
          },
          "metadata": {}
        }
      ]
    }
  ]
}